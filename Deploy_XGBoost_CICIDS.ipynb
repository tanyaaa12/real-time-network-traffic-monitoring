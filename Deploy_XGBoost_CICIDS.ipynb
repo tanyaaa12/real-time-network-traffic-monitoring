{
 "cells": [
  {
   "cell_type": "code",
   "execution_count": 21,
   "id": "e2090295-a727-4cb4-9e0e-fac59112c43b",
   "metadata": {},
   "outputs": [
    {
     "name": "stdout",
     "output_type": "stream",
     "text": [
      "[0 0 0 ... 0 0 0]\n",
      "0.999986708667278\n",
      "[[ 97684      2]\n",
      " [     1 128024]]\n",
      "              precision    recall  f1-score   support\n",
      "\n",
      "           0       1.00      1.00      1.00     97686\n",
      "           1       1.00      1.00      1.00    128025\n",
      "\n",
      "    accuracy                           1.00    225711\n",
      "   macro avg       1.00      1.00      1.00    225711\n",
      "weighted avg       1.00      1.00      1.00    225711\n",
      "\n"
     ]
    }
   ],
   "source": [
    "import joblib\n",
    "import pandas as pd\n",
    "import numpy as np\n",
    "\n",
    "df = pd.read_csv('clean_cicids.csv')\n",
    "\n",
    "xgb = joblib.load('models/xgboost_cicids_model.pkl')\n",
    "scaler = joblib.load('models/scaler.pkl')\n",
    "\n",
    "X = df.drop('Label', axis=1)\n",
    "y = df['Label']\n",
    "\n",
    "X.replace([np.inf, -np.inf], np.nan, inplace=True)  # convert inf to nan\n",
    "X.dropna(inplace=True)  # drop rows with nan values\n",
    "\n",
    "# Align y with X\n",
    "y = y.loc[X.index]\n",
    "\n",
    "X_scaled = scaler.transform(X.values)\n",
    "\n",
    "preds = xgb.predict(X_scaled)\n",
    "\n",
    "print(preds)\n",
    "\n",
    "\n",
    "# Check results\n",
    "from sklearn.metrics import accuracy_score, confusion_matrix, classification_report\n",
    "\n",
    "print(accuracy_score(y, preds))\n",
    "print(confusion_matrix(y, preds))\n",
    "print(classification_report(y, preds))\n"
   ]
  },
  {
   "cell_type": "code",
   "execution_count": 9,
   "id": "4a185046-617d-413c-86f9-0e6f23b57578",
   "metadata": {},
   "outputs": [
    {
     "name": "stdout",
     "output_type": "stream",
     "text": [
      "Collecting shap\n",
      "  Downloading shap-0.47.1-cp312-cp312-win_amd64.whl.metadata (25 kB)\n",
      "Requirement already satisfied: numpy in c:\\users\\tanya batra\\appdata\\local\\programs\\python\\python312\\lib\\site-packages (from shap) (1.26.2)\n",
      "Requirement already satisfied: scipy in c:\\users\\tanya batra\\appdata\\local\\programs\\python\\python312\\lib\\site-packages (from shap) (1.15.2)\n",
      "Requirement already satisfied: scikit-learn in c:\\users\\tanya batra\\appdata\\local\\programs\\python\\python312\\lib\\site-packages (from shap) (1.6.1)\n",
      "Requirement already satisfied: pandas in c:\\users\\tanya batra\\appdata\\local\\programs\\python\\python312\\lib\\site-packages (from shap) (2.1.3)\n",
      "Requirement already satisfied: tqdm>=4.27.0 in c:\\users\\tanya batra\\appdata\\local\\programs\\python\\python312\\lib\\site-packages (from shap) (4.67.1)\n",
      "Requirement already satisfied: packaging>20.9 in c:\\users\\tanya batra\\appdata\\local\\programs\\python\\python312\\lib\\site-packages (from shap) (23.2)\n",
      "Collecting slicer==0.0.8 (from shap)\n",
      "  Downloading slicer-0.0.8-py3-none-any.whl.metadata (4.0 kB)\n",
      "Collecting numba>=0.54 (from shap)\n",
      "  Downloading numba-0.61.2-cp312-cp312-win_amd64.whl.metadata (2.9 kB)\n",
      "Collecting cloudpickle (from shap)\n",
      "  Downloading cloudpickle-3.1.1-py3-none-any.whl.metadata (7.1 kB)\n",
      "Requirement already satisfied: typing-extensions in c:\\users\\tanya batra\\appdata\\local\\programs\\python\\python312\\lib\\site-packages (from shap) (4.13.1)\n",
      "Collecting llvmlite<0.45,>=0.44.0dev0 (from numba>=0.54->shap)\n",
      "  Downloading llvmlite-0.44.0-cp312-cp312-win_amd64.whl.metadata (5.0 kB)\n",
      "Requirement already satisfied: colorama in c:\\users\\tanya batra\\appdata\\local\\programs\\python\\python312\\lib\\site-packages (from tqdm>=4.27.0->shap) (0.4.6)\n",
      "Requirement already satisfied: python-dateutil>=2.8.2 in c:\\users\\tanya batra\\appdata\\local\\programs\\python\\python312\\lib\\site-packages (from pandas->shap) (2.8.2)\n",
      "Requirement already satisfied: pytz>=2020.1 in c:\\users\\tanya batra\\appdata\\local\\programs\\python\\python312\\lib\\site-packages (from pandas->shap) (2023.3.post1)\n",
      "Requirement already satisfied: tzdata>=2022.1 in c:\\users\\tanya batra\\appdata\\local\\programs\\python\\python312\\lib\\site-packages (from pandas->shap) (2023.3)\n",
      "Requirement already satisfied: joblib>=1.2.0 in c:\\users\\tanya batra\\appdata\\local\\programs\\python\\python312\\lib\\site-packages (from scikit-learn->shap) (1.4.2)\n",
      "Requirement already satisfied: threadpoolctl>=3.1.0 in c:\\users\\tanya batra\\appdata\\local\\programs\\python\\python312\\lib\\site-packages (from scikit-learn->shap) (3.6.0)\n",
      "Requirement already satisfied: six>=1.5 in c:\\users\\tanya batra\\appdata\\local\\programs\\python\\python312\\lib\\site-packages (from python-dateutil>=2.8.2->pandas->shap) (1.16.0)\n",
      "Downloading shap-0.47.1-cp312-cp312-win_amd64.whl (490 kB)\n",
      "Downloading slicer-0.0.8-py3-none-any.whl (15 kB)\n",
      "Downloading numba-0.61.2-cp312-cp312-win_amd64.whl (2.8 MB)\n",
      "   ---------------------------------------- 0.0/2.8 MB ? eta -:--:--\n",
      "   ------------------------- -------------- 1.8/2.8 MB 10.1 MB/s eta 0:00:01\n",
      "   ---------------------------------------- 2.8/2.8 MB 9.1 MB/s eta 0:00:00\n",
      "Downloading cloudpickle-3.1.1-py3-none-any.whl (20 kB)\n",
      "Downloading llvmlite-0.44.0-cp312-cp312-win_amd64.whl (30.3 MB)\n",
      "   ---------------------------------------- 0.0/30.3 MB ? eta -:--:--\n",
      "   -- ------------------------------------- 2.1/30.3 MB 10.7 MB/s eta 0:00:03\n",
      "   ----- ---------------------------------- 4.2/30.3 MB 10.5 MB/s eta 0:00:03\n",
      "   -------- ------------------------------- 6.3/30.3 MB 10.2 MB/s eta 0:00:03\n",
      "   ----------- ---------------------------- 8.7/30.3 MB 10.5 MB/s eta 0:00:03\n",
      "   ------------- -------------------------- 10.2/30.3 MB 10.1 MB/s eta 0:00:02\n",
      "   ---------------- ----------------------- 12.6/30.3 MB 10.2 MB/s eta 0:00:02\n",
      "   ------------------- -------------------- 14.9/30.3 MB 10.4 MB/s eta 0:00:02\n",
      "   ----------------------- ---------------- 17.6/30.3 MB 10.5 MB/s eta 0:00:02\n",
      "   -------------------------- ------------- 19.9/30.3 MB 10.7 MB/s eta 0:00:01\n",
      "   ---------------------------- ----------- 21.8/30.3 MB 10.4 MB/s eta 0:00:01\n",
      "   ------------------------------- -------- 24.1/30.3 MB 10.5 MB/s eta 0:00:01\n",
      "   ---------------------------------- ----- 26.2/30.3 MB 10.4 MB/s eta 0:00:01\n",
      "   ------------------------------------- -- 28.6/30.3 MB 10.5 MB/s eta 0:00:01\n",
      "   ---------------------------------------  30.1/30.3 MB 10.4 MB/s eta 0:00:01\n",
      "   ---------------------------------------- 30.3/30.3 MB 9.9 MB/s eta 0:00:00\n",
      "Installing collected packages: slicer, llvmlite, cloudpickle, numba, shap\n",
      "Successfully installed cloudpickle-3.1.1 llvmlite-0.44.0 numba-0.61.2 shap-0.47.1 slicer-0.0.8\n"
     ]
    }
   ],
   "source": [
    "!pip install shap"
   ]
  },
  {
   "cell_type": "code",
   "execution_count": 3,
   "id": "2c2c318b-4967-4a46-8b73-ebbcd2468eb8",
   "metadata": {},
   "outputs": [
    {
     "data": {
      "image/png": "[encoded data removed]",
      "text/plain": [
       "<Figure size 800x550 with 2 Axes>"
      ]
     },
     "metadata": {},
     "output_type": "display_data"
    }
   ],
   "source": [
    "\"\"\"SHAP\"\"\"\n",
    "\n",
    "import shap\n",
    "import matplotlib.pyplot as plt\n",
    "\n",
    "explainer = shap.Explainer(xgb)\n",
    "#explainer = shap.Explainer(xgb, X_scaled)\n",
    "\n",
    "\n",
    "#As shap takes a lot of time on large dataset\n",
    "#so we select a small sample for speed\n",
    "X_sample = pd.DataFrame(X_scaled).sample(100)\n",
    "\n",
    "shap_values = explainer(X_sample)\n",
    "\n",
    "shap.plots.beeswarm(shap_values)"
   ]
  },
  {
   "cell_type": "code",
   "execution_count": 4,
   "id": "40eca9ca-c22f-4e54-9810-8327d5396c12",
   "metadata": {},
   "outputs": [
    {
     "data": {
      "text/html": [
       "\n",
       "<div id='iMH45O5UJ0CJLXRBVS0LJ'>\n",
       "<div style='color: #900; text-align: center;'>\n",
       "  <b>Visualization omitted, Javascript library not loaded!</b><br>\n",
       "  Have you run `initjs()` in this notebook? If this notebook was from another\n",
       "  user you must also trust this notebook (File -> Trust notebook). If you are viewing\n",
       "  this notebook on github the Javascript has been stripped for security. If you are using\n",
       "  JupyterLab this error is because a JupyterLab extension has not yet been written.\n",
       "</div></div>\n",
       " <script>\n",
       "   if (window.SHAP) SHAP.ReactDom.render(\n",
       "    SHAP.React.createElement(SHAP.AdditiveForceVisualizer, {\"outNames\": [\"f(x)\"], \"baseValue\": 0.27768567204475403, \"outValue\": -13.152313232421875, \"link\": \"identity\", \"featureNames\": [\"Destination Port\", \"Flow Duration\", \"Total Fwd Packets\", \"Total Backward Packets\", \"Total Length of Fwd Packets\", \"Total Length of Bwd Packets\", \"Fwd Packet Length Max\", \"Fwd Packet Length Min\", \"Fwd Packet Length Mean\", \"Fwd Packet Length Std\", \"Bwd Packet Length Max\", \"Bwd Packet Length Min\", \"Bwd Packet Length Mean\", \"Bwd Packet Length Std\", \"Flow Bytes/s\", \"Flow Packets/s\", \"Flow IAT Mean\", \"Flow IAT Std\", \"Flow IAT Max\", \"Flow IAT Min\", \"Fwd IAT Total\", \"Fwd IAT Mean\", \"Fwd IAT Std\", \"Fwd IAT Max\", \"Fwd IAT Min\", \"Bwd IAT Total\", \"Bwd IAT Mean\", \"Bwd IAT Std\", \"Bwd IAT Max\", \"Bwd IAT Min\", \"Fwd PSH Flags\", \"Bwd PSH Flags\", \"Fwd URG Flags\", \"Bwd URG Flags\", \"Fwd Header Length\", \"Bwd Header Length\", \"Fwd Packets/s\", \"Bwd Packets/s\", \"Min Packet Length\", \"Max Packet Length\", \"Packet Length Mean\", \"Packet Length Std\", \"Packet Length Variance\", \"FIN Flag Count\", \"SYN Flag Count\", \"RST Flag Count\", \"PSH Flag Count\", \"ACK Flag Count\", \"URG Flag Count\", \"CWE Flag Count\", \"ECE Flag Count\", \"Down/Up Ratio\", \"Average Packet Size\", \"Avg Fwd Segment Size\", \"Avg Bwd Segment Size\", \"Fwd Header Length.1\", \"Fwd Avg Bytes/Bulk\", \"Fwd Avg Packets/Bulk\", \"Fwd Avg Bulk Rate\", \"Bwd Avg Bytes/Bulk\", \"Bwd Avg Packets/Bulk\", \"Bwd Avg Bulk Rate\", \"Subflow Fwd Packets\", \"Subflow Fwd Bytes\", \"Subflow Bwd Packets\", \"Subflow Bwd Bytes\", \"Init_Win_bytes_forward\", \"Init_Win_bytes_backward\", \"act_data_pkt_fwd\", \"min_seg_size_forward\", \"Active Mean\", \"Active Std\", \"Active Max\", \"Active Min\", \"Idle Mean\", \"Idle Std\", \"Idle Max\", \"Idle Min\"], \"features\": {\"0\": {\"effect\": -0.3803136348724365, \"value\": 54865.0}, \"1\": {\"effect\": 0.040312688797712326, \"value\": 3.0}, \"2\": {\"effect\": 2.6905407139565796e-05, \"value\": 2.0}, \"3\": {\"effect\": -0.0034477002918720245, \"value\": 0.0}, \"4\": {\"effect\": 1.3056994676589966, \"value\": 12.0}, \"6\": {\"effect\": -1.8259190320968628, \"value\": 6.0}, \"8\": {\"effect\": -8.870604515075684, \"value\": 6.0}, \"9\": {\"effect\": -0.006678326521068811, \"value\": 0.0}, \"12\": {\"effect\": -0.00034403387689962983, \"value\": 0.0}, \"13\": {\"effect\": -0.2418561577796936, \"value\": 0.0}, \"14\": {\"effect\": 0.16135282814502716, \"value\": 4000000.0}, \"15\": {\"effect\": -0.3569716215133667, \"value\": 666666.6667}, \"16\": {\"effect\": -0.11319689452648163, \"value\": 3.0}, \"17\": {\"effect\": -0.3212067484855652, \"value\": 0.0}, \"18\": {\"effect\": -0.2298312783241272, \"value\": 3.0}, \"19\": {\"effect\": 0.14892899990081787, \"value\": 3.0}, \"20\": {\"effect\": -0.005141140893101692, \"value\": 3.0}, \"21\": {\"effect\": -0.054275430738925934, \"value\": 3.0}, \"22\": {\"effect\": -0.1170148029923439, \"value\": 0.0}, \"23\": {\"effect\": 0.031904660165309906, \"value\": 3.0}, \"24\": {\"effect\": -0.34145113825798035, \"value\": 3.0}, \"25\": {\"effect\": -0.015858853235840797, \"value\": 0.0}, \"26\": {\"effect\": -0.04002057760953903, \"value\": 0.0}, \"27\": {\"effect\": 0.05178342014551163, \"value\": 0.0}, \"28\": {\"effect\": 0.022775553166866302, \"value\": 0.0}, \"29\": {\"effect\": -0.02488684467971325, \"value\": 0.0}, \"34\": {\"effect\": -0.11462845653295517, \"value\": 40.0}, \"35\": {\"effect\": 0.29696109890937805, \"value\": 0.0}, \"36\": {\"effect\": -0.00775187136605382, \"value\": 666666.6667}, \"37\": {\"effect\": -0.5608556270599365, \"value\": 0.0}, \"38\": {\"effect\": 0.0023636482656002045, \"value\": 6.0}, \"40\": {\"effect\": 0.00017847333219833672, \"value\": 6.0}, \"41\": {\"effect\": -3.097754961345345e-05, \"value\": 0.0}, \"43\": {\"effect\": -0.14365223050117493, \"value\": 0.0}, \"47\": {\"effect\": -0.1264602392911911, \"value\": 1.0}, \"48\": {\"effect\": 0.011217324063181877, \"value\": 0.0}, \"51\": {\"effect\": -0.011361846700310707, \"value\": 0.0}, \"52\": {\"effect\": -0.11064998060464859, \"value\": 9.0}, \"66\": {\"effect\": -0.507725179195404, \"value\": 33.0}, \"67\": {\"effect\": -0.6994960308074951, \"value\": -1.0}, \"68\": {\"effect\": -0.12783893942832947, \"value\": 1.0}, \"70\": {\"effect\": 0.0011345486855134368, \"value\": 0.0}, \"72\": {\"effect\": 0.07252588868141174, \"value\": 0.0}, \"73\": {\"effect\": -0.08052051812410355, \"value\": 0.0}, \"74\": {\"effect\": -0.026016779243946075, \"value\": 0.0}, \"77\": {\"effect\": -0.11115702986717224, \"value\": 0.0}}, \"plot_cmap\": \"RdBu\", \"labelMargin\": 20}),\n",
       "    document.getElementById('iMH45O5UJ0CJLXRBVS0LJ')\n",
       "  );\n",
       "</script>"
      ],
      "text/plain": [
       "<shap.plots._force.AdditiveForceVisualizer at 0x20207d34260>"
      ]
     },
     "execution_count": 4,
     "metadata": {},
     "output_type": "execute_result"
    }
   ],
   "source": [
    "shap.plots.force(explainer.expected_value, shap_values[0].values, X.iloc[0])\n"
   ]
  },
  {
   "cell_type": "code",
   "execution_count": 6,
   "id": "6863140d-6bde-4043-b8f0-2b045d92ad43",
   "metadata": {},
   "outputs": [
    {
     "ename": "AttributeError",
     "evalue": "'int' object has no attribute 'split'",
     "output_type": "error",
     "traceback": [
      "\u001b[1;31m---------------------------------------------------------------------------\u001b[0m",
      "\u001b[1;31mAttributeError\u001b[0m                            Traceback (most recent call last)",
      "Cell \u001b[1;32mIn[6], line 1\u001b[0m\n\u001b[1;32m----> 1\u001b[0m \u001b[43mshap\u001b[49m\u001b[38;5;241;43m.\u001b[39;49m\u001b[43mplots\u001b[49m\u001b[38;5;241;43m.\u001b[39;49m\u001b[43mbar\u001b[49m\u001b[43m(\u001b[49m\u001b[43mshap_values\u001b[49m\u001b[43m,\u001b[49m\u001b[43m \u001b[49m\u001b[43mmax_display\u001b[49m\u001b[38;5;241;43m=\u001b[39;49m\u001b[38;5;241;43m15\u001b[39;49m\u001b[43m)\u001b[49m\n",
      "File \u001b[1;32m~\\AppData\\Local\\Programs\\Python\\Python312\\Lib\\site-packages\\shap\\plots\\_bar.py:277\u001b[0m, in \u001b[0;36mbar\u001b[1;34m(shap_values, max_display, order, clustering, clustering_cutoff, show_data, ax, show)\u001b[0m\n\u001b[0;32m    262\u001b[0m     ax\u001b[38;5;241m.\u001b[39mbarh(\n\u001b[0;32m    263\u001b[0m         y_pos \u001b[38;5;241m+\u001b[39m ypos_offset,\n\u001b[0;32m    264\u001b[0m         values[i, feature_inds],\n\u001b[1;32m   (...)\u001b[0m\n\u001b[0;32m    273\u001b[0m         label\u001b[38;5;241m=\u001b[39m\u001b[38;5;124mf\u001b[39m\u001b[38;5;124m\"\u001b[39m\u001b[38;5;132;01m{\u001b[39;00mcohort_labels[i]\u001b[38;5;132;01m}\u001b[39;00m\u001b[38;5;124m [\u001b[39m\u001b[38;5;132;01m{\u001b[39;00mcohort_sizes[i]\u001b[38;5;250m \u001b[39m\u001b[38;5;28;01mif\u001b[39;00m\u001b[38;5;250m \u001b[39mi\u001b[38;5;250m \u001b[39m\u001b[38;5;241m<\u001b[39m\u001b[38;5;250m \u001b[39m\u001b[38;5;28mlen\u001b[39m(cohort_sizes)\u001b[38;5;250m \u001b[39m\u001b[38;5;28;01melse\u001b[39;00m\u001b[38;5;250m \u001b[39m\u001b[38;5;28;01mNone\u001b[39;00m\u001b[38;5;132;01m}\u001b[39;00m\u001b[38;5;124m]\u001b[39m\u001b[38;5;124m\"\u001b[39m,\n\u001b[0;32m    274\u001b[0m     )\n\u001b[0;32m    276\u001b[0m \u001b[38;5;66;03m# draw the yticks (the 1e-8 is so matplotlib 3.3 doesn't try and collapse the ticks)\u001b[39;00m\n\u001b[1;32m--> 277\u001b[0m ax\u001b[38;5;241m.\u001b[39mset_yticks(\u001b[38;5;28mlist\u001b[39m(y_pos) \u001b[38;5;241m+\u001b[39m \u001b[38;5;28mlist\u001b[39m(y_pos \u001b[38;5;241m+\u001b[39m \u001b[38;5;241m1e-8\u001b[39m), yticklabels \u001b[38;5;241m+\u001b[39m [\u001b[43mt\u001b[49m\u001b[38;5;241;43m.\u001b[39;49m\u001b[43msplit\u001b[49m(\u001b[38;5;124m\"\u001b[39m\u001b[38;5;124m=\u001b[39m\u001b[38;5;124m\"\u001b[39m)[\u001b[38;5;241m-\u001b[39m\u001b[38;5;241m1\u001b[39m] \u001b[38;5;28;01mfor\u001b[39;00m t \u001b[38;5;129;01min\u001b[39;00m yticklabels], fontsize\u001b[38;5;241m=\u001b[39m\u001b[38;5;241m13\u001b[39m)\n\u001b[0;32m    279\u001b[0m xlen \u001b[38;5;241m=\u001b[39m ax\u001b[38;5;241m.\u001b[39mget_xlim()[\u001b[38;5;241m1\u001b[39m] \u001b[38;5;241m-\u001b[39m ax\u001b[38;5;241m.\u001b[39mget_xlim()[\u001b[38;5;241m0\u001b[39m]\n\u001b[0;32m    280\u001b[0m \u001b[38;5;66;03m# xticks = ax.get_xticks()\u001b[39;00m\n",
      "\u001b[1;31mAttributeError\u001b[0m: 'int' object has no attribute 'split'"
     ]
    },
    {
     "data": {
      "image/png": "[encoded data removed]",
      "text/plain": [
       "<Figure size 800x900 with 1 Axes>"
      ]
     },
     "metadata": {},
     "output_type": "display_data"
    }
   ],
   "source": [
    "shap.plots.bar(shap_values, max_display=15)\n"
   ]
  },
  {
   "cell_type": "code",
   "execution_count": 7,
   "id": "303d2666-bd0f-4323-ad11-3d2507382069",
   "metadata": {},
   "outputs": [
    {
     "ename": "TypeError",
     "evalue": "can only concatenate str (not \"int\") to str",
     "output_type": "error",
     "traceback": [
      "\u001b[1;31m---------------------------------------------------------------------------\u001b[0m",
      "\u001b[1;31mTypeError\u001b[0m                                 Traceback (most recent call last)",
      "Cell \u001b[1;32mIn[7], line 1\u001b[0m\n\u001b[1;32m----> 1\u001b[0m \u001b[43mshap\u001b[49m\u001b[38;5;241;43m.\u001b[39;49m\u001b[43mplots\u001b[49m\u001b[38;5;241;43m.\u001b[39;49m\u001b[43mwaterfall\u001b[49m\u001b[43m(\u001b[49m\u001b[43mshap_values\u001b[49m\u001b[43m[\u001b[49m\u001b[38;5;241;43m0\u001b[39;49m\u001b[43m]\u001b[49m\u001b[43m)\u001b[49m\n",
      "File \u001b[1;32m~\\AppData\\Local\\Programs\\Python\\Python312\\Lib\\site-packages\\shap\\plots\\_waterfall.py:143\u001b[0m, in \u001b[0;36mwaterfall\u001b[1;34m(shap_values, max_display, show)\u001b[0m\n\u001b[0;32m    140\u001b[0m \u001b[38;5;28;01melse\u001b[39;00m:\n\u001b[0;32m    141\u001b[0m     \u001b[38;5;28;01mif\u001b[39;00m np\u001b[38;5;241m.\u001b[39missubdtype(\u001b[38;5;28mtype\u001b[39m(features[order[i]]), np\u001b[38;5;241m.\u001b[39mnumber):\n\u001b[0;32m    142\u001b[0m         yticklabels[rng[i]] \u001b[38;5;241m=\u001b[39m (\n\u001b[1;32m--> 143\u001b[0m             \u001b[43mformat_value\u001b[49m\u001b[43m(\u001b[49m\u001b[38;5;28;43mfloat\u001b[39;49m\u001b[43m(\u001b[49m\u001b[43mfeatures\u001b[49m\u001b[43m[\u001b[49m\u001b[43morder\u001b[49m\u001b[43m[\u001b[49m\u001b[43mi\u001b[49m\u001b[43m]\u001b[49m\u001b[43m]\u001b[49m\u001b[43m)\u001b[49m\u001b[43m,\u001b[49m\u001b[43m \u001b[49m\u001b[38;5;124;43m\"\u001b[39;49m\u001b[38;5;132;43;01m%0.03f\u001b[39;49;00m\u001b[38;5;124;43m\"\u001b[39;49m\u001b[43m)\u001b[49m\u001b[43m \u001b[49m\u001b[38;5;241;43m+\u001b[39;49m\u001b[43m \u001b[49m\u001b[38;5;124;43m\"\u001b[39;49m\u001b[38;5;124;43m = \u001b[39;49m\u001b[38;5;124;43m\"\u001b[39;49m\u001b[43m \u001b[49m\u001b[38;5;241;43m+\u001b[39;49m\u001b[43m \u001b[49m\u001b[43mfeature_names\u001b[49m\u001b[43m[\u001b[49m\u001b[43morder\u001b[49m\u001b[43m[\u001b[49m\u001b[43mi\u001b[49m\u001b[43m]\u001b[49m\u001b[43m]\u001b[49m\n\u001b[0;32m    144\u001b[0m         )\n\u001b[0;32m    145\u001b[0m     \u001b[38;5;28;01melse\u001b[39;00m:\n\u001b[0;32m    146\u001b[0m         yticklabels[rng[i]] \u001b[38;5;241m=\u001b[39m \u001b[38;5;28mstr\u001b[39m(features[order[i]]) \u001b[38;5;241m+\u001b[39m \u001b[38;5;124m\"\u001b[39m\u001b[38;5;124m = \u001b[39m\u001b[38;5;124m\"\u001b[39m \u001b[38;5;241m+\u001b[39m \u001b[38;5;28mstr\u001b[39m(feature_names[order[i]])\n",
      "\u001b[1;31mTypeError\u001b[0m: can only concatenate str (not \"int\") to str"
     ]
    },
    {
     "data": {
      "image/png": "[encoded data removed]",
      "text/plain": [
       "<Figure size 800x650 with 1 Axes>"
      ]
     },
     "metadata": {},
     "output_type": "display_data"
    }
   ],
   "source": [
    "shap.plots.waterfall(shap_values[0])\n"
   ]
  },
  {
   "cell_type": "code",
   "execution_count": 4,
   "id": "7d1d57c8-9a9d-4b5a-866e-7fd9b0aebfe0",
   "metadata": {},
   "outputs": [
    {
     "name": "stdout",
     "output_type": "stream",
     "text": [
      "Real-Time Intrusion Detection System Activated... ⚡\n",
      "ALERT: 🚨 Attack detected at Thu Apr 10 00:57:15 2025 | Data: [[8.00000000e+01 4.78058000e+05 3.00000000e+00 4.00000000e+00\n",
      "  2.60000000e+01 1.16070000e+04 2.00000000e+01 0.00000000e+00\n",
      "  8.66666667e+00 1.02632029e+01 1.15950000e+04 0.00000000e+00\n",
      "  2.90175000e+03 5.79550069e+03 2.43338674e+04 1.46425747e+01\n",
      "  7.96763333e+04 1.94017547e+05 4.75712000e+05 4.50000000e+01\n",
      "  1.82900000e+03 9.14500000e+02 5.42350901e+02 1.29800000e+03\n",
      "  5.31000000e+02 4.78013000e+05 1.59337667e+05 2.73989168e+05\n",
      "  4.75712000e+05 4.26000000e+02 0.00000000e+00 0.00000000e+00\n",
      "  0.00000000e+00 0.00000000e+00 7.20000000e+01 9.20000000e+01\n",
      "  6.27538918e+00 8.36718557e+00 0.00000000e+00 1.15950000e+04\n",
      "  1.45412500e+03 4.09753753e+03 1.68000000e+07 0.00000000e+00\n",
      "  0.00000000e+00 0.00000000e+00 1.00000000e+00 0.00000000e+00\n",
      "  0.00000000e+00 0.00000000e+00 0.00000000e+00 1.00000000e+00\n",
      "  1.66185714e+03 8.66666667e+00 2.90175000e+03 7.20000000e+01\n",
      "  0.00000000e+00 0.00000000e+00 0.00000000e+00 0.00000000e+00\n",
      "  0.00000000e+00 0.00000000e+00 3.00000000e+00 2.60000000e+01\n",
      "  4.00000000e+00 1.16070000e+04 8.19200000e+03 2.29000000e+02\n",
      "  2.00000000e+00 2.00000000e+01 0.00000000e+00 0.00000000e+00\n",
      "  0.00000000e+00 0.00000000e+00 0.00000000e+00 0.00000000e+00\n",
      "  0.00000000e+00 0.00000000e+00]]\n"
     ]
    },
    {
     "name": "stderr",
     "output_type": "stream",
     "text": [
      "C:\\Users\\Tanya Batra\\AppData\\Local\\Programs\\Python\\Python312\\Lib\\site-packages\\sklearn\\utils\\validation.py:2732: UserWarning: X has feature names, but StandardScaler was fitted without feature names\n",
      "  warnings.warn(\n",
      "C:\\Users\\Tanya Batra\\AppData\\Local\\Programs\\Python\\Python312\\Lib\\site-packages\\sklearn\\utils\\validation.py:2732: UserWarning: X has feature names, but StandardScaler was fitted without feature names\n",
      "  warnings.warn(\n"
     ]
    },
    {
     "name": "stdout",
     "output_type": "stream",
     "text": [
      "SAFE ✅ : Normal Traffic at Thu Apr 10 00:57:20 2025\n"
     ]
    },
    {
     "name": "stderr",
     "output_type": "stream",
     "text": [
      "C:\\Users\\Tanya Batra\\AppData\\Local\\Programs\\Python\\Python312\\Lib\\site-packages\\sklearn\\utils\\validation.py:2732: UserWarning: X has feature names, but StandardScaler was fitted without feature names\n",
      "  warnings.warn(\n"
     ]
    },
    {
     "name": "stdout",
     "output_type": "stream",
     "text": [
      "SAFE ✅ : Normal Traffic at Thu Apr 10 00:57:25 2025\n"
     ]
    },
    {
     "name": "stderr",
     "output_type": "stream",
     "text": [
      "C:\\Users\\Tanya Batra\\AppData\\Local\\Programs\\Python\\Python312\\Lib\\site-packages\\sklearn\\utils\\validation.py:2732: UserWarning: X has feature names, but StandardScaler was fitted without feature names\n",
      "  warnings.warn(\n"
     ]
    },
    {
     "name": "stdout",
     "output_type": "stream",
     "text": [
      "SAFE ✅ : Normal Traffic at Thu Apr 10 00:57:30 2025\n"
     ]
    },
    {
     "name": "stderr",
     "output_type": "stream",
     "text": [
      "C:\\Users\\Tanya Batra\\AppData\\Local\\Programs\\Python\\Python312\\Lib\\site-packages\\sklearn\\utils\\validation.py:2732: UserWarning: X has feature names, but StandardScaler was fitted without feature names\n",
      "  warnings.warn(\n"
     ]
    },
    {
     "name": "stdout",
     "output_type": "stream",
     "text": [
      "ALERT: 🚨 Attack detected at Thu Apr 10 00:57:35 2025 | Data: [[8.00000000e+01 1.01976411e+08 9.00000000e+00 5.00000000e+00\n",
      "  6.20000000e+01 1.16070000e+04 2.00000000e+01 0.00000000e+00\n",
      "  6.88888889e+00 5.30199124e+00 7.21500000e+03 0.00000000e+00\n",
      "  2.32140000e+03 3.32776979e+03 1.14428424e+02 1.37286652e-01\n",
      "  7.84433931e+06 2.53000000e+07 9.15000000e+07 3.00000000e+00\n",
      "  1.02000000e+08 1.27000000e+07 3.20000000e+07 9.15000000e+07\n",
      "  1.03000000e+02 2.35531000e+05 5.88827500e+04 1.17141374e+05\n",
      "  2.34594000e+05 3.00000000e+00 0.00000000e+00 0.00000000e+00\n",
      "  0.00000000e+00 0.00000000e+00 1.92000000e+02 1.12000000e+02\n",
      "  8.82557050e-02 4.90309470e-02 0.00000000e+00 7.21500000e+03\n",
      "  7.78333333e+02 2.10703487e+03 4.43959595e+06 0.00000000e+00\n",
      "  0.00000000e+00 0.00000000e+00 0.00000000e+00 1.00000000e+00\n",
      "  0.00000000e+00 0.00000000e+00 0.00000000e+00 0.00000000e+00\n",
      "  8.33928571e+02 6.88888889e+00 2.32140000e+03 1.92000000e+02\n",
      "  0.00000000e+00 0.00000000e+00 0.00000000e+00 0.00000000e+00\n",
      "  0.00000000e+00 0.00000000e+00 9.00000000e+00 6.20000000e+01\n",
      "  5.00000000e+00 1.16070000e+04 2.56000000e+02 2.29000000e+02\n",
      "  7.00000000e+00 2.00000000e+01 2.30600000e+03 0.00000000e+00\n",
      "  2.30600000e+03 2.30600000e+03 5.09000000e+07 5.74000000e+07\n",
      "  9.15000000e+07 1.03000000e+07]]\n"
     ]
    },
    {
     "name": "stderr",
     "output_type": "stream",
     "text": [
      "C:\\Users\\Tanya Batra\\AppData\\Local\\Programs\\Python\\Python312\\Lib\\site-packages\\sklearn\\utils\\validation.py:2732: UserWarning: X has feature names, but StandardScaler was fitted without feature names\n",
      "  warnings.warn(\n"
     ]
    },
    {
     "name": "stdout",
     "output_type": "stream",
     "text": [
      "SAFE ✅ : Normal Traffic at Thu Apr 10 00:57:40 2025\n"
     ]
    },
    {
     "name": "stderr",
     "output_type": "stream",
     "text": [
      "C:\\Users\\Tanya Batra\\AppData\\Local\\Programs\\Python\\Python312\\Lib\\site-packages\\sklearn\\utils\\validation.py:2732: UserWarning: X has feature names, but StandardScaler was fitted without feature names\n",
      "  warnings.warn(\n"
     ]
    },
    {
     "name": "stdout",
     "output_type": "stream",
     "text": [
      "SAFE ✅ : Normal Traffic at Thu Apr 10 00:57:45 2025\n"
     ]
    },
    {
     "name": "stderr",
     "output_type": "stream",
     "text": [
      "C:\\Users\\Tanya Batra\\AppData\\Local\\Programs\\Python\\Python312\\Lib\\site-packages\\sklearn\\utils\\validation.py:2732: UserWarning: X has feature names, but StandardScaler was fitted without feature names\n",
      "  warnings.warn(\n"
     ]
    },
    {
     "name": "stdout",
     "output_type": "stream",
     "text": [
      "ALERT: 🚨 Attack detected at Thu Apr 10 00:57:50 2025 | Data: [[8.00000000e+01 1.61000400e+06 3.00000000e+00 5.00000000e+00\n",
      "  2.60000000e+01 1.16070000e+04 2.00000000e+01 0.00000000e+00\n",
      "  8.66666667e+00 1.02632029e+01 5.84000000e+03 0.00000000e+00\n",
      "  2.32140000e+03 3.17337388e+03 7.22544789e+03 4.96893175e+00\n",
      "  2.30000571e+05 6.08063125e+05 1.60895800e+06 4.00000000e+00\n",
      "  8.55000000e+02 4.27500000e+02 5.36694047e+02 8.07000000e+02\n",
      "  4.80000000e+01 1.60993500e+06 4.02483750e+05 8.04316246e+05\n",
      "  1.60895800e+06 4.00000000e+00 0.00000000e+00 0.00000000e+00\n",
      "  0.00000000e+00 0.00000000e+00 7.20000000e+01 1.12000000e+02\n",
      "  1.86334941e+00 3.10558235e+00 0.00000000e+00 5.84000000e+03\n",
      "  1.29255556e+03 2.55415921e+03 6.52372928e+06 0.00000000e+00\n",
      "  0.00000000e+00 0.00000000e+00 1.00000000e+00 0.00000000e+00\n",
      "  0.00000000e+00 0.00000000e+00 0.00000000e+00 1.00000000e+00\n",
      "  1.45412500e+03 8.66666667e+00 2.32140000e+03 7.20000000e+01\n",
      "  0.00000000e+00 0.00000000e+00 0.00000000e+00 0.00000000e+00\n",
      "  0.00000000e+00 0.00000000e+00 3.00000000e+00 2.60000000e+01\n",
      "  5.00000000e+00 1.16070000e+04 8.19200000e+03 2.29000000e+02\n",
      "  2.00000000e+00 2.00000000e+01 0.00000000e+00 0.00000000e+00\n",
      "  0.00000000e+00 0.00000000e+00 0.00000000e+00 0.00000000e+00\n",
      "  0.00000000e+00 0.00000000e+00]]\n"
     ]
    },
    {
     "name": "stderr",
     "output_type": "stream",
     "text": [
      "C:\\Users\\Tanya Batra\\AppData\\Local\\Programs\\Python\\Python312\\Lib\\site-packages\\sklearn\\utils\\validation.py:2732: UserWarning: X has feature names, but StandardScaler was fitted without feature names\n",
      "  warnings.warn(\n"
     ]
    },
    {
     "name": "stdout",
     "output_type": "stream",
     "text": [
      "SAFE ✅ : Normal Traffic at Thu Apr 10 00:57:55 2025\n"
     ]
    },
    {
     "name": "stderr",
     "output_type": "stream",
     "text": [
      "C:\\Users\\Tanya Batra\\AppData\\Local\\Programs\\Python\\Python312\\Lib\\site-packages\\sklearn\\utils\\validation.py:2732: UserWarning: X has feature names, but StandardScaler was fitted without feature names\n",
      "  warnings.warn(\n"
     ]
    },
    {
     "name": "stdout",
     "output_type": "stream",
     "text": [
      "SAFE ✅ : Normal Traffic at Thu Apr 10 00:58:00 2025\n"
     ]
    },
    {
     "name": "stderr",
     "output_type": "stream",
     "text": [
      "C:\\Users\\Tanya Batra\\AppData\\Local\\Programs\\Python\\Python312\\Lib\\site-packages\\sklearn\\utils\\validation.py:2732: UserWarning: X has feature names, but StandardScaler was fitted without feature names\n",
      "  warnings.warn(\n"
     ]
    },
    {
     "name": "stdout",
     "output_type": "stream",
     "text": [
      "ALERT: 🚨 Attack detected at Thu Apr 10 00:58:05 2025 | Data: [[8.00000000e+01 8.29882000e+05 3.00000000e+00 4.00000000e+00\n",
      "  2.60000000e+01 1.16010000e+04 2.00000000e+01 0.00000000e+00\n",
      "  8.66666667e+00 1.02632029e+01 8.76000000e+03 0.00000000e+00\n",
      "  2.90025000e+03 4.12831930e+03 1.40104256e+04 8.43493412e+00\n",
      "  1.38313667e+05 3.32923699e+05 8.17831000e+05 1.38000000e+02\n",
      "  1.17270000e+04 5.86350000e+03 8.07728076e+03 1.15750000e+04\n",
      "  1.52000000e+02 8.29588000e+05 2.76529333e+05 4.68815556e+05\n",
      "  8.17831000e+05 1.86000000e+02 0.00000000e+00 0.00000000e+00\n",
      "  0.00000000e+00 0.00000000e+00 7.20000000e+01 9.20000000e+01\n",
      "  3.61497177e+00 4.81996236e+00 0.00000000e+00 8.76000000e+03\n",
      "  1.45337500e+03 3.11395261e+03 9.69670084e+06 0.00000000e+00\n",
      "  0.00000000e+00 0.00000000e+00 1.00000000e+00 0.00000000e+00\n",
      "  0.00000000e+00 0.00000000e+00 0.00000000e+00 1.00000000e+00\n",
      "  1.66100000e+03 8.66666667e+00 2.90025000e+03 7.20000000e+01\n",
      "  0.00000000e+00 0.00000000e+00 0.00000000e+00 0.00000000e+00\n",
      "  0.00000000e+00 0.00000000e+00 3.00000000e+00 2.60000000e+01\n",
      "  4.00000000e+00 1.16010000e+04 8.19200000e+03 2.29000000e+02\n",
      "  2.00000000e+00 2.00000000e+01 0.00000000e+00 0.00000000e+00\n",
      "  0.00000000e+00 0.00000000e+00 0.00000000e+00 0.00000000e+00\n",
      "  0.00000000e+00 0.00000000e+00]]\n"
     ]
    },
    {
     "name": "stderr",
     "output_type": "stream",
     "text": [
      "C:\\Users\\Tanya Batra\\AppData\\Local\\Programs\\Python\\Python312\\Lib\\site-packages\\sklearn\\utils\\validation.py:2732: UserWarning: X has feature names, but StandardScaler was fitted without feature names\n",
      "  warnings.warn(\n"
     ]
    },
    {
     "name": "stdout",
     "output_type": "stream",
     "text": [
      "SAFE ✅ : Normal Traffic at Thu Apr 10 00:58:10 2025\n"
     ]
    },
    {
     "name": "stderr",
     "output_type": "stream",
     "text": [
      "C:\\Users\\Tanya Batra\\AppData\\Local\\Programs\\Python\\Python312\\Lib\\site-packages\\sklearn\\utils\\validation.py:2732: UserWarning: X has feature names, but StandardScaler was fitted without feature names\n",
      "  warnings.warn(\n"
     ]
    },
    {
     "name": "stdout",
     "output_type": "stream",
     "text": [
      "ALERT: 🚨 Attack detected at Thu Apr 10 00:58:15 2025 | Data: [[8.00000000e+01 9.94280000e+04 3.00000000e+00 7.00000000e+00\n",
      "  2.60000000e+01 1.16010000e+04 2.00000000e+01 0.00000000e+00\n",
      "  8.66666667e+00 1.02632029e+01 2.92000000e+03 0.00000000e+00\n",
      "  1.65728571e+03 1.29917214e+03 1.16938890e+05 1.00575291e+02\n",
      "  1.10475556e+04 2.69956787e+04 8.14940000e+04 5.00000000e+00\n",
      "  1.70110000e+04 8.50550000e+03 1.20215224e+04 1.70060000e+04\n",
      "  5.00000000e+00 9.93640000e+04 1.65606667e+04 3.25410182e+04\n",
      "  8.14940000e+04 1.20000000e+01 0.00000000e+00 0.00000000e+00\n",
      "  0.00000000e+00 0.00000000e+00 7.20000000e+01 1.52000000e+02\n",
      "  3.01725872e+01 7.04027035e+01 0.00000000e+00 2.92000000e+03\n",
      "  1.05700000e+03 1.30629086e+03 1.70639580e+06 0.00000000e+00\n",
      "  0.00000000e+00 0.00000000e+00 1.00000000e+00 0.00000000e+00\n",
      "  0.00000000e+00 0.00000000e+00 0.00000000e+00 2.00000000e+00\n",
      "  1.16270000e+03 8.66666667e+00 1.65728571e+03 7.20000000e+01\n",
      "  0.00000000e+00 0.00000000e+00 0.00000000e+00 0.00000000e+00\n",
      "  0.00000000e+00 0.00000000e+00 3.00000000e+00 2.60000000e+01\n",
      "  7.00000000e+00 1.16010000e+04 8.19200000e+03 2.29000000e+02\n",
      "  2.00000000e+00 2.00000000e+01 0.00000000e+00 0.00000000e+00\n",
      "  0.00000000e+00 0.00000000e+00 0.00000000e+00 0.00000000e+00\n",
      "  0.00000000e+00 0.00000000e+00]]\n"
     ]
    },
    {
     "name": "stderr",
     "output_type": "stream",
     "text": [
      "C:\\Users\\Tanya Batra\\AppData\\Local\\Programs\\Python\\Python312\\Lib\\site-packages\\sklearn\\utils\\validation.py:2732: UserWarning: X has feature names, but StandardScaler was fitted without feature names\n",
      "  warnings.warn(\n"
     ]
    },
    {
     "name": "stdout",
     "output_type": "stream",
     "text": [
      "SAFE ✅ : Normal Traffic at Thu Apr 10 00:58:20 2025\n"
     ]
    },
    {
     "name": "stderr",
     "output_type": "stream",
     "text": [
      "C:\\Users\\Tanya Batra\\AppData\\Local\\Programs\\Python\\Python312\\Lib\\site-packages\\sklearn\\utils\\validation.py:2732: UserWarning: X has feature names, but StandardScaler was fitted without feature names\n",
      "  warnings.warn(\n"
     ]
    },
    {
     "name": "stdout",
     "output_type": "stream",
     "text": [
      "SAFE ✅ : Normal Traffic at Thu Apr 10 00:58:25 2025\n"
     ]
    },
    {
     "name": "stderr",
     "output_type": "stream",
     "text": [
      "C:\\Users\\Tanya Batra\\AppData\\Local\\Programs\\Python\\Python312\\Lib\\site-packages\\sklearn\\utils\\validation.py:2732: UserWarning: X has feature names, but StandardScaler was fitted without feature names\n",
      "  warnings.warn(\n"
     ]
    },
    {
     "name": "stdout",
     "output_type": "stream",
     "text": [
      "SAFE ✅ : Normal Traffic at Thu Apr 10 00:58:30 2025\n"
     ]
    },
    {
     "name": "stderr",
     "output_type": "stream",
     "text": [
      "C:\\Users\\Tanya Batra\\AppData\\Local\\Programs\\Python\\Python312\\Lib\\site-packages\\sklearn\\utils\\validation.py:2732: UserWarning: X has feature names, but StandardScaler was fitted without feature names\n",
      "  warnings.warn(\n"
     ]
    },
    {
     "name": "stdout",
     "output_type": "stream",
     "text": [
      "SAFE ✅ : Normal Traffic at Thu Apr 10 00:58:35 2025\n"
     ]
    },
    {
     "name": "stderr",
     "output_type": "stream",
     "text": [
      "C:\\Users\\Tanya Batra\\AppData\\Local\\Programs\\Python\\Python312\\Lib\\site-packages\\sklearn\\utils\\validation.py:2732: UserWarning: X has feature names, but StandardScaler was fitted without feature names\n",
      "  warnings.warn(\n"
     ]
    },
    {
     "name": "stdout",
     "output_type": "stream",
     "text": [
      "SAFE ✅ : Normal Traffic at Thu Apr 10 00:58:40 2025\n"
     ]
    },
    {
     "name": "stderr",
     "output_type": "stream",
     "text": [
      "C:\\Users\\Tanya Batra\\AppData\\Local\\Programs\\Python\\Python312\\Lib\\site-packages\\sklearn\\utils\\validation.py:2732: UserWarning: X has feature names, but StandardScaler was fitted without feature names\n",
      "  warnings.warn(\n"
     ]
    },
    {
     "name": "stdout",
     "output_type": "stream",
     "text": [
      "SAFE ✅ : Normal Traffic at Thu Apr 10 00:58:45 2025\n"
     ]
    },
    {
     "name": "stderr",
     "output_type": "stream",
     "text": [
      "C:\\Users\\Tanya Batra\\AppData\\Local\\Programs\\Python\\Python312\\Lib\\site-packages\\sklearn\\utils\\validation.py:2732: UserWarning: X has feature names, but StandardScaler was fitted without feature names\n",
      "  warnings.warn(\n"
     ]
    },
    {
     "name": "stdout",
     "output_type": "stream",
     "text": [
      "ALERT: 🚨 Attack detected at Thu Apr 10 00:58:50 2025 | Data: [[8.00000000e+01 1.74918500e+06 2.00000000e+00 6.00000000e+00\n",
      "  2.00000000e+01 1.16070000e+04 2.00000000e+01 0.00000000e+00\n",
      "  1.00000000e+01 1.41421356e+01 5.84000000e+03 0.00000000e+00\n",
      "  1.93450000e+03 2.53891928e+03 6.64709565e+03 4.57355854e+00\n",
      "  2.49883571e+05 6.60535013e+05 1.74783600e+06 3.00000000e+00\n",
      "  1.00500000e+03 1.00500000e+03 0.00000000e+00 1.00500000e+03\n",
      "  1.00500000e+03 1.74910900e+06 3.49821800e+05 7.81513795e+05\n",
      "  1.74783600e+06 3.00000000e+00 0.00000000e+00 0.00000000e+00\n",
      "  0.00000000e+00 0.00000000e+00 5.20000000e+01 1.32000000e+02\n",
      "  1.14338964e+00 3.43016891e+00 0.00000000e+00 5.84000000e+03\n",
      "  1.29188889e+03 2.22665402e+03 4.95798811e+06 0.00000000e+00\n",
      "  0.00000000e+00 0.00000000e+00 1.00000000e+00 0.00000000e+00\n",
      "  0.00000000e+00 0.00000000e+00 0.00000000e+00 3.00000000e+00\n",
      "  1.45337500e+03 1.00000000e+01 1.93450000e+03 5.20000000e+01\n",
      "  0.00000000e+00 0.00000000e+00 0.00000000e+00 0.00000000e+00\n",
      "  0.00000000e+00 0.00000000e+00 2.00000000e+00 2.00000000e+01\n",
      "  6.00000000e+00 1.16070000e+04 8.19200000e+03 2.29000000e+02\n",
      "  1.00000000e+00 2.00000000e+01 0.00000000e+00 0.00000000e+00\n",
      "  0.00000000e+00 0.00000000e+00 0.00000000e+00 0.00000000e+00\n",
      "  0.00000000e+00 0.00000000e+00]]\n"
     ]
    },
    {
     "name": "stderr",
     "output_type": "stream",
     "text": [
      "C:\\Users\\Tanya Batra\\AppData\\Local\\Programs\\Python\\Python312\\Lib\\site-packages\\sklearn\\utils\\validation.py:2732: UserWarning: X has feature names, but StandardScaler was fitted without feature names\n",
      "  warnings.warn(\n"
     ]
    },
    {
     "name": "stdout",
     "output_type": "stream",
     "text": [
      "SAFE ✅ : Normal Traffic at Thu Apr 10 00:58:55 2025\n"
     ]
    },
    {
     "name": "stderr",
     "output_type": "stream",
     "text": [
      "C:\\Users\\Tanya Batra\\AppData\\Local\\Programs\\Python\\Python312\\Lib\\site-packages\\sklearn\\utils\\validation.py:2732: UserWarning: X has feature names, but StandardScaler was fitted without feature names\n",
      "  warnings.warn(\n"
     ]
    },
    {
     "name": "stdout",
     "output_type": "stream",
     "text": [
      "SAFE ✅ : Normal Traffic at Thu Apr 10 00:59:00 2025\n"
     ]
    },
    {
     "name": "stderr",
     "output_type": "stream",
     "text": [
      "C:\\Users\\Tanya Batra\\AppData\\Local\\Programs\\Python\\Python312\\Lib\\site-packages\\sklearn\\utils\\validation.py:2732: UserWarning: X has feature names, but StandardScaler was fitted without feature names\n",
      "  warnings.warn(\n"
     ]
    },
    {
     "name": "stdout",
     "output_type": "stream",
     "text": [
      "SAFE ✅ : Normal Traffic at Thu Apr 10 00:59:05 2025\n"
     ]
    },
    {
     "name": "stderr",
     "output_type": "stream",
     "text": [
      "C:\\Users\\Tanya Batra\\AppData\\Local\\Programs\\Python\\Python312\\Lib\\site-packages\\sklearn\\utils\\validation.py:2732: UserWarning: X has feature names, but StandardScaler was fitted without feature names\n",
      "  warnings.warn(\n"
     ]
    },
    {
     "name": "stdout",
     "output_type": "stream",
     "text": [
      "ALERT: 🚨 Attack detected at Thu Apr 10 00:59:10 2025 | Data: [[8.00000000e+01 1.45103000e+05 3.00000000e+00 7.00000000e+00\n",
      "  2.60000000e+01 1.16070000e+04 2.00000000e+01 0.00000000e+00\n",
      "  8.66666667e+00 1.02632029e+01 5.84000000e+03 0.00000000e+00\n",
      "  1.65814286e+03 2.13729708e+03 8.01706374e+04 6.89165627e+01\n",
      "  1.61225556e+04 4.80800116e+04 1.44335000e+05 3.00000000e+00\n",
      "  5.93000000e+02 2.96500000e+02 4.15071681e+02 5.90000000e+02\n",
      "  3.00000000e+00 1.45087000e+05 2.41811667e+04 5.88636293e+04\n",
      "  1.44335000e+05 3.00000000e+00 0.00000000e+00 0.00000000e+00\n",
      "  0.00000000e+00 0.00000000e+00 7.20000000e+01 1.52000000e+02\n",
      "  2.06749688e+01 4.82415939e+01 0.00000000e+00 5.84000000e+03\n",
      "  1.05754545e+03 1.85343753e+03 3.43523067e+06 0.00000000e+00\n",
      "  0.00000000e+00 0.00000000e+00 1.00000000e+00 0.00000000e+00\n",
      "  0.00000000e+00 0.00000000e+00 0.00000000e+00 2.00000000e+00\n",
      "  1.16330000e+03 8.66666667e+00 1.65814286e+03 7.20000000e+01\n",
      "  0.00000000e+00 0.00000000e+00 0.00000000e+00 0.00000000e+00\n",
      "  0.00000000e+00 0.00000000e+00 3.00000000e+00 2.60000000e+01\n",
      "  7.00000000e+00 1.16070000e+04 8.19200000e+03 2.29000000e+02\n",
      "  2.00000000e+00 2.00000000e+01 0.00000000e+00 0.00000000e+00\n",
      "  0.00000000e+00 0.00000000e+00 0.00000000e+00 0.00000000e+00\n",
      "  0.00000000e+00 0.00000000e+00]]\n"
     ]
    },
    {
     "name": "stderr",
     "output_type": "stream",
     "text": [
      "C:\\Users\\Tanya Batra\\AppData\\Local\\Programs\\Python\\Python312\\Lib\\site-packages\\sklearn\\utils\\validation.py:2732: UserWarning: X has feature names, but StandardScaler was fitted without feature names\n",
      "  warnings.warn(\n"
     ]
    },
    {
     "name": "stdout",
     "output_type": "stream",
     "text": [
      "ALERT: 🚨 Attack detected at Thu Apr 10 00:59:15 2025 | Data: [[8.00000000e+01 8.08044500e+06 7.00000000e+00 5.00000000e+00\n",
      "  5.00000000e+01 1.16010000e+04 2.00000000e+01 0.00000000e+00\n",
      "  7.14285714e+00 6.09449400e+00 8.76000000e+03 0.00000000e+00\n",
      "  2.32020000e+03 3.66889700e+03 1.44187604e+03 1.48506673e+00\n",
      "  7.34585909e+05 1.89492640e+06 6.20694600e+06 1.00000000e+00\n",
      "  8.04179100e+06 1.34029850e+06 2.49252436e+06 6.20694600e+06\n",
      "  1.00000000e+00 5.06190000e+04 1.26547500e+04 1.78779458e+04\n",
      "  3.81300000e+04 1.91000000e+02 0.00000000e+00 0.00000000e+00\n",
      "  0.00000000e+00 0.00000000e+00 1.52000000e+02 1.12000000e+02\n",
      "  8.66288923e-01 6.18777802e-01 0.00000000e+00 8.76000000e+03\n",
      "  8.96692308e+02 2.42053256e+03 5.85897790e+06 0.00000000e+00\n",
      "  0.00000000e+00 0.00000000e+00 0.00000000e+00 1.00000000e+00\n",
      "  0.00000000e+00 0.00000000e+00 0.00000000e+00 0.00000000e+00\n",
      "  9.71416667e+02 7.14285714e+00 2.32020000e+03 1.52000000e+02\n",
      "  0.00000000e+00 0.00000000e+00 0.00000000e+00 0.00000000e+00\n",
      "  0.00000000e+00 0.00000000e+00 7.00000000e+00 5.00000000e+01\n",
      "  5.00000000e+00 1.16010000e+04 2.56000000e+02 2.29000000e+02\n",
      "  5.00000000e+00 2.00000000e+01 1.82283000e+06 0.00000000e+00\n",
      "  1.82283000e+06 1.82283000e+06 6.20694600e+06 0.00000000e+00\n",
      "  6.20694600e+06 6.20694600e+06]]\n"
     ]
    },
    {
     "name": "stderr",
     "output_type": "stream",
     "text": [
      "C:\\Users\\Tanya Batra\\AppData\\Local\\Programs\\Python\\Python312\\Lib\\site-packages\\sklearn\\utils\\validation.py:2732: UserWarning: X has feature names, but StandardScaler was fitted without feature names\n",
      "  warnings.warn(\n"
     ]
    },
    {
     "name": "stdout",
     "output_type": "stream",
     "text": [
      "SAFE ✅ : Normal Traffic at Thu Apr 10 00:59:20 2025\n"
     ]
    },
    {
     "name": "stderr",
     "output_type": "stream",
     "text": [
      "C:\\Users\\Tanya Batra\\AppData\\Local\\Programs\\Python\\Python312\\Lib\\site-packages\\sklearn\\utils\\validation.py:2732: UserWarning: X has feature names, but StandardScaler was fitted without feature names\n",
      "  warnings.warn(\n"
     ]
    },
    {
     "name": "stdout",
     "output_type": "stream",
     "text": [
      "ALERT: 🚨 Attack detected at Thu Apr 10 00:59:25 2025 | Data: [[ 8.00000000e+01  4.09300700e+06  5.00000000e+00  0.00000000e+00\n",
      "   3.00000000e+01  0.00000000e+00  6.00000000e+00  6.00000000e+00\n",
      "   6.00000000e+00  0.00000000e+00  0.00000000e+00  0.00000000e+00\n",
      "   0.00000000e+00  0.00000000e+00  7.32957456e+00  1.22159576e+00\n",
      "   1.02325175e+06  2.04547487e+06  4.09146400e+06  2.19000000e+02\n",
      "   4.09300700e+06  1.02325175e+06  2.04547487e+06  4.09146400e+06\n",
      "   2.19000000e+02  0.00000000e+00  0.00000000e+00  0.00000000e+00\n",
      "   0.00000000e+00  0.00000000e+00  0.00000000e+00  0.00000000e+00\n",
      "   0.00000000e+00  0.00000000e+00  1.00000000e+02  0.00000000e+00\n",
      "   1.22159576e+00  0.00000000e+00  6.00000000e+00  6.00000000e+00\n",
      "   6.00000000e+00  0.00000000e+00  0.00000000e+00  0.00000000e+00\n",
      "   0.00000000e+00  0.00000000e+00  0.00000000e+00  1.00000000e+00\n",
      "   0.00000000e+00  0.00000000e+00  0.00000000e+00  0.00000000e+00\n",
      "   7.20000000e+00  6.00000000e+00  0.00000000e+00  1.00000000e+02\n",
      "   0.00000000e+00  0.00000000e+00  0.00000000e+00  0.00000000e+00\n",
      "   0.00000000e+00  0.00000000e+00  5.00000000e+00  3.00000000e+01\n",
      "   0.00000000e+00  0.00000000e+00  2.56000000e+02 -1.00000000e+00\n",
      "   4.00000000e+00  2.00000000e+01  0.00000000e+00  0.00000000e+00\n",
      "   0.00000000e+00  0.00000000e+00  0.00000000e+00  0.00000000e+00\n",
      "   0.00000000e+00  0.00000000e+00]]\n"
     ]
    },
    {
     "name": "stderr",
     "output_type": "stream",
     "text": [
      "C:\\Users\\Tanya Batra\\AppData\\Local\\Programs\\Python\\Python312\\Lib\\site-packages\\sklearn\\utils\\validation.py:2732: UserWarning: X has feature names, but StandardScaler was fitted without feature names\n",
      "  warnings.warn(\n"
     ]
    },
    {
     "name": "stdout",
     "output_type": "stream",
     "text": [
      "SAFE ✅ : Normal Traffic at Thu Apr 10 00:59:31 2025\n"
     ]
    },
    {
     "name": "stderr",
     "output_type": "stream",
     "text": [
      "C:\\Users\\Tanya Batra\\AppData\\Local\\Programs\\Python\\Python312\\Lib\\site-packages\\sklearn\\utils\\validation.py:2732: UserWarning: X has feature names, but StandardScaler was fitted without feature names\n",
      "  warnings.warn(\n"
     ]
    },
    {
     "name": "stdout",
     "output_type": "stream",
     "text": [
      "SAFE ✅ : Normal Traffic at Thu Apr 10 00:59:36 2025\n"
     ]
    },
    {
     "name": "stderr",
     "output_type": "stream",
     "text": [
      "C:\\Users\\Tanya Batra\\AppData\\Local\\Programs\\Python\\Python312\\Lib\\site-packages\\sklearn\\utils\\validation.py:2732: UserWarning: X has feature names, but StandardScaler was fitted without feature names\n",
      "  warnings.warn(\n"
     ]
    },
    {
     "name": "stdout",
     "output_type": "stream",
     "text": [
      "SAFE ✅ : Normal Traffic at Thu Apr 10 00:59:41 2025\n"
     ]
    },
    {
     "name": "stderr",
     "output_type": "stream",
     "text": [
      "C:\\Users\\Tanya Batra\\AppData\\Local\\Programs\\Python\\Python312\\Lib\\site-packages\\sklearn\\utils\\validation.py:2732: UserWarning: X has feature names, but StandardScaler was fitted without feature names\n",
      "  warnings.warn(\n"
     ]
    },
    {
     "name": "stdout",
     "output_type": "stream",
     "text": [
      "ALERT: 🚨 Attack detected at Thu Apr 10 00:59:46 2025 | Data: [[8.00000000e+01 9.15376940e+07 8.00000000e+00 4.00000000e+00\n",
      "  5.60000000e+01 1.16070000e+04 2.00000000e+01 0.00000000e+00\n",
      "  7.00000000e+00 5.65685425e+00 1.15950000e+04 0.00000000e+00\n",
      "  2.90175000e+03 5.79550069e+03 1.27411993e+02 1.31093536e-01\n",
      "  8.32160854e+06 2.57000000e+07 8.58000000e+07 2.00000000e+00\n",
      "  8.99000000e+07 1.28000000e+07 3.22000000e+07 8.58000000e+07\n",
      "  1.63000000e+02 1.65453900e+06 5.51513000e+05 9.54480473e+05\n",
      "  1.65365200e+06 5.00000000e+00 0.00000000e+00 0.00000000e+00\n",
      "  0.00000000e+00 0.00000000e+00 1.72000000e+02 9.20000000e+01\n",
      "  8.73956910e-02 4.36978450e-02 0.00000000e+00 1.15950000e+04\n",
      "  8.97615385e+02 3.21416753e+03 1.03000000e+07 0.00000000e+00\n",
      "  0.00000000e+00 0.00000000e+00 0.00000000e+00 1.00000000e+00\n",
      "  0.00000000e+00 0.00000000e+00 0.00000000e+00 0.00000000e+00\n",
      "  9.72416667e+02 7.00000000e+00 2.90175000e+03 1.72000000e+02\n",
      "  0.00000000e+00 0.00000000e+00 0.00000000e+00 0.00000000e+00\n",
      "  0.00000000e+00 0.00000000e+00 8.00000000e+00 5.60000000e+01\n",
      "  4.00000000e+00 1.16070000e+04 2.56000000e+02 2.29000000e+02\n",
      "  6.00000000e+00 2.00000000e+01 4.04348700e+06 0.00000000e+00\n",
      "  4.04348700e+06 4.04348700e+06 8.58000000e+07 0.00000000e+00\n",
      "  8.58000000e+07 8.58000000e+07]]\n"
     ]
    },
    {
     "name": "stderr",
     "output_type": "stream",
     "text": [
      "C:\\Users\\Tanya Batra\\AppData\\Local\\Programs\\Python\\Python312\\Lib\\site-packages\\sklearn\\utils\\validation.py:2732: UserWarning: X has feature names, but StandardScaler was fitted without feature names\n",
      "  warnings.warn(\n"
     ]
    },
    {
     "name": "stdout",
     "output_type": "stream",
     "text": [
      "ALERT: 🚨 Attack detected at Thu Apr 10 00:59:51 2025 | Data: [[8.00000000e+01 1.07658000e+06 3.00000000e+00 6.00000000e+00\n",
      "  2.60000000e+01 1.16070000e+04 2.00000000e+01 0.00000000e+00\n",
      "  8.66666667e+00 1.02632029e+01 5.75500000e+03 0.00000000e+00\n",
      "  1.93450000e+03 2.52912457e+03 1.08055138e+04 8.35980605e+00\n",
      "  1.34572500e+05 3.80162706e+05 1.07542700e+06 3.00000000e+00\n",
      "  8.75000000e+02 4.37500000e+02 4.57498087e+02 7.61000000e+02\n",
      "  1.14000000e+02 1.07656500e+06 2.15313000e+05 4.80818482e+05\n",
      "  1.07542700e+06 3.00000000e+00 0.00000000e+00 0.00000000e+00\n",
      "  0.00000000e+00 0.00000000e+00 7.20000000e+01 1.32000000e+02\n",
      "  2.78660202e+00 5.57320403e+00 0.00000000e+00 5.75500000e+03\n",
      "  1.16330000e+03 2.13187096e+03 4.54487379e+06 0.00000000e+00\n",
      "  0.00000000e+00 0.00000000e+00 1.00000000e+00 0.00000000e+00\n",
      "  0.00000000e+00 0.00000000e+00 0.00000000e+00 2.00000000e+00\n",
      "  1.29255556e+03 8.66666667e+00 1.93450000e+03 7.20000000e+01\n",
      "  0.00000000e+00 0.00000000e+00 0.00000000e+00 0.00000000e+00\n",
      "  0.00000000e+00 0.00000000e+00 3.00000000e+00 2.60000000e+01\n",
      "  6.00000000e+00 1.16070000e+04 8.19200000e+03 2.29000000e+02\n",
      "  2.00000000e+00 2.00000000e+01 0.00000000e+00 0.00000000e+00\n",
      "  0.00000000e+00 0.00000000e+00 0.00000000e+00 0.00000000e+00\n",
      "  0.00000000e+00 0.00000000e+00]]\n"
     ]
    },
    {
     "name": "stderr",
     "output_type": "stream",
     "text": [
      "C:\\Users\\Tanya Batra\\AppData\\Local\\Programs\\Python\\Python312\\Lib\\site-packages\\sklearn\\utils\\validation.py:2732: UserWarning: X has feature names, but StandardScaler was fitted without feature names\n",
      "  warnings.warn(\n"
     ]
    },
    {
     "name": "stdout",
     "output_type": "stream",
     "text": [
      "SAFE ✅ : Normal Traffic at Thu Apr 10 00:59:56 2025\n"
     ]
    },
    {
     "name": "stderr",
     "output_type": "stream",
     "text": [
      "C:\\Users\\Tanya Batra\\AppData\\Local\\Programs\\Python\\Python312\\Lib\\site-packages\\sklearn\\utils\\validation.py:2732: UserWarning: X has feature names, but StandardScaler was fitted without feature names\n",
      "  warnings.warn(\n"
     ]
    },
    {
     "name": "stdout",
     "output_type": "stream",
     "text": [
      "SAFE ✅ : Normal Traffic at Thu Apr 10 01:00:01 2025\n"
     ]
    },
    {
     "name": "stderr",
     "output_type": "stream",
     "text": [
      "C:\\Users\\Tanya Batra\\AppData\\Local\\Programs\\Python\\Python312\\Lib\\site-packages\\sklearn\\utils\\validation.py:2732: UserWarning: X has feature names, but StandardScaler was fitted without feature names\n",
      "  warnings.warn(\n"
     ]
    },
    {
     "name": "stdout",
     "output_type": "stream",
     "text": [
      "ALERT: 🚨 Attack detected at Thu Apr 10 01:00:06 2025 | Data: [[8.00000000e+01 1.07580700e+06 3.00000000e+00 5.00000000e+00\n",
      "  2.60000000e+01 1.16070000e+04 2.00000000e+01 0.00000000e+00\n",
      "  8.66666667e+00 1.02632029e+01 5.84000000e+03 0.00000000e+00\n",
      "  2.32140000e+03 3.17337388e+03 1.08132779e+04 7.43627807e+00\n",
      "  1.53686714e+05 4.06086857e+05 1.07460500e+06 2.00000000e+00\n",
      "  9.52000000e+02 4.76000000e+02 4.83661038e+02 8.18000000e+02\n",
      "  1.34000000e+02 1.07568700e+06 2.68921750e+05 5.37122321e+05\n",
      "  1.07460500e+06 2.00000000e+00 0.00000000e+00 0.00000000e+00\n",
      "  0.00000000e+00 0.00000000e+00 7.20000000e+01 1.12000000e+02\n",
      "  2.78860428e+00 4.64767379e+00 0.00000000e+00 5.84000000e+03\n",
      "  1.29255556e+03 2.55415921e+03 6.52372928e+06 0.00000000e+00\n",
      "  0.00000000e+00 0.00000000e+00 1.00000000e+00 0.00000000e+00\n",
      "  0.00000000e+00 0.00000000e+00 0.00000000e+00 1.00000000e+00\n",
      "  1.45412500e+03 8.66666667e+00 2.32140000e+03 7.20000000e+01\n",
      "  0.00000000e+00 0.00000000e+00 0.00000000e+00 0.00000000e+00\n",
      "  0.00000000e+00 0.00000000e+00 3.00000000e+00 2.60000000e+01\n",
      "  5.00000000e+00 1.16070000e+04 8.19200000e+03 2.29000000e+02\n",
      "  2.00000000e+00 2.00000000e+01 0.00000000e+00 0.00000000e+00\n",
      "  0.00000000e+00 0.00000000e+00 0.00000000e+00 0.00000000e+00\n",
      "  0.00000000e+00 0.00000000e+00]]\n"
     ]
    },
    {
     "name": "stderr",
     "output_type": "stream",
     "text": [
      "C:\\Users\\Tanya Batra\\AppData\\Local\\Programs\\Python\\Python312\\Lib\\site-packages\\sklearn\\utils\\validation.py:2732: UserWarning: X has feature names, but StandardScaler was fitted without feature names\n",
      "  warnings.warn(\n"
     ]
    },
    {
     "name": "stdout",
     "output_type": "stream",
     "text": [
      "SAFE ✅ : Normal Traffic at Thu Apr 10 01:00:11 2025\n"
     ]
    },
    {
     "name": "stderr",
     "output_type": "stream",
     "text": [
      "C:\\Users\\Tanya Batra\\AppData\\Local\\Programs\\Python\\Python312\\Lib\\site-packages\\sklearn\\utils\\validation.py:2732: UserWarning: X has feature names, but StandardScaler was fitted without feature names\n",
      "  warnings.warn(\n"
     ]
    },
    {
     "name": "stdout",
     "output_type": "stream",
     "text": [
      "SAFE ✅ : Normal Traffic at Thu Apr 10 01:00:16 2025\n"
     ]
    },
    {
     "name": "stderr",
     "output_type": "stream",
     "text": [
      "C:\\Users\\Tanya Batra\\AppData\\Local\\Programs\\Python\\Python312\\Lib\\site-packages\\sklearn\\utils\\validation.py:2732: UserWarning: X has feature names, but StandardScaler was fitted without feature names\n",
      "  warnings.warn(\n"
     ]
    },
    {
     "name": "stdout",
     "output_type": "stream",
     "text": [
      "ALERT: 🚨 Attack detected at Thu Apr 10 01:00:21 2025 | Data: [[8.00000000e+01 1.83002100e+06 3.00000000e+00 5.00000000e+00\n",
      "  2.60000000e+01 1.16070000e+04 2.00000000e+01 0.00000000e+00\n",
      "  8.66666667e+00 1.02632029e+01 7.21500000e+03 0.00000000e+00\n",
      "  2.32140000e+03 3.32776979e+03 6.35675766e+03 4.37153453e+00\n",
      "  2.61431571e+05 6.90528678e+05 1.82740300e+06 3.40000000e+01\n",
      "  2.19000000e+03 1.09500000e+03 5.51543289e+02 1.48500000e+03\n",
      "  7.05000000e+02 1.82998700e+06 4.57496750e+05 9.13271354e+05\n",
      "  1.82740300e+06 1.60000000e+02 0.00000000e+00 0.00000000e+00\n",
      "  0.00000000e+00 0.00000000e+00 7.20000000e+01 1.12000000e+02\n",
      "  1.63932545e+00 2.73220908e+00 0.00000000e+00 7.21500000e+03\n",
      "  1.29255556e+03 2.65058565e+03 7.02560428e+06 0.00000000e+00\n",
      "  0.00000000e+00 0.00000000e+00 1.00000000e+00 0.00000000e+00\n",
      "  0.00000000e+00 0.00000000e+00 0.00000000e+00 1.00000000e+00\n",
      "  1.45412500e+03 8.66666667e+00 2.32140000e+03 7.20000000e+01\n",
      "  0.00000000e+00 0.00000000e+00 0.00000000e+00 0.00000000e+00\n",
      "  0.00000000e+00 0.00000000e+00 3.00000000e+00 2.60000000e+01\n",
      "  5.00000000e+00 1.16070000e+04 8.19200000e+03 2.29000000e+02\n",
      "  2.00000000e+00 2.00000000e+01 0.00000000e+00 0.00000000e+00\n",
      "  0.00000000e+00 0.00000000e+00 0.00000000e+00 0.00000000e+00\n",
      "  0.00000000e+00 0.00000000e+00]]\n"
     ]
    },
    {
     "name": "stderr",
     "output_type": "stream",
     "text": [
      "C:\\Users\\Tanya Batra\\AppData\\Local\\Programs\\Python\\Python312\\Lib\\site-packages\\sklearn\\utils\\validation.py:2732: UserWarning: X has feature names, but StandardScaler was fitted without feature names\n",
      "  warnings.warn(\n"
     ]
    },
    {
     "name": "stdout",
     "output_type": "stream",
     "text": [
      "ALERT: 🚨 Attack detected at Thu Apr 10 01:00:26 2025 | Data: [[8.00000000e+01 7.41508650e+07 9.00000000e+00 6.00000000e+00\n",
      "  6.20000000e+01 1.16070000e+04 2.00000000e+01 0.00000000e+00\n",
      "  6.88888889e+00 5.30199124e+00 5.84000000e+03 0.00000000e+00\n",
      "  1.93450000e+03 2.53891928e+03 1.57368360e+02 2.02290290e-01\n",
      "  5.29649036e+06 1.76000000e+07 6.59000000e+07 1.00000000e+00\n",
      "  7.37000000e+07 9.21405225e+06 2.31000000e+07 6.59000000e+07\n",
      "  1.00000000e+00 4.40351000e+05 8.80702000e+04 1.95353859e+05\n",
      "  4.37527000e+05 4.70000000e+01 0.00000000e+00 0.00000000e+00\n",
      "  0.00000000e+00 0.00000000e+00 1.92000000e+02 1.32000000e+02\n",
      "  1.21374174e-01 8.09161160e-02 0.00000000e+00 5.84000000e+03\n",
      "  7.29687500e+02 1.75434477e+03 3.07772556e+06 0.00000000e+00\n",
      "  0.00000000e+00 0.00000000e+00 0.00000000e+00 1.00000000e+00\n",
      "  0.00000000e+00 0.00000000e+00 0.00000000e+00 0.00000000e+00\n",
      "  7.78333333e+02 6.88888889e+00 1.93450000e+03 1.92000000e+02\n",
      "  0.00000000e+00 0.00000000e+00 0.00000000e+00 0.00000000e+00\n",
      "  0.00000000e+00 0.00000000e+00 9.00000000e+00 6.20000000e+01\n",
      "  6.00000000e+00 1.16070000e+04 2.56000000e+02 2.29000000e+02\n",
      "  7.00000000e+00 2.00000000e+01 6.00000000e+00 0.00000000e+00\n",
      "  6.00000000e+00 6.00000000e+00 3.69000000e+07 4.11000000e+07\n",
      "  6.59000000e+07 7.82279700e+06]]\n"
     ]
    },
    {
     "name": "stderr",
     "output_type": "stream",
     "text": [
      "C:\\Users\\Tanya Batra\\AppData\\Local\\Programs\\Python\\Python312\\Lib\\site-packages\\sklearn\\utils\\validation.py:2732: UserWarning: X has feature names, but StandardScaler was fitted without feature names\n",
      "  warnings.warn(\n"
     ]
    },
    {
     "name": "stdout",
     "output_type": "stream",
     "text": [
      "ALERT: 🚨 Attack detected at Thu Apr 10 01:00:31 2025 | Data: [[8.00000000e+01 4.90029000e+05 3.00000000e+00 4.00000000e+00\n",
      "  2.60000000e+01 1.16010000e+04 2.00000000e+01 0.00000000e+00\n",
      "  8.66666667e+00 1.02632029e+01 8.76000000e+03 0.00000000e+00\n",
      "  2.90025000e+03 4.12831930e+03 2.37271672e+04 1.42848689e+01\n",
      "  8.16715000e+04 1.94914164e+05 4.79452000e+05 1.80000000e+01\n",
      "  1.03450000e+04 5.17250000e+03 7.18774043e+03 1.02550000e+04\n",
      "  9.00000000e+01 4.90011000e+05 1.63337000e+05 2.73811130e+05\n",
      "  4.79452000e+05 1.79000000e+02 0.00000000e+00 0.00000000e+00\n",
      "  0.00000000e+00 0.00000000e+00 7.20000000e+01 9.20000000e+01\n",
      "  6.12208665e+00 8.16278220e+00 0.00000000e+00 8.76000000e+03\n",
      "  1.45337500e+03 3.11395261e+03 9.69670084e+06 0.00000000e+00\n",
      "  0.00000000e+00 0.00000000e+00 1.00000000e+00 0.00000000e+00\n",
      "  0.00000000e+00 0.00000000e+00 0.00000000e+00 1.00000000e+00\n",
      "  1.66100000e+03 8.66666667e+00 2.90025000e+03 7.20000000e+01\n",
      "  0.00000000e+00 0.00000000e+00 0.00000000e+00 0.00000000e+00\n",
      "  0.00000000e+00 0.00000000e+00 3.00000000e+00 2.60000000e+01\n",
      "  4.00000000e+00 1.16010000e+04 8.19200000e+03 2.29000000e+02\n",
      "  2.00000000e+00 2.00000000e+01 0.00000000e+00 0.00000000e+00\n",
      "  0.00000000e+00 0.00000000e+00 0.00000000e+00 0.00000000e+00\n",
      "  0.00000000e+00 0.00000000e+00]]\n"
     ]
    },
    {
     "name": "stderr",
     "output_type": "stream",
     "text": [
      "C:\\Users\\Tanya Batra\\AppData\\Local\\Programs\\Python\\Python312\\Lib\\site-packages\\sklearn\\utils\\validation.py:2732: UserWarning: X has feature names, but StandardScaler was fitted without feature names\n",
      "  warnings.warn(\n"
     ]
    },
    {
     "name": "stdout",
     "output_type": "stream",
     "text": [
      "ALERT: 🚨 Attack detected at Thu Apr 10 01:00:36 2025 | Data: [[ 8.00000000e+01  3.11893000e+06  5.00000000e+00  0.00000000e+00\n",
      "   3.00000000e+01  0.00000000e+00  6.00000000e+00  6.00000000e+00\n",
      "   6.00000000e+00  0.00000000e+00  0.00000000e+00  0.00000000e+00\n",
      "   0.00000000e+00  0.00000000e+00  9.61868333e+00  1.60311389e+00\n",
      "   7.79732500e+05  1.55858904e+06  3.11761600e+06  4.00000000e+00\n",
      "   3.11893000e+06  7.79732500e+05  1.55858904e+06  3.11761600e+06\n",
      "   4.00000000e+00  0.00000000e+00  0.00000000e+00  0.00000000e+00\n",
      "   0.00000000e+00  0.00000000e+00  0.00000000e+00  0.00000000e+00\n",
      "   0.00000000e+00  0.00000000e+00  1.00000000e+02  0.00000000e+00\n",
      "   1.60311389e+00  0.00000000e+00  6.00000000e+00  6.00000000e+00\n",
      "   6.00000000e+00  0.00000000e+00  0.00000000e+00  0.00000000e+00\n",
      "   0.00000000e+00  0.00000000e+00  0.00000000e+00  1.00000000e+00\n",
      "   0.00000000e+00  0.00000000e+00  0.00000000e+00  0.00000000e+00\n",
      "   7.20000000e+00  6.00000000e+00  0.00000000e+00  1.00000000e+02\n",
      "   0.00000000e+00  0.00000000e+00  0.00000000e+00  0.00000000e+00\n",
      "   0.00000000e+00  0.00000000e+00  5.00000000e+00  3.00000000e+01\n",
      "   0.00000000e+00  0.00000000e+00  2.56000000e+02 -1.00000000e+00\n",
      "   4.00000000e+00  2.00000000e+01  0.00000000e+00  0.00000000e+00\n",
      "   0.00000000e+00  0.00000000e+00  0.00000000e+00  0.00000000e+00\n",
      "   0.00000000e+00  0.00000000e+00]]\n"
     ]
    },
    {
     "name": "stderr",
     "output_type": "stream",
     "text": [
      "C:\\Users\\Tanya Batra\\AppData\\Local\\Programs\\Python\\Python312\\Lib\\site-packages\\sklearn\\utils\\validation.py:2732: UserWarning: X has feature names, but StandardScaler was fitted without feature names\n",
      "  warnings.warn(\n"
     ]
    },
    {
     "name": "stdout",
     "output_type": "stream",
     "text": [
      "SAFE ✅ : Normal Traffic at Thu Apr 10 01:00:41 2025\n"
     ]
    },
    {
     "name": "stderr",
     "output_type": "stream",
     "text": [
      "C:\\Users\\Tanya Batra\\AppData\\Local\\Programs\\Python\\Python312\\Lib\\site-packages\\sklearn\\utils\\validation.py:2732: UserWarning: X has feature names, but StandardScaler was fitted without feature names\n",
      "  warnings.warn(\n"
     ]
    },
    {
     "name": "stdout",
     "output_type": "stream",
     "text": [
      "SAFE ✅ : Normal Traffic at Thu Apr 10 01:00:46 2025\n"
     ]
    },
    {
     "name": "stderr",
     "output_type": "stream",
     "text": [
      "C:\\Users\\Tanya Batra\\AppData\\Local\\Programs\\Python\\Python312\\Lib\\site-packages\\sklearn\\utils\\validation.py:2732: UserWarning: X has feature names, but StandardScaler was fitted without feature names\n",
      "  warnings.warn(\n"
     ]
    },
    {
     "name": "stdout",
     "output_type": "stream",
     "text": [
      "ALERT: 🚨 Attack detected at Thu Apr 10 01:00:51 2025 | Data: [[8.00000000e+01 9.31991630e+07 8.00000000e+00 6.00000000e+00\n",
      "  5.60000000e+01 1.16010000e+04 2.00000000e+01 0.00000000e+00\n",
      "  7.00000000e+00 5.65685425e+00 5.84000000e+03 0.00000000e+00\n",
      "  1.93350000e+03 2.20107826e+03 1.25076231e+02 1.50215941e-01\n",
      "  7.16916638e+06 2.56000000e+07 9.22000000e+07 1.00000000e+00\n",
      "  9.32000000e+07 1.33000000e+07 3.48000000e+07 9.22000000e+07\n",
      "  1.00000000e+00 4.53320000e+04 9.06640000e+03 1.47282064e+04\n",
      "  3.40150000e+04 4.70000000e+01 0.00000000e+00 0.00000000e+00\n",
      "  0.00000000e+00 0.00000000e+00 1.72000000e+02 1.32000000e+02\n",
      "  8.58376810e-02 6.43782610e-02 0.00000000e+00 5.84000000e+03\n",
      "  7.77533333e+02 1.63852158e+03 2.68475298e+06 0.00000000e+00\n",
      "  0.00000000e+00 0.00000000e+00 0.00000000e+00 1.00000000e+00\n",
      "  0.00000000e+00 0.00000000e+00 0.00000000e+00 0.00000000e+00\n",
      "  8.33071429e+02 7.00000000e+00 1.93350000e+03 1.72000000e+02\n",
      "  0.00000000e+00 0.00000000e+00 0.00000000e+00 0.00000000e+00\n",
      "  0.00000000e+00 0.00000000e+00 8.00000000e+00 5.60000000e+01\n",
      "  6.00000000e+00 1.16010000e+04 2.56000000e+02 2.29000000e+02\n",
      "  6.00000000e+00 2.00000000e+01 9.29545000e+05 0.00000000e+00\n",
      "  9.29545000e+05 9.29545000e+05 9.22000000e+07 0.00000000e+00\n",
      "  9.22000000e+07 9.22000000e+07]]\n"
     ]
    },
    {
     "name": "stderr",
     "output_type": "stream",
     "text": [
      "C:\\Users\\Tanya Batra\\AppData\\Local\\Programs\\Python\\Python312\\Lib\\site-packages\\sklearn\\utils\\validation.py:2732: UserWarning: X has feature names, but StandardScaler was fitted without feature names\n",
      "  warnings.warn(\n"
     ]
    },
    {
     "name": "stdout",
     "output_type": "stream",
     "text": [
      "SAFE ✅ : Normal Traffic at Thu Apr 10 01:00:56 2025\n"
     ]
    },
    {
     "name": "stderr",
     "output_type": "stream",
     "text": [
      "C:\\Users\\Tanya Batra\\AppData\\Local\\Programs\\Python\\Python312\\Lib\\site-packages\\sklearn\\utils\\validation.py:2732: UserWarning: X has feature names, but StandardScaler was fitted without feature names\n",
      "  warnings.warn(\n"
     ]
    },
    {
     "name": "stdout",
     "output_type": "stream",
     "text": [
      "SAFE ✅ : Normal Traffic at Thu Apr 10 01:01:01 2025\n"
     ]
    },
    {
     "name": "stderr",
     "output_type": "stream",
     "text": [
      "C:\\Users\\Tanya Batra\\AppData\\Local\\Programs\\Python\\Python312\\Lib\\site-packages\\sklearn\\utils\\validation.py:2732: UserWarning: X has feature names, but StandardScaler was fitted without feature names\n",
      "  warnings.warn(\n"
     ]
    },
    {
     "name": "stdout",
     "output_type": "stream",
     "text": [
      "ALERT: 🚨 Attack detected at Thu Apr 10 01:01:06 2025 | Data: [[8.00000000e+01 7.82150000e+04 3.00000000e+00 4.00000000e+00\n",
      "  2.60000000e+01 1.16010000e+04 2.00000000e+01 0.00000000e+00\n",
      "  8.66666667e+00 1.02632029e+01 8.76000000e+03 0.00000000e+00\n",
      "  2.90025000e+03 4.12831930e+03 1.48654350e+05 8.94968996e+01\n",
      "  1.30358333e+04 2.95396475e+04 7.32430000e+04 8.80000000e+01\n",
      "  4.69600000e+03 2.34800000e+03 2.94439264e+03 4.43000000e+03\n",
      "  2.66000000e+02 7.80110000e+04 2.60036667e+04 4.09693590e+04\n",
      "  7.32430000e+04 1.88000000e+02 0.00000000e+00 0.00000000e+00\n",
      "  0.00000000e+00 0.00000000e+00 7.20000000e+01 9.20000000e+01\n",
      "  3.83558141e+01 5.11410855e+01 0.00000000e+00 8.76000000e+03\n",
      "  1.45337500e+03 3.11395261e+03 9.69670084e+06 0.00000000e+00\n",
      "  0.00000000e+00 0.00000000e+00 1.00000000e+00 0.00000000e+00\n",
      "  0.00000000e+00 0.00000000e+00 0.00000000e+00 1.00000000e+00\n",
      "  1.66100000e+03 8.66666667e+00 2.90025000e+03 7.20000000e+01\n",
      "  0.00000000e+00 0.00000000e+00 0.00000000e+00 0.00000000e+00\n",
      "  0.00000000e+00 0.00000000e+00 3.00000000e+00 2.60000000e+01\n",
      "  4.00000000e+00 1.16010000e+04 8.19200000e+03 2.29000000e+02\n",
      "  2.00000000e+00 2.00000000e+01 0.00000000e+00 0.00000000e+00\n",
      "  0.00000000e+00 0.00000000e+00 0.00000000e+00 0.00000000e+00\n",
      "  0.00000000e+00 0.00000000e+00]]\n"
     ]
    },
    {
     "name": "stderr",
     "output_type": "stream",
     "text": [
      "C:\\Users\\Tanya Batra\\AppData\\Local\\Programs\\Python\\Python312\\Lib\\site-packages\\sklearn\\utils\\validation.py:2732: UserWarning: X has feature names, but StandardScaler was fitted without feature names\n",
      "  warnings.warn(\n"
     ]
    },
    {
     "name": "stdout",
     "output_type": "stream",
     "text": [
      "SAFE ✅ : Normal Traffic at Thu Apr 10 01:01:11 2025\n"
     ]
    },
    {
     "name": "stderr",
     "output_type": "stream",
     "text": [
      "C:\\Users\\Tanya Batra\\AppData\\Local\\Programs\\Python\\Python312\\Lib\\site-packages\\sklearn\\utils\\validation.py:2732: UserWarning: X has feature names, but StandardScaler was fitted without feature names\n",
      "  warnings.warn(\n"
     ]
    },
    {
     "name": "stdout",
     "output_type": "stream",
     "text": [
      "SAFE ✅ : Normal Traffic at Thu Apr 10 01:01:16 2025\n"
     ]
    },
    {
     "name": "stderr",
     "output_type": "stream",
     "text": [
      "C:\\Users\\Tanya Batra\\AppData\\Local\\Programs\\Python\\Python312\\Lib\\site-packages\\sklearn\\utils\\validation.py:2732: UserWarning: X has feature names, but StandardScaler was fitted without feature names\n",
      "  warnings.warn(\n"
     ]
    },
    {
     "name": "stdout",
     "output_type": "stream",
     "text": [
      "ALERT: 🚨 Attack detected at Thu Apr 10 01:01:21 2025 | Data: [[8.00000000e+01 8.73843000e+05 3.00000000e+00 5.00000000e+00\n",
      "  2.60000000e+01 1.16070000e+04 2.00000000e+01 0.00000000e+00\n",
      "  8.66666667e+00 1.02632029e+01 1.01350000e+04 0.00000000e+00\n",
      "  2.32140000e+03 4.41320199e+03 1.33124600e+04 9.15496262e+00\n",
      "  1.24834714e+05 3.28974007e+05 8.70875000e+05 3.00000000e+00\n",
      "  2.53200000e+03 1.26600000e+03 1.78615173e+03 2.52900000e+03\n",
      "  3.00000000e+00 8.73760000e+05 2.18440000e+05 4.34958073e+05\n",
      "  8.70875000e+05 1.63000000e+02 0.00000000e+00 0.00000000e+00\n",
      "  0.00000000e+00 0.00000000e+00 7.20000000e+01 1.12000000e+02\n",
      "  3.43311098e+00 5.72185164e+00 0.00000000e+00 1.01350000e+04\n",
      "  1.29255556e+03 3.35063491e+03 1.12000000e+07 0.00000000e+00\n",
      "  0.00000000e+00 0.00000000e+00 1.00000000e+00 0.00000000e+00\n",
      "  0.00000000e+00 0.00000000e+00 0.00000000e+00 1.00000000e+00\n",
      "  1.45412500e+03 8.66666667e+00 2.32140000e+03 7.20000000e+01\n",
      "  0.00000000e+00 0.00000000e+00 0.00000000e+00 0.00000000e+00\n",
      "  0.00000000e+00 0.00000000e+00 3.00000000e+00 2.60000000e+01\n",
      "  5.00000000e+00 1.16070000e+04 8.19200000e+03 2.29000000e+02\n",
      "  2.00000000e+00 2.00000000e+01 0.00000000e+00 0.00000000e+00\n",
      "  0.00000000e+00 0.00000000e+00 0.00000000e+00 0.00000000e+00\n",
      "  0.00000000e+00 0.00000000e+00]]\n"
     ]
    },
    {
     "name": "stderr",
     "output_type": "stream",
     "text": [
      "C:\\Users\\Tanya Batra\\AppData\\Local\\Programs\\Python\\Python312\\Lib\\site-packages\\sklearn\\utils\\validation.py:2732: UserWarning: X has feature names, but StandardScaler was fitted without feature names\n",
      "  warnings.warn(\n"
     ]
    },
    {
     "name": "stdout",
     "output_type": "stream",
     "text": [
      "SAFE ✅ : Normal Traffic at Thu Apr 10 01:01:26 2025\n"
     ]
    },
    {
     "name": "stderr",
     "output_type": "stream",
     "text": [
      "C:\\Users\\Tanya Batra\\AppData\\Local\\Programs\\Python\\Python312\\Lib\\site-packages\\sklearn\\utils\\validation.py:2732: UserWarning: X has feature names, but StandardScaler was fitted without feature names\n",
      "  warnings.warn(\n"
     ]
    },
    {
     "name": "stdout",
     "output_type": "stream",
     "text": [
      "SAFE ✅ : Normal Traffic at Thu Apr 10 01:01:31 2025\n"
     ]
    },
    {
     "name": "stderr",
     "output_type": "stream",
     "text": [
      "C:\\Users\\Tanya Batra\\AppData\\Local\\Programs\\Python\\Python312\\Lib\\site-packages\\sklearn\\utils\\validation.py:2732: UserWarning: X has feature names, but StandardScaler was fitted without feature names\n",
      "  warnings.warn(\n"
     ]
    },
    {
     "name": "stdout",
     "output_type": "stream",
     "text": [
      "SAFE ✅ : Normal Traffic at Thu Apr 10 01:01:36 2025\n"
     ]
    },
    {
     "name": "stderr",
     "output_type": "stream",
     "text": [
      "C:\\Users\\Tanya Batra\\AppData\\Local\\Programs\\Python\\Python312\\Lib\\site-packages\\sklearn\\utils\\validation.py:2732: UserWarning: X has feature names, but StandardScaler was fitted without feature names\n",
      "  warnings.warn(\n"
     ]
    },
    {
     "name": "stdout",
     "output_type": "stream",
     "text": [
      "ALERT: 🚨 Attack detected at Thu Apr 10 01:01:41 2025 | Data: [[8.00000000e+01 8.92429000e+05 3.00000000e+00 6.00000000e+00\n",
      "  2.60000000e+01 1.16070000e+04 2.00000000e+01 0.00000000e+00\n",
      "  8.66666667e+00 1.02632029e+01 5.84000000e+03 0.00000000e+00\n",
      "  1.93450000e+03 2.53891928e+03 1.30352106e+04 1.00848359e+01\n",
      "  1.11553625e+05 3.14330327e+05 8.89479000e+05 4.60000000e+01\n",
      "  2.55100000e+03 1.27550000e+03 1.63836641e+03 2.43400000e+03\n",
      "  1.17000000e+02 8.92363000e+05 1.78472600e+05 3.97466139e+05\n",
      "  8.89479000e+05 4.60000000e+01 0.00000000e+00 0.00000000e+00\n",
      "  0.00000000e+00 0.00000000e+00 7.20000000e+01 1.32000000e+02\n",
      "  3.36161196e+00 6.72322392e+00 0.00000000e+00 5.84000000e+03\n",
      "  1.16330000e+03 2.13832915e+03 4.57245157e+06 0.00000000e+00\n",
      "  0.00000000e+00 0.00000000e+00 1.00000000e+00 0.00000000e+00\n",
      "  0.00000000e+00 0.00000000e+00 0.00000000e+00 2.00000000e+00\n",
      "  1.29255556e+03 8.66666667e+00 1.93450000e+03 7.20000000e+01\n",
      "  0.00000000e+00 0.00000000e+00 0.00000000e+00 0.00000000e+00\n",
      "  0.00000000e+00 0.00000000e+00 3.00000000e+00 2.60000000e+01\n",
      "  6.00000000e+00 1.16070000e+04 8.19200000e+03 2.29000000e+02\n",
      "  2.00000000e+00 2.00000000e+01 0.00000000e+00 0.00000000e+00\n",
      "  0.00000000e+00 0.00000000e+00 0.00000000e+00 0.00000000e+00\n",
      "  0.00000000e+00 0.00000000e+00]]\n"
     ]
    },
    {
     "name": "stderr",
     "output_type": "stream",
     "text": [
      "C:\\Users\\Tanya Batra\\AppData\\Local\\Programs\\Python\\Python312\\Lib\\site-packages\\sklearn\\utils\\validation.py:2732: UserWarning: X has feature names, but StandardScaler was fitted without feature names\n",
      "  warnings.warn(\n"
     ]
    },
    {
     "name": "stdout",
     "output_type": "stream",
     "text": [
      "SAFE ✅ : Normal Traffic at Thu Apr 10 01:01:46 2025\n"
     ]
    },
    {
     "name": "stderr",
     "output_type": "stream",
     "text": [
      "C:\\Users\\Tanya Batra\\AppData\\Local\\Programs\\Python\\Python312\\Lib\\site-packages\\sklearn\\utils\\validation.py:2732: UserWarning: X has feature names, but StandardScaler was fitted without feature names\n",
      "  warnings.warn(\n"
     ]
    },
    {
     "name": "stdout",
     "output_type": "stream",
     "text": [
      "ALERT: 🚨 Attack detected at Thu Apr 10 01:01:51 2025 | Data: [[ 8.00000000e+01  9.96873900e+06  5.00000000e+00  0.00000000e+00\n",
      "   3.00000000e+01  0.00000000e+00  6.00000000e+00  6.00000000e+00\n",
      "   6.00000000e+00  0.00000000e+00  0.00000000e+00  0.00000000e+00\n",
      "   0.00000000e+00  0.00000000e+00  3.00940771e+00  5.01567952e-01\n",
      "   2.49218475e+06  4.98370952e+06  9.96774900e+06  2.00000000e+00\n",
      "   9.96873900e+06  2.49218475e+06  4.98370952e+06  9.96774900e+06\n",
      "   2.00000000e+00  0.00000000e+00  0.00000000e+00  0.00000000e+00\n",
      "   0.00000000e+00  0.00000000e+00  0.00000000e+00  0.00000000e+00\n",
      "   0.00000000e+00  0.00000000e+00  1.00000000e+02  0.00000000e+00\n",
      "   5.01567952e-01  0.00000000e+00  6.00000000e+00  6.00000000e+00\n",
      "   6.00000000e+00  0.00000000e+00  0.00000000e+00  0.00000000e+00\n",
      "   0.00000000e+00  0.00000000e+00  0.00000000e+00  1.00000000e+00\n",
      "   0.00000000e+00  0.00000000e+00  0.00000000e+00  0.00000000e+00\n",
      "   7.20000000e+00  6.00000000e+00  0.00000000e+00  1.00000000e+02\n",
      "   0.00000000e+00  0.00000000e+00  0.00000000e+00  0.00000000e+00\n",
      "   0.00000000e+00  0.00000000e+00  5.00000000e+00  3.00000000e+01\n",
      "   0.00000000e+00  0.00000000e+00  2.56000000e+02 -1.00000000e+00\n",
      "   4.00000000e+00  2.00000000e+01  9.90000000e+02  0.00000000e+00\n",
      "   9.90000000e+02  9.90000000e+02  9.96774900e+06  0.00000000e+00\n",
      "   9.96774900e+06  9.96774900e+06]]\n"
     ]
    },
    {
     "name": "stderr",
     "output_type": "stream",
     "text": [
      "C:\\Users\\Tanya Batra\\AppData\\Local\\Programs\\Python\\Python312\\Lib\\site-packages\\sklearn\\utils\\validation.py:2732: UserWarning: X has feature names, but StandardScaler was fitted without feature names\n",
      "  warnings.warn(\n"
     ]
    },
    {
     "name": "stdout",
     "output_type": "stream",
     "text": [
      "SAFE ✅ : Normal Traffic at Thu Apr 10 01:01:56 2025\n"
     ]
    },
    {
     "name": "stderr",
     "output_type": "stream",
     "text": [
      "C:\\Users\\Tanya Batra\\AppData\\Local\\Programs\\Python\\Python312\\Lib\\site-packages\\sklearn\\utils\\validation.py:2732: UserWarning: X has feature names, but StandardScaler was fitted without feature names\n",
      "  warnings.warn(\n"
     ]
    },
    {
     "name": "stdout",
     "output_type": "stream",
     "text": [
      "ALERT: 🚨 Attack detected at Thu Apr 10 01:02:01 2025 | Data: [[8.00000000e+01 9.30750000e+05 3.00000000e+00 4.00000000e+00\n",
      "  2.60000000e+01 1.16070000e+04 2.00000000e+01 0.00000000e+00\n",
      "  8.66666667e+00 1.02632029e+01 1.15950000e+04 0.00000000e+00\n",
      "  2.90175000e+03 5.79550069e+03 1.24985227e+04 7.52081655e+00\n",
      "  1.55125000e+05 3.79520118e+05 9.29817000e+05 5.00000000e+00\n",
      "  8.99000000e+02 4.49500000e+02 4.97096067e+02 8.01000000e+02\n",
      "  9.80000000e+01 9.30674000e+05 3.10224667e+05 5.36582868e+05\n",
      "  9.29817000e+05 5.00000000e+00 0.00000000e+00 0.00000000e+00\n",
      "  0.00000000e+00 0.00000000e+00 7.20000000e+01 9.20000000e+01\n",
      "  3.22320709e+00 4.29760945e+00 0.00000000e+00 1.15950000e+04\n",
      "  1.45412500e+03 4.09753753e+03 1.68000000e+07 0.00000000e+00\n",
      "  0.00000000e+00 0.00000000e+00 1.00000000e+00 0.00000000e+00\n",
      "  0.00000000e+00 0.00000000e+00 0.00000000e+00 1.00000000e+00\n",
      "  1.66185714e+03 8.66666667e+00 2.90175000e+03 7.20000000e+01\n",
      "  0.00000000e+00 0.00000000e+00 0.00000000e+00 0.00000000e+00\n",
      "  0.00000000e+00 0.00000000e+00 3.00000000e+00 2.60000000e+01\n",
      "  4.00000000e+00 1.16070000e+04 8.19200000e+03 2.29000000e+02\n",
      "  2.00000000e+00 2.00000000e+01 0.00000000e+00 0.00000000e+00\n",
      "  0.00000000e+00 0.00000000e+00 0.00000000e+00 0.00000000e+00\n",
      "  0.00000000e+00 0.00000000e+00]]\n"
     ]
    },
    {
     "name": "stderr",
     "output_type": "stream",
     "text": [
      "C:\\Users\\Tanya Batra\\AppData\\Local\\Programs\\Python\\Python312\\Lib\\site-packages\\sklearn\\utils\\validation.py:2732: UserWarning: X has feature names, but StandardScaler was fitted without feature names\n",
      "  warnings.warn(\n"
     ]
    },
    {
     "name": "stdout",
     "output_type": "stream",
     "text": [
      "SAFE ✅ : Normal Traffic at Thu Apr 10 01:02:06 2025\n"
     ]
    },
    {
     "name": "stderr",
     "output_type": "stream",
     "text": [
      "C:\\Users\\Tanya Batra\\AppData\\Local\\Programs\\Python\\Python312\\Lib\\site-packages\\sklearn\\utils\\validation.py:2732: UserWarning: X has feature names, but StandardScaler was fitted without feature names\n",
      "  warnings.warn(\n"
     ]
    },
    {
     "name": "stdout",
     "output_type": "stream",
     "text": [
      "ALERT: 🚨 Attack detected at Thu Apr 10 01:02:11 2025 | Data: [[ 8.00000000e+01  3.96895100e+06  4.00000000e+00  0.00000000e+00\n",
      "   2.40000000e+01  0.00000000e+00  6.00000000e+00  6.00000000e+00\n",
      "   6.00000000e+00  0.00000000e+00  0.00000000e+00  0.00000000e+00\n",
      "   0.00000000e+00  0.00000000e+00  6.04693784e+00  1.00782297e+00\n",
      "   1.32298367e+06  2.29093713e+06  3.96833000e+06  2.74000000e+02\n",
      "   3.96895100e+06  1.32298367e+06  2.29093713e+06  3.96833000e+06\n",
      "   2.74000000e+02  0.00000000e+00  0.00000000e+00  0.00000000e+00\n",
      "   0.00000000e+00  0.00000000e+00  0.00000000e+00  0.00000000e+00\n",
      "   0.00000000e+00  0.00000000e+00  8.00000000e+01  0.00000000e+00\n",
      "   1.00782297e+00  0.00000000e+00  6.00000000e+00  6.00000000e+00\n",
      "   6.00000000e+00  0.00000000e+00  0.00000000e+00  0.00000000e+00\n",
      "   0.00000000e+00  0.00000000e+00  0.00000000e+00  1.00000000e+00\n",
      "   0.00000000e+00  0.00000000e+00  0.00000000e+00  0.00000000e+00\n",
      "   7.50000000e+00  6.00000000e+00  0.00000000e+00  8.00000000e+01\n",
      "   0.00000000e+00  0.00000000e+00  0.00000000e+00  0.00000000e+00\n",
      "   0.00000000e+00  0.00000000e+00  4.00000000e+00  2.40000000e+01\n",
      "   0.00000000e+00  0.00000000e+00  2.56000000e+02 -1.00000000e+00\n",
      "   3.00000000e+00  2.00000000e+01  0.00000000e+00  0.00000000e+00\n",
      "   0.00000000e+00  0.00000000e+00  0.00000000e+00  0.00000000e+00\n",
      "   0.00000000e+00  0.00000000e+00]]\n"
     ]
    },
    {
     "name": "stderr",
     "output_type": "stream",
     "text": [
      "C:\\Users\\Tanya Batra\\AppData\\Local\\Programs\\Python\\Python312\\Lib\\site-packages\\sklearn\\utils\\validation.py:2732: UserWarning: X has feature names, but StandardScaler was fitted without feature names\n",
      "  warnings.warn(\n"
     ]
    },
    {
     "name": "stdout",
     "output_type": "stream",
     "text": [
      "ALERT: 🚨 Attack detected at Thu Apr 10 01:02:17 2025 | Data: [[8.00000000e+01 7.58980000e+05 3.00000000e+00 6.00000000e+00\n",
      "  2.60000000e+01 1.16010000e+04 2.00000000e+01 0.00000000e+00\n",
      "  8.66666667e+00 1.02632029e+01 5.84000000e+03 0.00000000e+00\n",
      "  1.93350000e+03 2.18977293e+03 1.53192442e+04 1.18580200e+01\n",
      "  9.48725000e+04 2.58884397e+05 7.35272000e+05 3.20000000e+01\n",
      "  2.33590000e+04 1.16795000e+04 1.60605163e+04 2.30360000e+04\n",
      "  3.23000000e+02 7.58948000e+05 1.51789600e+05 3.26332441e+05\n",
      "  7.35272000e+05 4.60000000e+01 0.00000000e+00 0.00000000e+00\n",
      "  0.00000000e+00 0.00000000e+00 7.20000000e+01 1.32000000e+02\n",
      "  3.95267333e+00 7.90534665e+00 0.00000000e+00 5.84000000e+03\n",
      "  1.16270000e+03 1.91159573e+03 3.65419823e+06 0.00000000e+00\n",
      "  0.00000000e+00 0.00000000e+00 1.00000000e+00 0.00000000e+00\n",
      "  0.00000000e+00 0.00000000e+00 0.00000000e+00 2.00000000e+00\n",
      "  1.29188889e+03 8.66666667e+00 1.93350000e+03 7.20000000e+01\n",
      "  0.00000000e+00 0.00000000e+00 0.00000000e+00 0.00000000e+00\n",
      "  0.00000000e+00 0.00000000e+00 3.00000000e+00 2.60000000e+01\n",
      "  6.00000000e+00 1.16010000e+04 8.19200000e+03 2.29000000e+02\n",
      "  2.00000000e+00 2.00000000e+01 0.00000000e+00 0.00000000e+00\n",
      "  0.00000000e+00 0.00000000e+00 0.00000000e+00 0.00000000e+00\n",
      "  0.00000000e+00 0.00000000e+00]]\n"
     ]
    },
    {
     "name": "stderr",
     "output_type": "stream",
     "text": [
      "C:\\Users\\Tanya Batra\\AppData\\Local\\Programs\\Python\\Python312\\Lib\\site-packages\\sklearn\\utils\\validation.py:2732: UserWarning: X has feature names, but StandardScaler was fitted without feature names\n",
      "  warnings.warn(\n"
     ]
    },
    {
     "name": "stdout",
     "output_type": "stream",
     "text": [
      "ALERT: 🚨 Attack detected at Thu Apr 10 01:02:22 2025 | Data: [[ 8.00000000e+01  1.09787270e+07  4.00000000e+00  0.00000000e+00\n",
      "   2.40000000e+01  0.00000000e+00  6.00000000e+00  6.00000000e+00\n",
      "   6.00000000e+00  0.00000000e+00  0.00000000e+00  0.00000000e+00\n",
      "   0.00000000e+00  0.00000000e+00  2.18604580e+00  3.64340966e-01\n",
      "   3.65957567e+06  6.33856753e+06  1.10000000e+07  1.00000000e+00\n",
      "   1.10000000e+07  3.65957567e+06  6.33856753e+06  1.10000000e+07\n",
      "   1.00000000e+00  0.00000000e+00  0.00000000e+00  0.00000000e+00\n",
      "   0.00000000e+00  0.00000000e+00  0.00000000e+00  0.00000000e+00\n",
      "   0.00000000e+00  0.00000000e+00  8.00000000e+01  0.00000000e+00\n",
      "   3.64340966e-01  0.00000000e+00  6.00000000e+00  6.00000000e+00\n",
      "   6.00000000e+00  0.00000000e+00  0.00000000e+00  0.00000000e+00\n",
      "   0.00000000e+00  0.00000000e+00  0.00000000e+00  1.00000000e+00\n",
      "   0.00000000e+00  0.00000000e+00  0.00000000e+00  0.00000000e+00\n",
      "   7.50000000e+00  6.00000000e+00  0.00000000e+00  8.00000000e+01\n",
      "   0.00000000e+00  0.00000000e+00  0.00000000e+00  0.00000000e+00\n",
      "   0.00000000e+00  0.00000000e+00  4.00000000e+00  2.40000000e+01\n",
      "   0.00000000e+00  0.00000000e+00  2.56000000e+02 -1.00000000e+00\n",
      "   3.00000000e+00  2.00000000e+01  4.00000000e+00  0.00000000e+00\n",
      "   4.00000000e+00  4.00000000e+00  1.10000000e+07  0.00000000e+00\n",
      "   1.10000000e+07  1.10000000e+07]]\n"
     ]
    },
    {
     "name": "stderr",
     "output_type": "stream",
     "text": [
      "C:\\Users\\Tanya Batra\\AppData\\Local\\Programs\\Python\\Python312\\Lib\\site-packages\\sklearn\\utils\\validation.py:2732: UserWarning: X has feature names, but StandardScaler was fitted without feature names\n",
      "  warnings.warn(\n"
     ]
    },
    {
     "name": "stdout",
     "output_type": "stream",
     "text": [
      "SAFE ✅ : Normal Traffic at Thu Apr 10 01:02:27 2025\n"
     ]
    },
    {
     "name": "stderr",
     "output_type": "stream",
     "text": [
      "C:\\Users\\Tanya Batra\\AppData\\Local\\Programs\\Python\\Python312\\Lib\\site-packages\\sklearn\\utils\\validation.py:2732: UserWarning: X has feature names, but StandardScaler was fitted without feature names\n",
      "  warnings.warn(\n"
     ]
    },
    {
     "name": "stdout",
     "output_type": "stream",
     "text": [
      "SAFE ✅ : Normal Traffic at Thu Apr 10 01:02:32 2025\n"
     ]
    },
    {
     "name": "stderr",
     "output_type": "stream",
     "text": [
      "C:\\Users\\Tanya Batra\\AppData\\Local\\Programs\\Python\\Python312\\Lib\\site-packages\\sklearn\\utils\\validation.py:2732: UserWarning: X has feature names, but StandardScaler was fitted without feature names\n",
      "  warnings.warn(\n"
     ]
    },
    {
     "name": "stdout",
     "output_type": "stream",
     "text": [
      "ALERT: 🚨 Attack detected at Thu Apr 10 01:02:37 2025 | Data: [[8.00000000e+01 2.68630000e+04 3.00000000e+00 6.00000000e+00\n",
      "  2.60000000e+01 1.16070000e+04 2.00000000e+01 0.00000000e+00\n",
      "  8.66666667e+00 1.02632029e+01 5.84000000e+03 0.00000000e+00\n",
      "  1.93450000e+03 2.37552333e+03 4.33049175e+05 3.35033317e+02\n",
      "  3.35787500e+03 8.74720116e+03 2.49980000e+04 4.00000000e+00\n",
      "  2.50280000e+04 1.25140000e+04 1.76918117e+04 2.50240000e+04\n",
      "  4.00000000e+00 2.68370000e+04 5.36740000e+03 1.11708668e+04\n",
      "  2.53460000e+04 1.84000000e+02 0.00000000e+00 0.00000000e+00\n",
      "  0.00000000e+00 0.00000000e+00 7.20000000e+01 1.32000000e+02\n",
      "  1.11677772e+02 2.23355545e+02 0.00000000e+00 5.84000000e+03\n",
      "  1.16330000e+03 2.03133957e+03 4.12634046e+06 0.00000000e+00\n",
      "  0.00000000e+00 0.00000000e+00 1.00000000e+00 0.00000000e+00\n",
      "  0.00000000e+00 0.00000000e+00 0.00000000e+00 2.00000000e+00\n",
      "  1.29255556e+03 8.66666667e+00 1.93450000e+03 7.20000000e+01\n",
      "  0.00000000e+00 0.00000000e+00 0.00000000e+00 0.00000000e+00\n",
      "  0.00000000e+00 0.00000000e+00 3.00000000e+00 2.60000000e+01\n",
      "  6.00000000e+00 1.16070000e+04 8.19200000e+03 2.29000000e+02\n",
      "  2.00000000e+00 2.00000000e+01 0.00000000e+00 0.00000000e+00\n",
      "  0.00000000e+00 0.00000000e+00 0.00000000e+00 0.00000000e+00\n",
      "  0.00000000e+00 0.00000000e+00]]\n"
     ]
    },
    {
     "name": "stderr",
     "output_type": "stream",
     "text": [
      "C:\\Users\\Tanya Batra\\AppData\\Local\\Programs\\Python\\Python312\\Lib\\site-packages\\sklearn\\utils\\validation.py:2732: UserWarning: X has feature names, but StandardScaler was fitted without feature names\n",
      "  warnings.warn(\n"
     ]
    },
    {
     "name": "stdout",
     "output_type": "stream",
     "text": [
      "ALERT: 🚨 Attack detected at Thu Apr 10 01:02:42 2025 | Data: [[ 8.00000000e+01  5.29465800e+06  5.00000000e+00  0.00000000e+00\n",
      "   3.00000000e+01  0.00000000e+00  6.00000000e+00  6.00000000e+00\n",
      "   6.00000000e+00  0.00000000e+00  0.00000000e+00  0.00000000e+00\n",
      "   0.00000000e+00  0.00000000e+00  5.66608835e+00  9.44348058e-01\n",
      "   1.32366450e+06  2.64634836e+06  5.29318700e+06  2.08000000e+02\n",
      "   5.29465800e+06  1.32366450e+06  2.64634836e+06  5.29318700e+06\n",
      "   2.08000000e+02  0.00000000e+00  0.00000000e+00  0.00000000e+00\n",
      "   0.00000000e+00  0.00000000e+00  0.00000000e+00  0.00000000e+00\n",
      "   0.00000000e+00  0.00000000e+00  1.00000000e+02  0.00000000e+00\n",
      "   9.44348058e-01  0.00000000e+00  6.00000000e+00  6.00000000e+00\n",
      "   6.00000000e+00  0.00000000e+00  0.00000000e+00  0.00000000e+00\n",
      "   0.00000000e+00  0.00000000e+00  0.00000000e+00  1.00000000e+00\n",
      "   0.00000000e+00  0.00000000e+00  0.00000000e+00  0.00000000e+00\n",
      "   7.20000000e+00  6.00000000e+00  0.00000000e+00  1.00000000e+02\n",
      "   0.00000000e+00  0.00000000e+00  0.00000000e+00  0.00000000e+00\n",
      "   0.00000000e+00  0.00000000e+00  5.00000000e+00  3.00000000e+01\n",
      "   0.00000000e+00  0.00000000e+00  2.56000000e+02 -1.00000000e+00\n",
      "   4.00000000e+00  2.00000000e+01  1.47100000e+03  0.00000000e+00\n",
      "   1.47100000e+03  1.47100000e+03  5.29318700e+06  0.00000000e+00\n",
      "   5.29318700e+06  5.29318700e+06]]\n"
     ]
    },
    {
     "name": "stderr",
     "output_type": "stream",
     "text": [
      "C:\\Users\\Tanya Batra\\AppData\\Local\\Programs\\Python\\Python312\\Lib\\site-packages\\sklearn\\utils\\validation.py:2732: UserWarning: X has feature names, but StandardScaler was fitted without feature names\n",
      "  warnings.warn(\n"
     ]
    },
    {
     "name": "stdout",
     "output_type": "stream",
     "text": [
      "ALERT: 🚨 Attack detected at Thu Apr 10 01:02:47 2025 | Data: [[8.00000000e+01 1.83130700e+06 3.00000000e+00 4.00000000e+00\n",
      "  2.60000000e+01 1.16010000e+04 2.00000000e+01 0.00000000e+00\n",
      "  8.66666667e+00 1.02632029e+01 7.21500000e+03 0.00000000e+00\n",
      "  2.90025000e+03 3.54000286e+03 6.34901740e+03 3.82240662e+00\n",
      "  3.05217833e+05 7.41919263e+05 1.81962600e+06 2.10000000e+01\n",
      "  1.15000000e+04 5.75000000e+03 8.03697567e+03 1.14330000e+04\n",
      "  6.70000000e+01 1.83126300e+06 6.10421000e+05 1.04721754e+06\n",
      "  1.81962600e+06 1.60000000e+02 0.00000000e+00 0.00000000e+00\n",
      "  0.00000000e+00 0.00000000e+00 7.20000000e+01 9.20000000e+01\n",
      "  1.63817427e+00 2.18423235e+00 0.00000000e+00 7.21500000e+03\n",
      "  1.45337500e+03 2.78625980e+03 7.76324370e+06 0.00000000e+00\n",
      "  0.00000000e+00 0.00000000e+00 1.00000000e+00 0.00000000e+00\n",
      "  0.00000000e+00 0.00000000e+00 0.00000000e+00 1.00000000e+00\n",
      "  1.66100000e+03 8.66666667e+00 2.90025000e+03 7.20000000e+01\n",
      "  0.00000000e+00 0.00000000e+00 0.00000000e+00 0.00000000e+00\n",
      "  0.00000000e+00 0.00000000e+00 3.00000000e+00 2.60000000e+01\n",
      "  4.00000000e+00 1.16010000e+04 8.19200000e+03 2.29000000e+02\n",
      "  2.00000000e+00 2.00000000e+01 0.00000000e+00 0.00000000e+00\n",
      "  0.00000000e+00 0.00000000e+00 0.00000000e+00 0.00000000e+00\n",
      "  0.00000000e+00 0.00000000e+00]]\n"
     ]
    },
    {
     "name": "stderr",
     "output_type": "stream",
     "text": [
      "C:\\Users\\Tanya Batra\\AppData\\Local\\Programs\\Python\\Python312\\Lib\\site-packages\\sklearn\\utils\\validation.py:2732: UserWarning: X has feature names, but StandardScaler was fitted without feature names\n",
      "  warnings.warn(\n"
     ]
    },
    {
     "name": "stdout",
     "output_type": "stream",
     "text": [
      "ALERT: 🚨 Attack detected at Thu Apr 10 01:02:52 2025 | Data: [[ 8.00000000e+01  7.94707000e+06  4.00000000e+00  0.00000000e+00\n",
      "   2.40000000e+01  0.00000000e+00  6.00000000e+00  6.00000000e+00\n",
      "   6.00000000e+00  0.00000000e+00  0.00000000e+00  0.00000000e+00\n",
      "   0.00000000e+00  0.00000000e+00  3.01998095e+00  5.03330158e-01\n",
      "   2.64902333e+06  4.58476602e+06  7.94305500e+06  9.98000000e+02\n",
      "   7.94707000e+06  2.64902333e+06  4.58476602e+06  7.94305500e+06\n",
      "   9.98000000e+02  0.00000000e+00  0.00000000e+00  0.00000000e+00\n",
      "   0.00000000e+00  0.00000000e+00  0.00000000e+00  0.00000000e+00\n",
      "   0.00000000e+00  0.00000000e+00  8.00000000e+01  0.00000000e+00\n",
      "   5.03330158e-01  0.00000000e+00  6.00000000e+00  6.00000000e+00\n",
      "   6.00000000e+00  0.00000000e+00  0.00000000e+00  0.00000000e+00\n",
      "   0.00000000e+00  0.00000000e+00  0.00000000e+00  1.00000000e+00\n",
      "   0.00000000e+00  0.00000000e+00  0.00000000e+00  0.00000000e+00\n",
      "   7.50000000e+00  6.00000000e+00  0.00000000e+00  8.00000000e+01\n",
      "   0.00000000e+00  0.00000000e+00  0.00000000e+00  0.00000000e+00\n",
      "   0.00000000e+00  0.00000000e+00  4.00000000e+00  2.40000000e+01\n",
      "   0.00000000e+00  0.00000000e+00  2.56000000e+02 -1.00000000e+00\n",
      "   3.00000000e+00  2.00000000e+01  4.01500000e+03  0.00000000e+00\n",
      "   4.01500000e+03  4.01500000e+03  7.94305500e+06  0.00000000e+00\n",
      "   7.94305500e+06  7.94305500e+06]]\n"
     ]
    },
    {
     "name": "stderr",
     "output_type": "stream",
     "text": [
      "C:\\Users\\Tanya Batra\\AppData\\Local\\Programs\\Python\\Python312\\Lib\\site-packages\\sklearn\\utils\\validation.py:2732: UserWarning: X has feature names, but StandardScaler was fitted without feature names\n",
      "  warnings.warn(\n"
     ]
    },
    {
     "name": "stdout",
     "output_type": "stream",
     "text": [
      "SAFE ✅ : Normal Traffic at Thu Apr 10 01:02:57 2025\n"
     ]
    },
    {
     "name": "stderr",
     "output_type": "stream",
     "text": [
      "C:\\Users\\Tanya Batra\\AppData\\Local\\Programs\\Python\\Python312\\Lib\\site-packages\\sklearn\\utils\\validation.py:2732: UserWarning: X has feature names, but StandardScaler was fitted without feature names\n",
      "  warnings.warn(\n"
     ]
    },
    {
     "name": "stdout",
     "output_type": "stream",
     "text": [
      "SAFE ✅ : Normal Traffic at Thu Apr 10 01:03:02 2025\n"
     ]
    },
    {
     "name": "stderr",
     "output_type": "stream",
     "text": [
      "C:\\Users\\Tanya Batra\\AppData\\Local\\Programs\\Python\\Python312\\Lib\\site-packages\\sklearn\\utils\\validation.py:2732: UserWarning: X has feature names, but StandardScaler was fitted without feature names\n",
      "  warnings.warn(\n"
     ]
    },
    {
     "name": "stdout",
     "output_type": "stream",
     "text": [
      "SAFE ✅ : Normal Traffic at Thu Apr 10 01:03:07 2025\n"
     ]
    },
    {
     "name": "stderr",
     "output_type": "stream",
     "text": [
      "C:\\Users\\Tanya Batra\\AppData\\Local\\Programs\\Python\\Python312\\Lib\\site-packages\\sklearn\\utils\\validation.py:2732: UserWarning: X has feature names, but StandardScaler was fitted without feature names\n",
      "  warnings.warn(\n"
     ]
    },
    {
     "name": "stdout",
     "output_type": "stream",
     "text": [
      "SAFE ✅ : Normal Traffic at Thu Apr 10 01:03:12 2025\n"
     ]
    },
    {
     "name": "stderr",
     "output_type": "stream",
     "text": [
      "C:\\Users\\Tanya Batra\\AppData\\Local\\Programs\\Python\\Python312\\Lib\\site-packages\\sklearn\\utils\\validation.py:2732: UserWarning: X has feature names, but StandardScaler was fitted without feature names\n",
      "  warnings.warn(\n"
     ]
    },
    {
     "name": "stdout",
     "output_type": "stream",
     "text": [
      "ALERT: 🚨 Attack detected at Thu Apr 10 01:03:17 2025 | Data: [[8.00000000e+01 2.10373000e+05 2.00000000e+00 4.00000000e+00\n",
      "  2.00000000e+01 1.16010000e+04 2.00000000e+01 0.00000000e+00\n",
      "  1.00000000e+01 1.41421356e+01 8.76000000e+03 0.00000000e+00\n",
      "  2.90025000e+03 4.12831930e+03 5.52399785e+04 2.85207703e+01\n",
      "  4.20746000e+04 8.86242441e+04 2.00473000e+05 6.20000000e+01\n",
      "  8.90000000e+03 8.90000000e+03 0.00000000e+00 8.90000000e+03\n",
      "  8.90000000e+03 2.10309000e+05 7.01030000e+04 1.12973860e+05\n",
      "  2.00473000e+05 9.38000000e+02 0.00000000e+00 0.00000000e+00\n",
      "  0.00000000e+00 0.00000000e+00 5.20000000e+01 9.20000000e+01\n",
      "  9.50692342e+00 1.90138468e+01 0.00000000e+00 8.76000000e+03\n",
      "  1.66014286e+03 3.30360260e+03 1.09000000e+07 0.00000000e+00\n",
      "  0.00000000e+00 0.00000000e+00 1.00000000e+00 0.00000000e+00\n",
      "  0.00000000e+00 0.00000000e+00 0.00000000e+00 2.00000000e+00\n",
      "  1.93683333e+03 1.00000000e+01 2.90025000e+03 5.20000000e+01\n",
      "  0.00000000e+00 0.00000000e+00 0.00000000e+00 0.00000000e+00\n",
      "  0.00000000e+00 0.00000000e+00 2.00000000e+00 2.00000000e+01\n",
      "  4.00000000e+00 1.16010000e+04 8.19200000e+03 2.29000000e+02\n",
      "  1.00000000e+00 2.00000000e+01 0.00000000e+00 0.00000000e+00\n",
      "  0.00000000e+00 0.00000000e+00 0.00000000e+00 0.00000000e+00\n",
      "  0.00000000e+00 0.00000000e+00]]\n"
     ]
    },
    {
     "name": "stderr",
     "output_type": "stream",
     "text": [
      "C:\\Users\\Tanya Batra\\AppData\\Local\\Programs\\Python\\Python312\\Lib\\site-packages\\sklearn\\utils\\validation.py:2732: UserWarning: X has feature names, but StandardScaler was fitted without feature names\n",
      "  warnings.warn(\n"
     ]
    },
    {
     "name": "stdout",
     "output_type": "stream",
     "text": [
      "ALERT: 🚨 Attack detected at Thu Apr 10 01:03:22 2025 | Data: [[8.00000000e+01 7.12663000e+05 3.00000000e+00 4.00000000e+00\n",
      "  2.60000000e+01 1.16010000e+04 2.00000000e+01 0.00000000e+00\n",
      "  8.66666667e+00 1.02632029e+01 8.76000000e+03 0.00000000e+00\n",
      "  2.90025000e+03 4.12831930e+03 1.63148641e+04 9.82231433e+00\n",
      "  1.18777167e+05 2.81609118e+05 6.93408000e+05 3.00000000e+01\n",
      "  1.90070000e+04 9.50350000e+03 1.31288516e+04 1.87870000e+04\n",
      "  2.20000000e+02 7.12633000e+05 2.37544333e+05 3.94901992e+05\n",
      "  6.93408000e+05 1.88000000e+02 0.00000000e+00 0.00000000e+00\n",
      "  0.00000000e+00 0.00000000e+00 7.20000000e+01 9.20000000e+01\n",
      "  4.20956329e+00 5.61275105e+00 0.00000000e+00 8.76000000e+03\n",
      "  1.45337500e+03 3.11395261e+03 9.69670084e+06 0.00000000e+00\n",
      "  0.00000000e+00 0.00000000e+00 1.00000000e+00 0.00000000e+00\n",
      "  0.00000000e+00 0.00000000e+00 0.00000000e+00 1.00000000e+00\n",
      "  1.66100000e+03 8.66666667e+00 2.90025000e+03 7.20000000e+01\n",
      "  0.00000000e+00 0.00000000e+00 0.00000000e+00 0.00000000e+00\n",
      "  0.00000000e+00 0.00000000e+00 3.00000000e+00 2.60000000e+01\n",
      "  4.00000000e+00 1.16010000e+04 8.19200000e+03 2.29000000e+02\n",
      "  2.00000000e+00 2.00000000e+01 0.00000000e+00 0.00000000e+00\n",
      "  0.00000000e+00 0.00000000e+00 0.00000000e+00 0.00000000e+00\n",
      "  0.00000000e+00 0.00000000e+00]]\n"
     ]
    },
    {
     "name": "stderr",
     "output_type": "stream",
     "text": [
      "C:\\Users\\Tanya Batra\\AppData\\Local\\Programs\\Python\\Python312\\Lib\\site-packages\\sklearn\\utils\\validation.py:2732: UserWarning: X has feature names, but StandardScaler was fitted without feature names\n",
      "  warnings.warn(\n"
     ]
    },
    {
     "name": "stdout",
     "output_type": "stream",
     "text": [
      "SAFE ✅ : Normal Traffic at Thu Apr 10 01:03:27 2025\n"
     ]
    },
    {
     "name": "stderr",
     "output_type": "stream",
     "text": [
      "C:\\Users\\Tanya Batra\\AppData\\Local\\Programs\\Python\\Python312\\Lib\\site-packages\\sklearn\\utils\\validation.py:2732: UserWarning: X has feature names, but StandardScaler was fitted without feature names\n",
      "  warnings.warn(\n"
     ]
    },
    {
     "name": "stdout",
     "output_type": "stream",
     "text": [
      "SAFE ✅ : Normal Traffic at Thu Apr 10 01:03:32 2025\n"
     ]
    },
    {
     "name": "stderr",
     "output_type": "stream",
     "text": [
      "C:\\Users\\Tanya Batra\\AppData\\Local\\Programs\\Python\\Python312\\Lib\\site-packages\\sklearn\\utils\\validation.py:2732: UserWarning: X has feature names, but StandardScaler was fitted without feature names\n",
      "  warnings.warn(\n"
     ]
    },
    {
     "name": "stdout",
     "output_type": "stream",
     "text": [
      "ALERT: 🚨 Attack detected at Thu Apr 10 01:03:37 2025 | Data: [[8.00000000e+01 9.78333540e+07 8.00000000e+00 6.00000000e+00\n",
      "  5.60000000e+01 1.16070000e+04 2.00000000e+01 0.00000000e+00\n",
      "  7.00000000e+00 5.65685425e+00 4.38000000e+03 0.00000000e+00\n",
      "  1.93450000e+03 2.17734497e+03 1.19212922e+02 1.43100481e-01\n",
      "  7.52564262e+06 2.57000000e+07 9.29000000e+07 3.00000000e+00\n",
      "  9.71000000e+07 1.39000000e+07 3.49000000e+07 9.29000000e+07\n",
      "  3.00000000e+00 7.10136000e+05 1.42027200e+05 3.16683907e+05\n",
      "  7.08528000e+05 1.60000000e+01 0.00000000e+00 0.00000000e+00\n",
      "  0.00000000e+00 0.00000000e+00 1.72000000e+02 1.32000000e+02\n",
      "  8.17717030e-02 6.13287780e-02 0.00000000e+00 4.38000000e+03\n",
      "  7.77933333e+02 1.62746176e+03 2.64863178e+06 0.00000000e+00\n",
      "  0.00000000e+00 0.00000000e+00 0.00000000e+00 1.00000000e+00\n",
      "  0.00000000e+00 0.00000000e+00 0.00000000e+00 0.00000000e+00\n",
      "  8.33500000e+02 7.00000000e+00 1.93450000e+03 1.72000000e+02\n",
      "  0.00000000e+00 0.00000000e+00 0.00000000e+00 0.00000000e+00\n",
      "  0.00000000e+00 0.00000000e+00 8.00000000e+00 5.60000000e+01\n",
      "  6.00000000e+00 1.16070000e+04 2.56000000e+02 2.29000000e+02\n",
      "  6.00000000e+00 2.00000000e+01 4.21496400e+06 0.00000000e+00\n",
      "  4.21496400e+06 4.21496400e+06 9.29000000e+07 0.00000000e+00\n",
      "  9.29000000e+07 9.29000000e+07]]\n"
     ]
    },
    {
     "name": "stderr",
     "output_type": "stream",
     "text": [
      "C:\\Users\\Tanya Batra\\AppData\\Local\\Programs\\Python\\Python312\\Lib\\site-packages\\sklearn\\utils\\validation.py:2732: UserWarning: X has feature names, but StandardScaler was fitted without feature names\n",
      "  warnings.warn(\n"
     ]
    },
    {
     "name": "stdout",
     "output_type": "stream",
     "text": [
      "ALERT: 🚨 Attack detected at Thu Apr 10 01:03:42 2025 | Data: [[8.00000000e+01 9.18460460e+07 8.00000000e+00 6.00000000e+00\n",
      "  5.60000000e+01 1.16010000e+04 2.00000000e+01 0.00000000e+00\n",
      "  7.00000000e+00 5.65685425e+00 5.84000000e+03 0.00000000e+00\n",
      "  1.93350000e+03 2.18977293e+03 1.26918909e+02 1.52428990e-01\n",
      "  7.06508046e+06 2.20000000e+07 7.96000000e+07 1.00000000e+00\n",
      "  9.09000000e+07 1.30000000e+07 2.97000000e+07 7.96000000e+07\n",
      "  1.00000000e+00 9.92348000e+05 1.98469600e+05 4.24712912e+05\n",
      "  9.57757000e+05 4.50000000e+01 0.00000000e+00 0.00000000e+00\n",
      "  0.00000000e+00 0.00000000e+00 1.72000000e+02 1.32000000e+02\n",
      "  8.71022800e-02 6.53267100e-02 0.00000000e+00 5.84000000e+03\n",
      "  7.77533333e+02 1.63310269e+03 2.66702441e+06 0.00000000e+00\n",
      "  0.00000000e+00 0.00000000e+00 0.00000000e+00 1.00000000e+00\n",
      "  0.00000000e+00 0.00000000e+00 0.00000000e+00 0.00000000e+00\n",
      "  8.33071429e+02 7.00000000e+00 1.93350000e+03 1.72000000e+02\n",
      "  0.00000000e+00 0.00000000e+00 0.00000000e+00 0.00000000e+00\n",
      "  0.00000000e+00 0.00000000e+00 8.00000000e+00 5.60000000e+01\n",
      "  6.00000000e+00 1.16010000e+04 2.56000000e+02 2.29000000e+02\n",
      "  6.00000000e+00 2.00000000e+01 7.02100000e+03 0.00000000e+00\n",
      "  7.02100000e+03 7.02100000e+03 4.54000000e+07 4.84000000e+07\n",
      "  7.96000000e+07 1.12000000e+07]]\n"
     ]
    },
    {
     "name": "stderr",
     "output_type": "stream",
     "text": [
      "C:\\Users\\Tanya Batra\\AppData\\Local\\Programs\\Python\\Python312\\Lib\\site-packages\\sklearn\\utils\\validation.py:2732: UserWarning: X has feature names, but StandardScaler was fitted without feature names\n",
      "  warnings.warn(\n"
     ]
    },
    {
     "name": "stdout",
     "output_type": "stream",
     "text": [
      "ALERT: 🚨 Attack detected at Thu Apr 10 01:03:47 2025 | Data: [[ 8.00000000e+01  4.08391900e+06  4.00000000e+00  0.00000000e+00\n",
      "   2.40000000e+01  0.00000000e+00  6.00000000e+00  6.00000000e+00\n",
      "   6.00000000e+00  0.00000000e+00  0.00000000e+00  0.00000000e+00\n",
      "   0.00000000e+00  0.00000000e+00  5.87670813e+00  9.79451355e-01\n",
      "   1.36130633e+06  2.35727496e+06  4.08325300e+06  3.32000000e+02\n",
      "   4.08391900e+06  1.36130633e+06  2.35727496e+06  4.08325300e+06\n",
      "   3.32000000e+02  0.00000000e+00  0.00000000e+00  0.00000000e+00\n",
      "   0.00000000e+00  0.00000000e+00  0.00000000e+00  0.00000000e+00\n",
      "   0.00000000e+00  0.00000000e+00  8.00000000e+01  0.00000000e+00\n",
      "   9.79451355e-01  0.00000000e+00  6.00000000e+00  6.00000000e+00\n",
      "   6.00000000e+00  0.00000000e+00  0.00000000e+00  0.00000000e+00\n",
      "   0.00000000e+00  0.00000000e+00  0.00000000e+00  1.00000000e+00\n",
      "   0.00000000e+00  0.00000000e+00  0.00000000e+00  0.00000000e+00\n",
      "   7.50000000e+00  6.00000000e+00  0.00000000e+00  8.00000000e+01\n",
      "   0.00000000e+00  0.00000000e+00  0.00000000e+00  0.00000000e+00\n",
      "   0.00000000e+00  0.00000000e+00  4.00000000e+00  2.40000000e+01\n",
      "   0.00000000e+00  0.00000000e+00  2.56000000e+02 -1.00000000e+00\n",
      "   3.00000000e+00  2.00000000e+01  0.00000000e+00  0.00000000e+00\n",
      "   0.00000000e+00  0.00000000e+00  0.00000000e+00  0.00000000e+00\n",
      "   0.00000000e+00  0.00000000e+00]]\n"
     ]
    },
    {
     "name": "stderr",
     "output_type": "stream",
     "text": [
      "C:\\Users\\Tanya Batra\\AppData\\Local\\Programs\\Python\\Python312\\Lib\\site-packages\\sklearn\\utils\\validation.py:2732: UserWarning: X has feature names, but StandardScaler was fitted without feature names\n",
      "  warnings.warn(\n"
     ]
    },
    {
     "name": "stdout",
     "output_type": "stream",
     "text": [
      "ALERT: 🚨 Attack detected at Thu Apr 10 01:03:52 2025 | Data: [[8.00000000e+01 4.31352000e+05 3.00000000e+00 5.00000000e+00\n",
      "  2.60000000e+01 1.16010000e+04 2.00000000e+01 0.00000000e+00\n",
      "  8.66666667e+00 1.02632029e+01 5.84000000e+03 0.00000000e+00\n",
      "  2.32020000e+03 2.43683303e+03 2.69547840e+04 1.85463380e+01\n",
      "  6.16217143e+04 1.55463217e+05 4.13924000e+05 7.30000000e+01\n",
      "  1.66190000e+04 8.30950000e+03 1.14247243e+04 1.63880000e+04\n",
      "  2.31000000e+02 4.31088000e+05 1.07772000e+05 2.04241746e+05\n",
      "  4.13924000e+05 1.94000000e+02 0.00000000e+00 0.00000000e+00\n",
      "  0.00000000e+00 0.00000000e+00 7.20000000e+01 1.12000000e+02\n",
      "  6.95487676e+00 1.15914613e+01 0.00000000e+00 5.84000000e+03\n",
      "  1.29188889e+03 2.11095076e+03 4.45611311e+06 0.00000000e+00\n",
      "  0.00000000e+00 0.00000000e+00 1.00000000e+00 0.00000000e+00\n",
      "  0.00000000e+00 0.00000000e+00 0.00000000e+00 1.00000000e+00\n",
      "  1.45337500e+03 8.66666667e+00 2.32020000e+03 7.20000000e+01\n",
      "  0.00000000e+00 0.00000000e+00 0.00000000e+00 0.00000000e+00\n",
      "  0.00000000e+00 0.00000000e+00 3.00000000e+00 2.60000000e+01\n",
      "  5.00000000e+00 1.16010000e+04 8.19200000e+03 2.29000000e+02\n",
      "  2.00000000e+00 2.00000000e+01 0.00000000e+00 0.00000000e+00\n",
      "  0.00000000e+00 0.00000000e+00 0.00000000e+00 0.00000000e+00\n",
      "  0.00000000e+00 0.00000000e+00]]\n"
     ]
    },
    {
     "name": "stderr",
     "output_type": "stream",
     "text": [
      "C:\\Users\\Tanya Batra\\AppData\\Local\\Programs\\Python\\Python312\\Lib\\site-packages\\sklearn\\utils\\validation.py:2732: UserWarning: X has feature names, but StandardScaler was fitted without feature names\n",
      "  warnings.warn(\n"
     ]
    },
    {
     "name": "stdout",
     "output_type": "stream",
     "text": [
      "ALERT: 🚨 Attack detected at Thu Apr 10 01:03:57 2025 | Data: [[8.00000000e+01 1.67294900e+06 3.00000000e+00 5.00000000e+00\n",
      "  2.60000000e+01 1.16010000e+04 2.00000000e+01 0.00000000e+00\n",
      "  8.66666667e+00 1.02632029e+01 7.30000000e+03 0.00000000e+00\n",
      "  2.32020000e+03 3.02250810e+03 6.95000266e+03 4.78197482e+00\n",
      "  2.38992714e+05 6.30421648e+05 1.66865200e+06 2.90000000e+01\n",
      "  3.80100000e+03 1.90050000e+03 2.17718178e+03 3.44000000e+03\n",
      "  3.61000000e+02 1.67292000e+06 4.18230000e+05 8.33616491e+05\n",
      "  1.66865200e+06 1.84000000e+02 0.00000000e+00 0.00000000e+00\n",
      "  0.00000000e+00 0.00000000e+00 7.20000000e+01 1.12000000e+02\n",
      "  1.79324056e+00 2.98873427e+00 0.00000000e+00 7.30000000e+03\n",
      "  1.29188889e+03 2.46065299e+03 6.05481311e+06 0.00000000e+00\n",
      "  0.00000000e+00 0.00000000e+00 1.00000000e+00 0.00000000e+00\n",
      "  0.00000000e+00 0.00000000e+00 0.00000000e+00 1.00000000e+00\n",
      "  1.45337500e+03 8.66666667e+00 2.32020000e+03 7.20000000e+01\n",
      "  0.00000000e+00 0.00000000e+00 0.00000000e+00 0.00000000e+00\n",
      "  0.00000000e+00 0.00000000e+00 3.00000000e+00 2.60000000e+01\n",
      "  5.00000000e+00 1.16010000e+04 8.19200000e+03 2.29000000e+02\n",
      "  2.00000000e+00 2.00000000e+01 0.00000000e+00 0.00000000e+00\n",
      "  0.00000000e+00 0.00000000e+00 0.00000000e+00 0.00000000e+00\n",
      "  0.00000000e+00 0.00000000e+00]]\n"
     ]
    },
    {
     "name": "stderr",
     "output_type": "stream",
     "text": [
      "C:\\Users\\Tanya Batra\\AppData\\Local\\Programs\\Python\\Python312\\Lib\\site-packages\\sklearn\\utils\\validation.py:2732: UserWarning: X has feature names, but StandardScaler was fitted without feature names\n",
      "  warnings.warn(\n"
     ]
    },
    {
     "name": "stdout",
     "output_type": "stream",
     "text": [
      "SAFE ✅ : Normal Traffic at Thu Apr 10 01:04:02 2025\n"
     ]
    },
    {
     "name": "stderr",
     "output_type": "stream",
     "text": [
      "C:\\Users\\Tanya Batra\\AppData\\Local\\Programs\\Python\\Python312\\Lib\\site-packages\\sklearn\\utils\\validation.py:2732: UserWarning: X has feature names, but StandardScaler was fitted without feature names\n",
      "  warnings.warn(\n"
     ]
    },
    {
     "name": "stdout",
     "output_type": "stream",
     "text": [
      "SAFE ✅ : Normal Traffic at Thu Apr 10 01:04:07 2025\n"
     ]
    },
    {
     "name": "stderr",
     "output_type": "stream",
     "text": [
      "C:\\Users\\Tanya Batra\\AppData\\Local\\Programs\\Python\\Python312\\Lib\\site-packages\\sklearn\\utils\\validation.py:2732: UserWarning: X has feature names, but StandardScaler was fitted without feature names\n",
      "  warnings.warn(\n"
     ]
    },
    {
     "name": "stdout",
     "output_type": "stream",
     "text": [
      "ALERT: 🚨 Attack detected at Thu Apr 10 01:04:12 2025 | Data: [[8.00000000e+01 2.97240000e+04 3.00000000e+00 5.00000000e+00\n",
      "  2.60000000e+01 1.16010000e+04 2.00000000e+01 0.00000000e+00\n",
      "  8.66666667e+00 1.02632029e+01 7.30000000e+03 0.00000000e+00\n",
      "  2.32020000e+03 3.02250810e+03 3.91165388e+05 2.69142780e+02\n",
      "  4.24628571e+03 7.63881735e+03 2.02950000e+04 5.40000000e+01\n",
      "  8.80600000e+03 4.40300000e+03 5.19299220e+03 8.07500000e+03\n",
      "  7.31000000e+02 2.96310000e+04 7.40775000e+03 9.47679233e+03\n",
      "  2.02950000e+04 1.88000000e+02 0.00000000e+00 0.00000000e+00\n",
      "  0.00000000e+00 0.00000000e+00 7.20000000e+01 1.12000000e+02\n",
      "  1.00928543e+02 1.68214238e+02 0.00000000e+00 7.30000000e+03\n",
      "  1.29188889e+03 2.46065299e+03 6.05481311e+06 0.00000000e+00\n",
      "  0.00000000e+00 0.00000000e+00 1.00000000e+00 0.00000000e+00\n",
      "  0.00000000e+00 0.00000000e+00 0.00000000e+00 1.00000000e+00\n",
      "  1.45337500e+03 8.66666667e+00 2.32020000e+03 7.20000000e+01\n",
      "  0.00000000e+00 0.00000000e+00 0.00000000e+00 0.00000000e+00\n",
      "  0.00000000e+00 0.00000000e+00 3.00000000e+00 2.60000000e+01\n",
      "  5.00000000e+00 1.16010000e+04 8.19200000e+03 2.29000000e+02\n",
      "  2.00000000e+00 2.00000000e+01 0.00000000e+00 0.00000000e+00\n",
      "  0.00000000e+00 0.00000000e+00 0.00000000e+00 0.00000000e+00\n",
      "  0.00000000e+00 0.00000000e+00]]\n"
     ]
    },
    {
     "name": "stderr",
     "output_type": "stream",
     "text": [
      "C:\\Users\\Tanya Batra\\AppData\\Local\\Programs\\Python\\Python312\\Lib\\site-packages\\sklearn\\utils\\validation.py:2732: UserWarning: X has feature names, but StandardScaler was fitted without feature names\n",
      "  warnings.warn(\n"
     ]
    },
    {
     "name": "stdout",
     "output_type": "stream",
     "text": [
      "ALERT: 🚨 Attack detected at Thu Apr 10 01:04:17 2025 | Data: [[ 8.00000000e+01  6.27788200e+06  5.00000000e+00  0.00000000e+00\n",
      "   3.00000000e+01  0.00000000e+00  6.00000000e+00  6.00000000e+00\n",
      "   6.00000000e+00  0.00000000e+00  0.00000000e+00  0.00000000e+00\n",
      "   0.00000000e+00  0.00000000e+00  4.77868173e+00  7.96446955e-01\n",
      "   1.56947050e+06  3.13758437e+06  6.27584700e+06  1.00000000e+00\n",
      "   6.27788200e+06  1.56947050e+06  3.13758437e+06  6.27584700e+06\n",
      "   1.00000000e+00  0.00000000e+00  0.00000000e+00  0.00000000e+00\n",
      "   0.00000000e+00  0.00000000e+00  0.00000000e+00  0.00000000e+00\n",
      "   0.00000000e+00  0.00000000e+00  1.00000000e+02  0.00000000e+00\n",
      "   7.96446955e-01  0.00000000e+00  6.00000000e+00  6.00000000e+00\n",
      "   6.00000000e+00  0.00000000e+00  0.00000000e+00  0.00000000e+00\n",
      "   0.00000000e+00  0.00000000e+00  0.00000000e+00  1.00000000e+00\n",
      "   0.00000000e+00  0.00000000e+00  0.00000000e+00  0.00000000e+00\n",
      "   7.20000000e+00  6.00000000e+00  0.00000000e+00  1.00000000e+02\n",
      "   0.00000000e+00  0.00000000e+00  0.00000000e+00  0.00000000e+00\n",
      "   0.00000000e+00  0.00000000e+00  5.00000000e+00  3.00000000e+01\n",
      "   0.00000000e+00  0.00000000e+00  2.56000000e+02 -1.00000000e+00\n",
      "   4.00000000e+00  2.00000000e+01  2.03500000e+03  0.00000000e+00\n",
      "   2.03500000e+03  2.03500000e+03  6.27584700e+06  0.00000000e+00\n",
      "   6.27584700e+06  6.27584700e+06]]\n"
     ]
    },
    {
     "name": "stderr",
     "output_type": "stream",
     "text": [
      "C:\\Users\\Tanya Batra\\AppData\\Local\\Programs\\Python\\Python312\\Lib\\site-packages\\sklearn\\utils\\validation.py:2732: UserWarning: X has feature names, but StandardScaler was fitted without feature names\n",
      "  warnings.warn(\n"
     ]
    },
    {
     "name": "stdout",
     "output_type": "stream",
     "text": [
      "SAFE ✅ : Normal Traffic at Thu Apr 10 01:04:22 2025\n"
     ]
    },
    {
     "name": "stderr",
     "output_type": "stream",
     "text": [
      "C:\\Users\\Tanya Batra\\AppData\\Local\\Programs\\Python\\Python312\\Lib\\site-packages\\sklearn\\utils\\validation.py:2732: UserWarning: X has feature names, but StandardScaler was fitted without feature names\n",
      "  warnings.warn(\n"
     ]
    },
    {
     "name": "stdout",
     "output_type": "stream",
     "text": [
      "ALERT: 🚨 Attack detected at Thu Apr 10 01:04:27 2025 | Data: [[8.00000000e+01 1.45020600e+06 3.00000000e+00 6.00000000e+00\n",
      "  2.60000000e+01 1.16070000e+04 2.00000000e+01 0.00000000e+00\n",
      "  8.66666667e+00 1.02632029e+01 5.84000000e+03 0.00000000e+00\n",
      "  1.93450000e+03 2.53891928e+03 8.02161900e+03 6.20601487e+00\n",
      "  1.81275750e+05 5.12353547e+05 1.44928600e+06 3.00000000e+00\n",
      "  5.74000000e+02 2.87000000e+02 4.01636652e+02 5.71000000e+02\n",
      "  3.00000000e+00 1.45020300e+06 2.90040600e+05 6.48037923e+05\n",
      "  1.44928600e+06 4.50000000e+01 0.00000000e+00 0.00000000e+00\n",
      "  0.00000000e+00 0.00000000e+00 7.20000000e+01 1.32000000e+02\n",
      "  2.06867162e+00 4.13734325e+00 0.00000000e+00 5.84000000e+03\n",
      "  1.16330000e+03 2.13832915e+03 4.57245157e+06 0.00000000e+00\n",
      "  0.00000000e+00 0.00000000e+00 1.00000000e+00 0.00000000e+00\n",
      "  0.00000000e+00 0.00000000e+00 0.00000000e+00 2.00000000e+00\n",
      "  1.29255556e+03 8.66666667e+00 1.93450000e+03 7.20000000e+01\n",
      "  0.00000000e+00 0.00000000e+00 0.00000000e+00 0.00000000e+00\n",
      "  0.00000000e+00 0.00000000e+00 3.00000000e+00 2.60000000e+01\n",
      "  6.00000000e+00 1.16070000e+04 8.19200000e+03 2.29000000e+02\n",
      "  2.00000000e+00 2.00000000e+01 0.00000000e+00 0.00000000e+00\n",
      "  0.00000000e+00 0.00000000e+00 0.00000000e+00 0.00000000e+00\n",
      "  0.00000000e+00 0.00000000e+00]]\n"
     ]
    },
    {
     "name": "stderr",
     "output_type": "stream",
     "text": [
      "C:\\Users\\Tanya Batra\\AppData\\Local\\Programs\\Python\\Python312\\Lib\\site-packages\\sklearn\\utils\\validation.py:2732: UserWarning: X has feature names, but StandardScaler was fitted without feature names\n",
      "  warnings.warn(\n"
     ]
    },
    {
     "name": "stdout",
     "output_type": "stream",
     "text": [
      "ALERT: 🚨 Attack detected at Thu Apr 10 01:04:32 2025 | Data: [[8.00000000e+01 7.24614820e+07 6.00000000e+00 4.00000000e+00\n",
      "  4.40000000e+01 1.16010000e+04 2.00000000e+01 0.00000000e+00\n",
      "  7.33333333e+00 6.65331997e+00 1.01350000e+04 0.00000000e+00\n",
      "  2.90025000e+03 4.87182583e+03 1.60706070e+02 1.38004354e-01\n",
      "  8.05127578e+06 2.01000000e+07 6.07000000e+07 5.80000000e+01\n",
      "  7.24000000e+07 1.45000000e+07 2.63000000e+07 6.07000000e+07\n",
      "  5.80000000e+01 1.29366000e+05 4.31220000e+04 5.59568316e+04\n",
      "  1.06408000e+05 1.95000000e+02 0.00000000e+00 0.00000000e+00\n",
      "  0.00000000e+00 0.00000000e+00 1.32000000e+02 9.20000000e+01\n",
      "  8.28026120e-02 5.52017420e-02 0.00000000e+00 1.01350000e+04\n",
      "  1.05918182e+03 3.04154424e+03 9.25099136e+06 0.00000000e+00\n",
      "  0.00000000e+00 0.00000000e+00 0.00000000e+00 1.00000000e+00\n",
      "  0.00000000e+00 0.00000000e+00 0.00000000e+00 0.00000000e+00\n",
      "  1.16510000e+03 7.33333333e+00 2.90025000e+03 1.32000000e+02\n",
      "  0.00000000e+00 0.00000000e+00 0.00000000e+00 0.00000000e+00\n",
      "  0.00000000e+00 0.00000000e+00 6.00000000e+00 4.40000000e+01\n",
      "  4.00000000e+00 1.16010000e+04 2.56000000e+02 2.29000000e+02\n",
      "  4.00000000e+00 2.00000000e+01 3.45000000e+02 0.00000000e+00\n",
      "  3.45000000e+02 3.45000000e+02 3.62000000e+07 3.47000000e+07\n",
      "  6.07000000e+07 1.16000000e+07]]\n"
     ]
    },
    {
     "name": "stderr",
     "output_type": "stream",
     "text": [
      "C:\\Users\\Tanya Batra\\AppData\\Local\\Programs\\Python\\Python312\\Lib\\site-packages\\sklearn\\utils\\validation.py:2732: UserWarning: X has feature names, but StandardScaler was fitted without feature names\n",
      "  warnings.warn(\n"
     ]
    },
    {
     "name": "stdout",
     "output_type": "stream",
     "text": [
      "ALERT: 🚨 Attack detected at Thu Apr 10 01:04:37 2025 | Data: [[8.00000000e+01 4.48440000e+04 3.00000000e+00 5.00000000e+00\n",
      "  2.60000000e+01 1.16070000e+04 2.00000000e+01 0.00000000e+00\n",
      "  8.66666667e+00 1.02632029e+01 8.67500000e+03 0.00000000e+00\n",
      "  2.32140000e+03 3.76953602e+03 2.59410400e+05 1.78396218e+02\n",
      "  6.40628571e+03 1.64494685e+04 4.37070000e+04 4.00000000e+00\n",
      "  8.71000000e+02 4.35500000e+02 2.96277741e+02 6.45000000e+02\n",
      "  2.26000000e+02 4.48300000e+04 1.12075000e+04 2.16699708e+04\n",
      "  4.37070000e+04 4.00000000e+00 0.00000000e+00 0.00000000e+00\n",
      "  0.00000000e+00 0.00000000e+00 7.20000000e+01 1.12000000e+02\n",
      "  6.68985818e+01 1.11497636e+02 0.00000000e+00 8.67500000e+03\n",
      "  1.29255556e+03 2.93142956e+03 8.59327928e+06 0.00000000e+00\n",
      "  0.00000000e+00 0.00000000e+00 1.00000000e+00 0.00000000e+00\n",
      "  0.00000000e+00 0.00000000e+00 0.00000000e+00 1.00000000e+00\n",
      "  1.45412500e+03 8.66666667e+00 2.32140000e+03 7.20000000e+01\n",
      "  0.00000000e+00 0.00000000e+00 0.00000000e+00 0.00000000e+00\n",
      "  0.00000000e+00 0.00000000e+00 3.00000000e+00 2.60000000e+01\n",
      "  5.00000000e+00 1.16070000e+04 8.19200000e+03 2.29000000e+02\n",
      "  2.00000000e+00 2.00000000e+01 0.00000000e+00 0.00000000e+00\n",
      "  0.00000000e+00 0.00000000e+00 0.00000000e+00 0.00000000e+00\n",
      "  0.00000000e+00 0.00000000e+00]]\n"
     ]
    },
    {
     "name": "stderr",
     "output_type": "stream",
     "text": [
      "C:\\Users\\Tanya Batra\\AppData\\Local\\Programs\\Python\\Python312\\Lib\\site-packages\\sklearn\\utils\\validation.py:2732: UserWarning: X has feature names, but StandardScaler was fitted without feature names\n",
      "  warnings.warn(\n"
     ]
    },
    {
     "name": "stdout",
     "output_type": "stream",
     "text": [
      "SAFE ✅ : Normal Traffic at Thu Apr 10 01:04:42 2025\n"
     ]
    },
    {
     "name": "stderr",
     "output_type": "stream",
     "text": [
      "C:\\Users\\Tanya Batra\\AppData\\Local\\Programs\\Python\\Python312\\Lib\\site-packages\\sklearn\\utils\\validation.py:2732: UserWarning: X has feature names, but StandardScaler was fitted without feature names\n",
      "  warnings.warn(\n"
     ]
    },
    {
     "name": "stdout",
     "output_type": "stream",
     "text": [
      "ALERT: 🚨 Attack detected at Thu Apr 10 01:04:47 2025 | Data: [[ 8.00000000e+01  2.03197400e+06  4.00000000e+00  0.00000000e+00\n",
      "   2.40000000e+01  0.00000000e+00  6.00000000e+00  6.00000000e+00\n",
      "   6.00000000e+00  0.00000000e+00  0.00000000e+00  0.00000000e+00\n",
      "   0.00000000e+00  0.00000000e+00  1.18111747e+01  1.96852913e+00\n",
      "   6.77324667e+05  1.17229482e+06  2.03097400e+06  3.00000000e+00\n",
      "   2.03197400e+06  6.77324667e+05  1.17229482e+06  2.03097400e+06\n",
      "   3.00000000e+00  0.00000000e+00  0.00000000e+00  0.00000000e+00\n",
      "   0.00000000e+00  0.00000000e+00  0.00000000e+00  0.00000000e+00\n",
      "   0.00000000e+00  0.00000000e+00  8.00000000e+01  0.00000000e+00\n",
      "   1.96852913e+00  0.00000000e+00  6.00000000e+00  6.00000000e+00\n",
      "   6.00000000e+00  0.00000000e+00  0.00000000e+00  0.00000000e+00\n",
      "   0.00000000e+00  0.00000000e+00  0.00000000e+00  1.00000000e+00\n",
      "   0.00000000e+00  0.00000000e+00  0.00000000e+00  0.00000000e+00\n",
      "   7.50000000e+00  6.00000000e+00  0.00000000e+00  8.00000000e+01\n",
      "   0.00000000e+00  0.00000000e+00  0.00000000e+00  0.00000000e+00\n",
      "   0.00000000e+00  0.00000000e+00  4.00000000e+00  2.40000000e+01\n",
      "   0.00000000e+00  0.00000000e+00  2.56000000e+02 -1.00000000e+00\n",
      "   3.00000000e+00  2.00000000e+01  0.00000000e+00  0.00000000e+00\n",
      "   0.00000000e+00  0.00000000e+00  0.00000000e+00  0.00000000e+00\n",
      "   0.00000000e+00  0.00000000e+00]]\n"
     ]
    },
    {
     "name": "stderr",
     "output_type": "stream",
     "text": [
      "C:\\Users\\Tanya Batra\\AppData\\Local\\Programs\\Python\\Python312\\Lib\\site-packages\\sklearn\\utils\\validation.py:2732: UserWarning: X has feature names, but StandardScaler was fitted without feature names\n",
      "  warnings.warn(\n"
     ]
    },
    {
     "name": "stdout",
     "output_type": "stream",
     "text": [
      "SAFE ✅ : Normal Traffic at Thu Apr 10 01:04:52 2025\n"
     ]
    },
    {
     "name": "stderr",
     "output_type": "stream",
     "text": [
      "C:\\Users\\Tanya Batra\\AppData\\Local\\Programs\\Python\\Python312\\Lib\\site-packages\\sklearn\\utils\\validation.py:2732: UserWarning: X has feature names, but StandardScaler was fitted without feature names\n",
      "  warnings.warn(\n"
     ]
    },
    {
     "name": "stdout",
     "output_type": "stream",
     "text": [
      "ALERT: 🚨 Attack detected at Thu Apr 10 01:04:57 2025 | Data: [[8.00000000e+01 2.85290000e+04 3.00000000e+00 4.00000000e+00\n",
      "  2.60000000e+01 1.16010000e+04 2.00000000e+01 0.00000000e+00\n",
      "  8.66666667e+00 1.02632029e+01 5.84000000e+03 0.00000000e+00\n",
      "  2.90025000e+03 3.34563700e+03 4.07550212e+05 2.45364366e+02\n",
      "  4.75483333e+03 7.27343056e+03 1.62700000e+04 1.08000000e+02\n",
      "  1.19390000e+04 5.96950000e+03 8.16354779e+03 1.17420000e+04\n",
      "  1.97000000e+02 2.84210000e+04 9.47366667e+03 8.34905817e+03\n",
      "  1.62700000e+04 1.54000000e+02 0.00000000e+00 0.00000000e+00\n",
      "  0.00000000e+00 0.00000000e+00 7.20000000e+01 9.20000000e+01\n",
      "  1.05156157e+02 1.40208209e+02 0.00000000e+00 5.84000000e+03\n",
      "  1.45337500e+03 2.68135642e+03 7.18967227e+06 0.00000000e+00\n",
      "  0.00000000e+00 0.00000000e+00 1.00000000e+00 0.00000000e+00\n",
      "  0.00000000e+00 0.00000000e+00 0.00000000e+00 1.00000000e+00\n",
      "  1.66100000e+03 8.66666667e+00 2.90025000e+03 7.20000000e+01\n",
      "  0.00000000e+00 0.00000000e+00 0.00000000e+00 0.00000000e+00\n",
      "  0.00000000e+00 0.00000000e+00 3.00000000e+00 2.60000000e+01\n",
      "  4.00000000e+00 1.16010000e+04 8.19200000e+03 2.29000000e+02\n",
      "  2.00000000e+00 2.00000000e+01 0.00000000e+00 0.00000000e+00\n",
      "  0.00000000e+00 0.00000000e+00 0.00000000e+00 0.00000000e+00\n",
      "  0.00000000e+00 0.00000000e+00]]\n"
     ]
    },
    {
     "name": "stderr",
     "output_type": "stream",
     "text": [
      "C:\\Users\\Tanya Batra\\AppData\\Local\\Programs\\Python\\Python312\\Lib\\site-packages\\sklearn\\utils\\validation.py:2732: UserWarning: X has feature names, but StandardScaler was fitted without feature names\n",
      "  warnings.warn(\n"
     ]
    },
    {
     "name": "stdout",
     "output_type": "stream",
     "text": [
      "ALERT: 🚨 Attack detected at Thu Apr 10 01:05:03 2025 | Data: [[8.00000000e+01 7.66876460e+07 8.00000000e+00 4.00000000e+00\n",
      "  5.60000000e+01 1.16010000e+04 2.00000000e+01 0.00000000e+00\n",
      "  7.00000000e+00 5.65685425e+00 8.67500000e+03 0.00000000e+00\n",
      "  2.90025000e+03 4.08804194e+03 1.52006231e+02 1.56478920e-01\n",
      "  6.97160418e+06 2.11000000e+07 7.04000000e+07 2.00000000e+01\n",
      "  7.66000000e+07 1.09000000e+07 2.63000000e+07 7.04000000e+07\n",
      "  2.42000000e+02 6.33210000e+04 2.11070000e+04 2.68139913e+04\n",
      "  5.13360000e+04 1.92000000e+02 0.00000000e+00 0.00000000e+00\n",
      "  0.00000000e+00 0.00000000e+00 1.72000000e+02 9.20000000e+01\n",
      "  1.04319280e-01 5.21596400e-02 0.00000000e+00 8.67500000e+03\n",
      "  8.97153846e+02 2.47182806e+03 6.10993397e+06 0.00000000e+00\n",
      "  0.00000000e+00 0.00000000e+00 0.00000000e+00 1.00000000e+00\n",
      "  0.00000000e+00 0.00000000e+00 0.00000000e+00 0.00000000e+00\n",
      "  9.71916667e+02 7.00000000e+00 2.90025000e+03 1.72000000e+02\n",
      "  0.00000000e+00 0.00000000e+00 0.00000000e+00 0.00000000e+00\n",
      "  0.00000000e+00 0.00000000e+00 8.00000000e+00 5.60000000e+01\n",
      "  4.00000000e+00 1.16010000e+04 2.56000000e+02 2.29000000e+02\n",
      "  6.00000000e+00 2.00000000e+01 9.45000000e+02 0.00000000e+00\n",
      "  9.45000000e+02 9.45000000e+02 3.83000000e+07 4.53000000e+07\n",
      "  7.04000000e+07 6.25917000e+06]]\n"
     ]
    },
    {
     "name": "stderr",
     "output_type": "stream",
     "text": [
      "C:\\Users\\Tanya Batra\\AppData\\Local\\Programs\\Python\\Python312\\Lib\\site-packages\\sklearn\\utils\\validation.py:2732: UserWarning: X has feature names, but StandardScaler was fitted without feature names\n",
      "  warnings.warn(\n"
     ]
    },
    {
     "name": "stdout",
     "output_type": "stream",
     "text": [
      "ALERT: 🚨 Attack detected at Thu Apr 10 01:05:08 2025 | Data: [[8.00000000e+01 8.05716400e+06 7.00000000e+00 4.00000000e+00\n",
      "  5.00000000e+01 1.16010000e+04 2.00000000e+01 0.00000000e+00\n",
      "  7.14285714e+00 6.09449400e+00 5.84000000e+03 0.00000000e+00\n",
      "  2.90025000e+03 3.34563700e+03 1.44604230e+03 1.36524464e+00\n",
      "  8.05716400e+05 1.98514849e+06 6.26275400e+06 3.00000000e+00\n",
      "  6.40799700e+06 1.06799950e+06 2.54544379e+06 6.26275400e+06\n",
      "  3.00000000e+00 1.65922500e+06 5.53075000e+05 9.49049485e+05\n",
      "  1.64892800e+06 1.91000000e+02 0.00000000e+00 0.00000000e+00\n",
      "  0.00000000e+00 0.00000000e+00 1.52000000e+02 9.20000000e+01\n",
      "  8.68792046e-01 4.96452598e-01 0.00000000e+00 5.84000000e+03\n",
      "  9.71416667e+02 2.25433870e+03 5.08204299e+06 0.00000000e+00\n",
      "  0.00000000e+00 0.00000000e+00 0.00000000e+00 1.00000000e+00\n",
      "  0.00000000e+00 0.00000000e+00 0.00000000e+00 0.00000000e+00\n",
      "  1.05972727e+03 7.14285714e+00 2.90025000e+03 1.52000000e+02\n",
      "  0.00000000e+00 0.00000000e+00 0.00000000e+00 0.00000000e+00\n",
      "  0.00000000e+00 0.00000000e+00 7.00000000e+00 5.00000000e+01\n",
      "  4.00000000e+00 1.16010000e+04 2.56000000e+02 2.29000000e+02\n",
      "  5.00000000e+00 2.00000000e+01 1.35094000e+05 0.00000000e+00\n",
      "  1.35094000e+05 1.35094000e+05 6.26275400e+06 0.00000000e+00\n",
      "  6.26275400e+06 6.26275400e+06]]\n"
     ]
    },
    {
     "name": "stderr",
     "output_type": "stream",
     "text": [
      "C:\\Users\\Tanya Batra\\AppData\\Local\\Programs\\Python\\Python312\\Lib\\site-packages\\sklearn\\utils\\validation.py:2732: UserWarning: X has feature names, but StandardScaler was fitted without feature names\n",
      "  warnings.warn(\n"
     ]
    },
    {
     "name": "stdout",
     "output_type": "stream",
     "text": [
      "SAFE ✅ : Normal Traffic at Thu Apr 10 01:05:13 2025\n"
     ]
    },
    {
     "name": "stderr",
     "output_type": "stream",
     "text": [
      "C:\\Users\\Tanya Batra\\AppData\\Local\\Programs\\Python\\Python312\\Lib\\site-packages\\sklearn\\utils\\validation.py:2732: UserWarning: X has feature names, but StandardScaler was fitted without feature names\n",
      "  warnings.warn(\n"
     ]
    },
    {
     "name": "stdout",
     "output_type": "stream",
     "text": [
      "SAFE ✅ : Normal Traffic at Thu Apr 10 01:05:18 2025\n"
     ]
    },
    {
     "name": "stderr",
     "output_type": "stream",
     "text": [
      "C:\\Users\\Tanya Batra\\AppData\\Local\\Programs\\Python\\Python312\\Lib\\site-packages\\sklearn\\utils\\validation.py:2732: UserWarning: X has feature names, but StandardScaler was fitted without feature names\n",
      "  warnings.warn(\n"
     ]
    },
    {
     "name": "stdout",
     "output_type": "stream",
     "text": [
      "ALERT: 🚨 Attack detected at Thu Apr 10 01:05:23 2025 | Data: [[8.00000000e+01 1.72339200e+06 3.00000000e+00 4.00000000e+00\n",
      "  2.60000000e+01 1.16010000e+04 2.00000000e+01 0.00000000e+00\n",
      "  8.66666667e+00 1.02632029e+01 1.01350000e+04 0.00000000e+00\n",
      "  2.90025000e+03 4.87182583e+03 6.74657884e+03 4.06175728e+00\n",
      "  2.87232000e+05 6.95525810e+05 1.70691000e+06 4.80000000e+01\n",
      "  1.60580000e+04 8.02900000e+03 1.12868384e+04 1.60100000e+04\n",
      "  4.80000000e+01 1.72326400e+06 5.74421333e+05 9.80796403e+05\n",
      "  1.70691000e+06 1.99000000e+02 0.00000000e+00 0.00000000e+00\n",
      "  0.00000000e+00 0.00000000e+00 7.20000000e+01 9.20000000e+01\n",
      "  1.74075312e+00 2.32100416e+00 0.00000000e+00 1.01350000e+04\n",
      "  1.45337500e+03 3.54465203e+03 1.26000000e+07 0.00000000e+00\n",
      "  0.00000000e+00 0.00000000e+00 1.00000000e+00 0.00000000e+00\n",
      "  0.00000000e+00 0.00000000e+00 0.00000000e+00 1.00000000e+00\n",
      "  1.66100000e+03 8.66666667e+00 2.90025000e+03 7.20000000e+01\n",
      "  0.00000000e+00 0.00000000e+00 0.00000000e+00 0.00000000e+00\n",
      "  0.00000000e+00 0.00000000e+00 3.00000000e+00 2.60000000e+01\n",
      "  4.00000000e+00 1.16010000e+04 8.19200000e+03 2.29000000e+02\n",
      "  2.00000000e+00 2.00000000e+01 0.00000000e+00 0.00000000e+00\n",
      "  0.00000000e+00 0.00000000e+00 0.00000000e+00 0.00000000e+00\n",
      "  0.00000000e+00 0.00000000e+00]]\n"
     ]
    },
    {
     "name": "stderr",
     "output_type": "stream",
     "text": [
      "C:\\Users\\Tanya Batra\\AppData\\Local\\Programs\\Python\\Python312\\Lib\\site-packages\\sklearn\\utils\\validation.py:2732: UserWarning: X has feature names, but StandardScaler was fitted without feature names\n",
      "  warnings.warn(\n"
     ]
    },
    {
     "name": "stdout",
     "output_type": "stream",
     "text": [
      "SAFE ✅ : Normal Traffic at Thu Apr 10 01:05:28 2025\n"
     ]
    },
    {
     "name": "stderr",
     "output_type": "stream",
     "text": [
      "C:\\Users\\Tanya Batra\\AppData\\Local\\Programs\\Python\\Python312\\Lib\\site-packages\\sklearn\\utils\\validation.py:2732: UserWarning: X has feature names, but StandardScaler was fitted without feature names\n",
      "  warnings.warn(\n"
     ]
    },
    {
     "name": "stdout",
     "output_type": "stream",
     "text": [
      "SAFE ✅ : Normal Traffic at Thu Apr 10 01:05:33 2025\n"
     ]
    },
    {
     "name": "stderr",
     "output_type": "stream",
     "text": [
      "C:\\Users\\Tanya Batra\\AppData\\Local\\Programs\\Python\\Python312\\Lib\\site-packages\\sklearn\\utils\\validation.py:2732: UserWarning: X has feature names, but StandardScaler was fitted without feature names\n",
      "  warnings.warn(\n"
     ]
    },
    {
     "name": "stdout",
     "output_type": "stream",
     "text": [
      "SAFE ✅ : Normal Traffic at Thu Apr 10 01:05:38 2025\n"
     ]
    },
    {
     "name": "stderr",
     "output_type": "stream",
     "text": [
      "C:\\Users\\Tanya Batra\\AppData\\Local\\Programs\\Python\\Python312\\Lib\\site-packages\\sklearn\\utils\\validation.py:2732: UserWarning: X has feature names, but StandardScaler was fitted without feature names\n",
      "  warnings.warn(\n"
     ]
    },
    {
     "name": "stdout",
     "output_type": "stream",
     "text": [
      "SAFE ✅ : Normal Traffic at Thu Apr 10 01:05:43 2025\n"
     ]
    },
    {
     "name": "stderr",
     "output_type": "stream",
     "text": [
      "C:\\Users\\Tanya Batra\\AppData\\Local\\Programs\\Python\\Python312\\Lib\\site-packages\\sklearn\\utils\\validation.py:2732: UserWarning: X has feature names, but StandardScaler was fitted without feature names\n",
      "  warnings.warn(\n"
     ]
    },
    {
     "name": "stdout",
     "output_type": "stream",
     "text": [
      "SAFE ✅ : Normal Traffic at Thu Apr 10 01:05:48 2025\n"
     ]
    },
    {
     "name": "stderr",
     "output_type": "stream",
     "text": [
      "C:\\Users\\Tanya Batra\\AppData\\Local\\Programs\\Python\\Python312\\Lib\\site-packages\\sklearn\\utils\\validation.py:2732: UserWarning: X has feature names, but StandardScaler was fitted without feature names\n",
      "  warnings.warn(\n"
     ]
    },
    {
     "name": "stdout",
     "output_type": "stream",
     "text": [
      "SAFE ✅ : Normal Traffic at Thu Apr 10 01:05:53 2025\n"
     ]
    },
    {
     "name": "stderr",
     "output_type": "stream",
     "text": [
      "C:\\Users\\Tanya Batra\\AppData\\Local\\Programs\\Python\\Python312\\Lib\\site-packages\\sklearn\\utils\\validation.py:2732: UserWarning: X has feature names, but StandardScaler was fitted without feature names\n",
      "  warnings.warn(\n"
     ]
    },
    {
     "name": "stdout",
     "output_type": "stream",
     "text": [
      "ALERT: 🚨 Attack detected at Thu Apr 10 01:05:58 2025 | Data: [[8.00000000e+01 1.67026400e+06 3.00000000e+00 5.00000000e+00\n",
      "  2.60000000e+01 1.16070000e+04 2.00000000e+01 0.00000000e+00\n",
      "  8.66666667e+00 1.02632029e+01 1.01350000e+04 0.00000000e+00\n",
      "  2.32140000e+03 4.41320199e+03 6.96476725e+03 4.78966199e+00\n",
      "  2.38609143e+05 6.30897873e+05 1.66935100e+06 1.30000000e+01\n",
      "  6.42000000e+02 3.21000000e+02 2.58801082e+02 5.04000000e+02\n",
      "  1.38000000e+02 1.67020600e+06 4.17551500e+05 8.34533045e+05\n",
      "  1.66935100e+06 1.30000000e+01 0.00000000e+00 0.00000000e+00\n",
      "  0.00000000e+00 0.00000000e+00 7.20000000e+01 1.12000000e+02\n",
      "  1.79612325e+00 2.99353875e+00 0.00000000e+00 1.01350000e+04\n",
      "  1.29255556e+03 3.35063491e+03 1.12000000e+07 0.00000000e+00\n",
      "  0.00000000e+00 0.00000000e+00 1.00000000e+00 0.00000000e+00\n",
      "  0.00000000e+00 0.00000000e+00 0.00000000e+00 1.00000000e+00\n",
      "  1.45412500e+03 8.66666667e+00 2.32140000e+03 7.20000000e+01\n",
      "  0.00000000e+00 0.00000000e+00 0.00000000e+00 0.00000000e+00\n",
      "  0.00000000e+00 0.00000000e+00 3.00000000e+00 2.60000000e+01\n",
      "  5.00000000e+00 1.16070000e+04 8.19200000e+03 2.29000000e+02\n",
      "  2.00000000e+00 2.00000000e+01 0.00000000e+00 0.00000000e+00\n",
      "  0.00000000e+00 0.00000000e+00 0.00000000e+00 0.00000000e+00\n",
      "  0.00000000e+00 0.00000000e+00]]\n"
     ]
    },
    {
     "name": "stderr",
     "output_type": "stream",
     "text": [
      "C:\\Users\\Tanya Batra\\AppData\\Local\\Programs\\Python\\Python312\\Lib\\site-packages\\sklearn\\utils\\validation.py:2732: UserWarning: X has feature names, but StandardScaler was fitted without feature names\n",
      "  warnings.warn(\n"
     ]
    },
    {
     "name": "stdout",
     "output_type": "stream",
     "text": [
      "ALERT: 🚨 Attack detected at Thu Apr 10 01:06:03 2025 | Data: [[8.00000000e+01 3.72749000e+05 3.00000000e+00 5.00000000e+00\n",
      "  2.60000000e+01 1.16070000e+04 2.00000000e+01 0.00000000e+00\n",
      "  8.66666667e+00 1.02632029e+01 5.84000000e+03 0.00000000e+00\n",
      "  2.32140000e+03 3.17337388e+03 3.12086686e+04 2.14621635e+01\n",
      "  5.32498571e+04 1.40548227e+05 3.71983000e+05 3.00000000e+00\n",
      "  5.80000000e+02 2.90000000e+02 4.05879292e+02 5.77000000e+02\n",
      "  3.00000000e+00 3.72704000e+05 9.31760000e+04 1.85871513e+05\n",
      "  3.71983000e+05 4.00000000e+00 0.00000000e+00 0.00000000e+00\n",
      "  0.00000000e+00 0.00000000e+00 7.20000000e+01 1.12000000e+02\n",
      "  8.04831133e+00 1.34138522e+01 0.00000000e+00 5.84000000e+03\n",
      "  1.29255556e+03 2.55415921e+03 6.52372928e+06 0.00000000e+00\n",
      "  0.00000000e+00 0.00000000e+00 1.00000000e+00 0.00000000e+00\n",
      "  0.00000000e+00 0.00000000e+00 0.00000000e+00 1.00000000e+00\n",
      "  1.45412500e+03 8.66666667e+00 2.32140000e+03 7.20000000e+01\n",
      "  0.00000000e+00 0.00000000e+00 0.00000000e+00 0.00000000e+00\n",
      "  0.00000000e+00 0.00000000e+00 3.00000000e+00 2.60000000e+01\n",
      "  5.00000000e+00 1.16070000e+04 8.19200000e+03 2.29000000e+02\n",
      "  2.00000000e+00 2.00000000e+01 0.00000000e+00 0.00000000e+00\n",
      "  0.00000000e+00 0.00000000e+00 0.00000000e+00 0.00000000e+00\n",
      "  0.00000000e+00 0.00000000e+00]]\n"
     ]
    },
    {
     "name": "stderr",
     "output_type": "stream",
     "text": [
      "C:\\Users\\Tanya Batra\\AppData\\Local\\Programs\\Python\\Python312\\Lib\\site-packages\\sklearn\\utils\\validation.py:2732: UserWarning: X has feature names, but StandardScaler was fitted without feature names\n",
      "  warnings.warn(\n"
     ]
    },
    {
     "name": "stdout",
     "output_type": "stream",
     "text": [
      "ALERT: 🚨 Attack detected at Thu Apr 10 01:06:08 2025 | Data: [[ 8.00000000e+01  6.45980300e+06  4.00000000e+00  0.00000000e+00\n",
      "   2.40000000e+01  0.00000000e+00  6.00000000e+00  6.00000000e+00\n",
      "   6.00000000e+00  0.00000000e+00  0.00000000e+00  0.00000000e+00\n",
      "   0.00000000e+00  0.00000000e+00  3.71528358e+00  6.19213930e-01\n",
      "   2.15326767e+06  3.72872726e+06  6.45883100e+06  1.00000000e+00\n",
      "   6.45980300e+06  2.15326767e+06  3.72872726e+06  6.45883100e+06\n",
      "   1.00000000e+00  0.00000000e+00  0.00000000e+00  0.00000000e+00\n",
      "   0.00000000e+00  0.00000000e+00  0.00000000e+00  0.00000000e+00\n",
      "   0.00000000e+00  0.00000000e+00  8.00000000e+01  0.00000000e+00\n",
      "   6.19213930e-01  0.00000000e+00  6.00000000e+00  6.00000000e+00\n",
      "   6.00000000e+00  0.00000000e+00  0.00000000e+00  0.00000000e+00\n",
      "   0.00000000e+00  0.00000000e+00  0.00000000e+00  1.00000000e+00\n",
      "   0.00000000e+00  0.00000000e+00  0.00000000e+00  0.00000000e+00\n",
      "   7.50000000e+00  6.00000000e+00  0.00000000e+00  8.00000000e+01\n",
      "   0.00000000e+00  0.00000000e+00  0.00000000e+00  0.00000000e+00\n",
      "   0.00000000e+00  0.00000000e+00  4.00000000e+00  2.40000000e+01\n",
      "   0.00000000e+00  0.00000000e+00  2.56000000e+02 -1.00000000e+00\n",
      "   3.00000000e+00  2.00000000e+01  9.72000000e+02  0.00000000e+00\n",
      "   9.72000000e+02  9.72000000e+02  6.45883100e+06  0.00000000e+00\n",
      "   6.45883100e+06  6.45883100e+06]]\n"
     ]
    },
    {
     "name": "stderr",
     "output_type": "stream",
     "text": [
      "C:\\Users\\Tanya Batra\\AppData\\Local\\Programs\\Python\\Python312\\Lib\\site-packages\\sklearn\\utils\\validation.py:2732: UserWarning: X has feature names, but StandardScaler was fitted without feature names\n",
      "  warnings.warn(\n"
     ]
    },
    {
     "name": "stdout",
     "output_type": "stream",
     "text": [
      "ALERT: 🚨 Attack detected at Thu Apr 10 01:06:13 2025 | Data: [[8.00000000e+01 6.27727000e+05 3.00000000e+00 5.00000000e+00\n",
      "  2.60000000e+01 1.16070000e+04 2.00000000e+01 0.00000000e+00\n",
      "  8.66666667e+00 1.02632029e+01 7.21500000e+03 0.00000000e+00\n",
      "  2.32140000e+03 3.32776979e+03 1.85319414e+04 1.27443937e+01\n",
      "  8.96752857e+04 2.36913740e+05 6.26945000e+05 4.00000000e+00\n",
      "  6.02000000e+02 3.01000000e+02 3.57796031e+02 5.54000000e+02\n",
      "  4.80000000e+01 6.27680000e+05 1.56920000e+05 3.13350091e+05\n",
      "  6.26945000e+05 4.00000000e+00 0.00000000e+00 0.00000000e+00\n",
      "  0.00000000e+00 0.00000000e+00 7.20000000e+01 1.12000000e+02\n",
      "  4.77914762e+00 7.96524604e+00 0.00000000e+00 7.21500000e+03\n",
      "  1.29255556e+03 2.65058565e+03 7.02560428e+06 0.00000000e+00\n",
      "  0.00000000e+00 0.00000000e+00 1.00000000e+00 0.00000000e+00\n",
      "  0.00000000e+00 0.00000000e+00 0.00000000e+00 1.00000000e+00\n",
      "  1.45412500e+03 8.66666667e+00 2.32140000e+03 7.20000000e+01\n",
      "  0.00000000e+00 0.00000000e+00 0.00000000e+00 0.00000000e+00\n",
      "  0.00000000e+00 0.00000000e+00 3.00000000e+00 2.60000000e+01\n",
      "  5.00000000e+00 1.16070000e+04 8.19200000e+03 2.29000000e+02\n",
      "  2.00000000e+00 2.00000000e+01 0.00000000e+00 0.00000000e+00\n",
      "  0.00000000e+00 0.00000000e+00 0.00000000e+00 0.00000000e+00\n",
      "  0.00000000e+00 0.00000000e+00]]\n"
     ]
    },
    {
     "name": "stderr",
     "output_type": "stream",
     "text": [
      "C:\\Users\\Tanya Batra\\AppData\\Local\\Programs\\Python\\Python312\\Lib\\site-packages\\sklearn\\utils\\validation.py:2732: UserWarning: X has feature names, but StandardScaler was fitted without feature names\n",
      "  warnings.warn(\n"
     ]
    },
    {
     "name": "stdout",
     "output_type": "stream",
     "text": [
      "ALERT: 🚨 Attack detected at Thu Apr 10 01:06:18 2025 | Data: [[ 8.00000000e+01  6.04985900e+06  4.00000000e+00  0.00000000e+00\n",
      "   2.40000000e+01  0.00000000e+00  6.00000000e+00  6.00000000e+00\n",
      "   6.00000000e+00  0.00000000e+00  0.00000000e+00  0.00000000e+00\n",
      "   0.00000000e+00  0.00000000e+00  3.96703460e+00  6.61172434e-01\n",
      "   2.01661967e+06  3.49199316e+06  6.04882600e+06  3.00000000e+00\n",
      "   6.04985900e+06  2.01661967e+06  3.49199316e+06  6.04882600e+06\n",
      "   3.00000000e+00  0.00000000e+00  0.00000000e+00  0.00000000e+00\n",
      "   0.00000000e+00  0.00000000e+00  0.00000000e+00  0.00000000e+00\n",
      "   0.00000000e+00  0.00000000e+00  8.00000000e+01  0.00000000e+00\n",
      "   6.61172434e-01  0.00000000e+00  6.00000000e+00  6.00000000e+00\n",
      "   6.00000000e+00  0.00000000e+00  0.00000000e+00  0.00000000e+00\n",
      "   0.00000000e+00  0.00000000e+00  0.00000000e+00  1.00000000e+00\n",
      "   0.00000000e+00  0.00000000e+00  0.00000000e+00  0.00000000e+00\n",
      "   7.50000000e+00  6.00000000e+00  0.00000000e+00  8.00000000e+01\n",
      "   0.00000000e+00  0.00000000e+00  0.00000000e+00  0.00000000e+00\n",
      "   0.00000000e+00  0.00000000e+00  4.00000000e+00  2.40000000e+01\n",
      "   0.00000000e+00  0.00000000e+00  2.56000000e+02 -1.00000000e+00\n",
      "   3.00000000e+00  2.00000000e+01  1.03300000e+03  0.00000000e+00\n",
      "   1.03300000e+03  1.03300000e+03  6.04882600e+06  0.00000000e+00\n",
      "   6.04882600e+06  6.04882600e+06]]\n"
     ]
    },
    {
     "name": "stderr",
     "output_type": "stream",
     "text": [
      "C:\\Users\\Tanya Batra\\AppData\\Local\\Programs\\Python\\Python312\\Lib\\site-packages\\sklearn\\utils\\validation.py:2732: UserWarning: X has feature names, but StandardScaler was fitted without feature names\n",
      "  warnings.warn(\n"
     ]
    },
    {
     "name": "stdout",
     "output_type": "stream",
     "text": [
      "SAFE ✅ : Normal Traffic at Thu Apr 10 01:06:23 2025\n"
     ]
    },
    {
     "name": "stderr",
     "output_type": "stream",
     "text": [
      "C:\\Users\\Tanya Batra\\AppData\\Local\\Programs\\Python\\Python312\\Lib\\site-packages\\sklearn\\utils\\validation.py:2732: UserWarning: X has feature names, but StandardScaler was fitted without feature names\n",
      "  warnings.warn(\n"
     ]
    },
    {
     "name": "stdout",
     "output_type": "stream",
     "text": [
      "ALERT: 🚨 Attack detected at Thu Apr 10 01:06:28 2025 | Data: [[ 8.00000000e+01  2.60120000e+04  5.00000000e+00  0.00000000e+00\n",
      "   3.00000000e+01  0.00000000e+00  6.00000000e+00  6.00000000e+00\n",
      "   6.00000000e+00  0.00000000e+00  0.00000000e+00  0.00000000e+00\n",
      "   0.00000000e+00  0.00000000e+00  1.15331386e+03  1.92218976e+02\n",
      "   6.50300000e+03  1.23469305e+04  2.50100000e+04  1.00000000e+00\n",
      "   2.60120000e+04  6.50300000e+03  1.23469305e+04  2.50100000e+04\n",
      "   1.00000000e+00  0.00000000e+00  0.00000000e+00  0.00000000e+00\n",
      "   0.00000000e+00  0.00000000e+00  0.00000000e+00  0.00000000e+00\n",
      "   0.00000000e+00  0.00000000e+00  1.00000000e+02  0.00000000e+00\n",
      "   1.92218976e+02  0.00000000e+00  6.00000000e+00  6.00000000e+00\n",
      "   6.00000000e+00  0.00000000e+00  0.00000000e+00  0.00000000e+00\n",
      "   0.00000000e+00  0.00000000e+00  0.00000000e+00  1.00000000e+00\n",
      "   0.00000000e+00  0.00000000e+00  0.00000000e+00  0.00000000e+00\n",
      "   7.20000000e+00  6.00000000e+00  0.00000000e+00  1.00000000e+02\n",
      "   0.00000000e+00  0.00000000e+00  0.00000000e+00  0.00000000e+00\n",
      "   0.00000000e+00  0.00000000e+00  5.00000000e+00  3.00000000e+01\n",
      "   0.00000000e+00  0.00000000e+00  2.56000000e+02 -1.00000000e+00\n",
      "   4.00000000e+00  2.00000000e+01  0.00000000e+00  0.00000000e+00\n",
      "   0.00000000e+00  0.00000000e+00  0.00000000e+00  0.00000000e+00\n",
      "   0.00000000e+00  0.00000000e+00]]\n"
     ]
    },
    {
     "name": "stderr",
     "output_type": "stream",
     "text": [
      "C:\\Users\\Tanya Batra\\AppData\\Local\\Programs\\Python\\Python312\\Lib\\site-packages\\sklearn\\utils\\validation.py:2732: UserWarning: X has feature names, but StandardScaler was fitted without feature names\n",
      "  warnings.warn(\n"
     ]
    },
    {
     "name": "stdout",
     "output_type": "stream",
     "text": [
      "SAFE ✅ : Normal Traffic at Thu Apr 10 01:06:33 2025\n"
     ]
    },
    {
     "name": "stderr",
     "output_type": "stream",
     "text": [
      "C:\\Users\\Tanya Batra\\AppData\\Local\\Programs\\Python\\Python312\\Lib\\site-packages\\sklearn\\utils\\validation.py:2732: UserWarning: X has feature names, but StandardScaler was fitted without feature names\n",
      "  warnings.warn(\n"
     ]
    },
    {
     "name": "stdout",
     "output_type": "stream",
     "text": [
      "ALERT: 🚨 Attack detected at Thu Apr 10 01:06:38 2025 | Data: [[8.00000000e+01 7.27611000e+05 3.00000000e+00 5.00000000e+00\n",
      "  2.60000000e+01 1.16070000e+04 2.00000000e+01 0.00000000e+00\n",
      "  8.66666667e+00 1.02632029e+01 7.21500000e+03 0.00000000e+00\n",
      "  2.32140000e+03 3.32776979e+03 1.59879386e+04 1.09948860e+01\n",
      "  1.03944429e+05 2.74665883e+05 7.26828000e+05 1.00000000e+00\n",
      "  5.33000000e+02 2.66500000e+02 3.75473701e+02 5.32000000e+02\n",
      "  1.00000000e+00 7.27532000e+05 1.81883000e+05 3.63296726e+05\n",
      "  7.26828000e+05 4.00000000e+00 0.00000000e+00 0.00000000e+00\n",
      "  0.00000000e+00 0.00000000e+00 7.20000000e+01 1.12000000e+02\n",
      "  4.12308225e+00 6.87180375e+00 0.00000000e+00 7.21500000e+03\n",
      "  1.29255556e+03 2.65058565e+03 7.02560428e+06 0.00000000e+00\n",
      "  0.00000000e+00 0.00000000e+00 1.00000000e+00 0.00000000e+00\n",
      "  0.00000000e+00 0.00000000e+00 0.00000000e+00 1.00000000e+00\n",
      "  1.45412500e+03 8.66666667e+00 2.32140000e+03 7.20000000e+01\n",
      "  0.00000000e+00 0.00000000e+00 0.00000000e+00 0.00000000e+00\n",
      "  0.00000000e+00 0.00000000e+00 3.00000000e+00 2.60000000e+01\n",
      "  5.00000000e+00 1.16070000e+04 8.19200000e+03 2.29000000e+02\n",
      "  2.00000000e+00 2.00000000e+01 0.00000000e+00 0.00000000e+00\n",
      "  0.00000000e+00 0.00000000e+00 0.00000000e+00 0.00000000e+00\n",
      "  0.00000000e+00 0.00000000e+00]]\n"
     ]
    },
    {
     "name": "stderr",
     "output_type": "stream",
     "text": [
      "C:\\Users\\Tanya Batra\\AppData\\Local\\Programs\\Python\\Python312\\Lib\\site-packages\\sklearn\\utils\\validation.py:2732: UserWarning: X has feature names, but StandardScaler was fitted without feature names\n",
      "  warnings.warn(\n"
     ]
    },
    {
     "name": "stdout",
     "output_type": "stream",
     "text": [
      "ALERT: 🚨 Attack detected at Thu Apr 10 01:06:43 2025 | Data: [[ 8.00000000e+01  1.17126740e+07  5.00000000e+00  0.00000000e+00\n",
      "   3.00000000e+01  0.00000000e+00  6.00000000e+00  6.00000000e+00\n",
      "   6.00000000e+00  0.00000000e+00  0.00000000e+00  0.00000000e+00\n",
      "   0.00000000e+00  0.00000000e+00  2.56132801e+00  4.26888002e-01\n",
      "   2.92816850e+06  5.85167092e+06  1.17000000e+07  3.00000000e+00\n",
      "   1.17000000e+07  2.92816850e+06  5.85167092e+06  1.17000000e+07\n",
      "   3.00000000e+00  0.00000000e+00  0.00000000e+00  0.00000000e+00\n",
      "   0.00000000e+00  0.00000000e+00  0.00000000e+00  0.00000000e+00\n",
      "   0.00000000e+00  0.00000000e+00  1.00000000e+02  0.00000000e+00\n",
      "   4.26888002e-01  0.00000000e+00  6.00000000e+00  6.00000000e+00\n",
      "   6.00000000e+00  0.00000000e+00  0.00000000e+00  0.00000000e+00\n",
      "   0.00000000e+00  0.00000000e+00  0.00000000e+00  1.00000000e+00\n",
      "   0.00000000e+00  0.00000000e+00  0.00000000e+00  0.00000000e+00\n",
      "   7.20000000e+00  6.00000000e+00  0.00000000e+00  1.00000000e+02\n",
      "   0.00000000e+00  0.00000000e+00  0.00000000e+00  0.00000000e+00\n",
      "   0.00000000e+00  0.00000000e+00  5.00000000e+00  3.00000000e+01\n",
      "   0.00000000e+00  0.00000000e+00  2.56000000e+02 -1.00000000e+00\n",
      "   4.00000000e+00  2.00000000e+01  7.00000000e+03  0.00000000e+00\n",
      "   7.00000000e+03  7.00000000e+03  1.17000000e+07  0.00000000e+00\n",
      "   1.17000000e+07  1.17000000e+07]]\n"
     ]
    },
    {
     "name": "stderr",
     "output_type": "stream",
     "text": [
      "C:\\Users\\Tanya Batra\\AppData\\Local\\Programs\\Python\\Python312\\Lib\\site-packages\\sklearn\\utils\\validation.py:2732: UserWarning: X has feature names, but StandardScaler was fitted without feature names\n",
      "  warnings.warn(\n"
     ]
    },
    {
     "name": "stdout",
     "output_type": "stream",
     "text": [
      "ALERT: 🚨 Attack detected at Thu Apr 10 01:06:48 2025 | Data: [[8.00000000e+01 1.23535000e+05 3.00000000e+00 5.00000000e+00\n",
      "  2.60000000e+01 1.16010000e+04 2.00000000e+01 0.00000000e+00\n",
      "  8.66666667e+00 1.02632029e+01 4.38000000e+03 0.00000000e+00\n",
      "  2.32020000e+03 2.20734121e+03 9.41190756e+04 6.47589752e+01\n",
      "  1.76478571e+04 4.47800012e+04 1.19153000e+05 5.00000000e+00\n",
      "  3.95000000e+03 1.97500000e+03 2.55548391e+03 3.78200000e+03\n",
      "  1.68000000e+02 1.23502000e+05 3.08755000e+04 5.88776438e+04\n",
      "  1.19153000e+05 1.58000000e+02 0.00000000e+00 0.00000000e+00\n",
      "  0.00000000e+00 0.00000000e+00 7.20000000e+01 1.12000000e+02\n",
      "  2.42846157e+01 4.04743595e+01 0.00000000e+00 4.38000000e+03\n",
      "  1.29188889e+03 1.98071025e+03 3.92321311e+06 0.00000000e+00\n",
      "  0.00000000e+00 0.00000000e+00 1.00000000e+00 0.00000000e+00\n",
      "  0.00000000e+00 0.00000000e+00 0.00000000e+00 1.00000000e+00\n",
      "  1.45337500e+03 8.66666667e+00 2.32020000e+03 7.20000000e+01\n",
      "  0.00000000e+00 0.00000000e+00 0.00000000e+00 0.00000000e+00\n",
      "  0.00000000e+00 0.00000000e+00 3.00000000e+00 2.60000000e+01\n",
      "  5.00000000e+00 1.16010000e+04 8.19200000e+03 2.29000000e+02\n",
      "  2.00000000e+00 2.00000000e+01 0.00000000e+00 0.00000000e+00\n",
      "  0.00000000e+00 0.00000000e+00 0.00000000e+00 0.00000000e+00\n",
      "  0.00000000e+00 0.00000000e+00]]\n"
     ]
    },
    {
     "name": "stderr",
     "output_type": "stream",
     "text": [
      "C:\\Users\\Tanya Batra\\AppData\\Local\\Programs\\Python\\Python312\\Lib\\site-packages\\sklearn\\utils\\validation.py:2732: UserWarning: X has feature names, but StandardScaler was fitted without feature names\n",
      "  warnings.warn(\n"
     ]
    },
    {
     "name": "stdout",
     "output_type": "stream",
     "text": [
      "ALERT: 🚨 Attack detected at Thu Apr 10 01:06:53 2025 | Data: [[8.00000000e+01 4.54110000e+04 3.00000000e+00 6.00000000e+00\n",
      "  2.60000000e+01 1.16010000e+04 2.00000000e+01 0.00000000e+00\n",
      "  8.66666667e+00 1.02632029e+01 5.84000000e+03 0.00000000e+00\n",
      "  1.93350000e+03 2.18977293e+03 2.56039286e+05 1.98189866e+02\n",
      "  5.67637500e+03 1.37630561e+04 3.94040000e+04 8.00000000e+00\n",
      "  3.94450000e+04 1.97225000e+04 2.78805133e+04 3.94370000e+04\n",
      "  8.00000000e+00 4.53780000e+04 9.07560000e+03 1.71813501e+04\n",
      "  3.95170000e+04 4.50000000e+01 0.00000000e+00 0.00000000e+00\n",
      "  0.00000000e+00 0.00000000e+00 7.20000000e+01 1.32000000e+02\n",
      "  6.60632886e+01 1.32126577e+02 0.00000000e+00 5.84000000e+03\n",
      "  1.16270000e+03 1.91159573e+03 3.65419823e+06 0.00000000e+00\n",
      "  0.00000000e+00 0.00000000e+00 1.00000000e+00 0.00000000e+00\n",
      "  0.00000000e+00 0.00000000e+00 0.00000000e+00 2.00000000e+00\n",
      "  1.29188889e+03 8.66666667e+00 1.93350000e+03 7.20000000e+01\n",
      "  0.00000000e+00 0.00000000e+00 0.00000000e+00 0.00000000e+00\n",
      "  0.00000000e+00 0.00000000e+00 3.00000000e+00 2.60000000e+01\n",
      "  6.00000000e+00 1.16010000e+04 8.19200000e+03 2.29000000e+02\n",
      "  2.00000000e+00 2.00000000e+01 0.00000000e+00 0.00000000e+00\n",
      "  0.00000000e+00 0.00000000e+00 0.00000000e+00 0.00000000e+00\n",
      "  0.00000000e+00 0.00000000e+00]]\n"
     ]
    },
    {
     "name": "stderr",
     "output_type": "stream",
     "text": [
      "C:\\Users\\Tanya Batra\\AppData\\Local\\Programs\\Python\\Python312\\Lib\\site-packages\\sklearn\\utils\\validation.py:2732: UserWarning: X has feature names, but StandardScaler was fitted without feature names\n",
      "  warnings.warn(\n"
     ]
    },
    {
     "name": "stdout",
     "output_type": "stream",
     "text": [
      "ALERT: 🚨 Attack detected at Thu Apr 10 01:06:58 2025 | Data: [[ 8.00000000e+01  2.39394700e+06  4.00000000e+00  0.00000000e+00\n",
      "   2.40000000e+01  0.00000000e+00  6.00000000e+00  6.00000000e+00\n",
      "   6.00000000e+00  0.00000000e+00  0.00000000e+00  0.00000000e+00\n",
      "   0.00000000e+00  0.00000000e+00  1.00252846e+01  1.67088077e+00\n",
      "   7.97982333e+05  1.37437347e+06  2.38496700e+06  9.98000000e+02\n",
      "   2.39394700e+06  7.97982333e+05  1.37437347e+06  2.38496700e+06\n",
      "   9.98000000e+02  0.00000000e+00  0.00000000e+00  0.00000000e+00\n",
      "   0.00000000e+00  0.00000000e+00  0.00000000e+00  0.00000000e+00\n",
      "   0.00000000e+00  0.00000000e+00  8.00000000e+01  0.00000000e+00\n",
      "   1.67088077e+00  0.00000000e+00  6.00000000e+00  6.00000000e+00\n",
      "   6.00000000e+00  0.00000000e+00  0.00000000e+00  0.00000000e+00\n",
      "   0.00000000e+00  0.00000000e+00  0.00000000e+00  1.00000000e+00\n",
      "   0.00000000e+00  0.00000000e+00  0.00000000e+00  0.00000000e+00\n",
      "   7.50000000e+00  6.00000000e+00  0.00000000e+00  8.00000000e+01\n",
      "   0.00000000e+00  0.00000000e+00  0.00000000e+00  0.00000000e+00\n",
      "   0.00000000e+00  0.00000000e+00  4.00000000e+00  2.40000000e+01\n",
      "   0.00000000e+00  0.00000000e+00  2.56000000e+02 -1.00000000e+00\n",
      "   3.00000000e+00  2.00000000e+01  0.00000000e+00  0.00000000e+00\n",
      "   0.00000000e+00  0.00000000e+00  0.00000000e+00  0.00000000e+00\n",
      "   0.00000000e+00  0.00000000e+00]]\n"
     ]
    },
    {
     "name": "stderr",
     "output_type": "stream",
     "text": [
      "C:\\Users\\Tanya Batra\\AppData\\Local\\Programs\\Python\\Python312\\Lib\\site-packages\\sklearn\\utils\\validation.py:2732: UserWarning: X has feature names, but StandardScaler was fitted without feature names\n",
      "  warnings.warn(\n"
     ]
    },
    {
     "name": "stdout",
     "output_type": "stream",
     "text": [
      "ALERT: 🚨 Attack detected at Thu Apr 10 01:07:03 2025 | Data: [[ 8.00000000e+01  1.00737420e+07  6.00000000e+00  0.00000000e+00\n",
      "   3.60000000e+01  0.00000000e+00  6.00000000e+00  6.00000000e+00\n",
      "   6.00000000e+00  0.00000000e+00  0.00000000e+00  0.00000000e+00\n",
      "   0.00000000e+00  0.00000000e+00  3.57364721e+00  5.95607868e-01\n",
      "   2.01474840e+06  4.50331388e+06  1.01000000e+07  1.92000000e+02\n",
      "   1.01000000e+07  2.01474840e+06  4.50331388e+06  1.01000000e+07\n",
      "   1.92000000e+02  0.00000000e+00  0.00000000e+00  0.00000000e+00\n",
      "   0.00000000e+00  0.00000000e+00  0.00000000e+00  0.00000000e+00\n",
      "   0.00000000e+00  0.00000000e+00  1.20000000e+02  0.00000000e+00\n",
      "   5.95607868e-01  0.00000000e+00  6.00000000e+00  6.00000000e+00\n",
      "   6.00000000e+00  0.00000000e+00  0.00000000e+00  0.00000000e+00\n",
      "   0.00000000e+00  0.00000000e+00  0.00000000e+00  1.00000000e+00\n",
      "   0.00000000e+00  0.00000000e+00  0.00000000e+00  0.00000000e+00\n",
      "   7.00000000e+00  6.00000000e+00  0.00000000e+00  1.20000000e+02\n",
      "   0.00000000e+00  0.00000000e+00  0.00000000e+00  0.00000000e+00\n",
      "   0.00000000e+00  0.00000000e+00  6.00000000e+00  3.60000000e+01\n",
      "   0.00000000e+00  0.00000000e+00  2.56000000e+02 -1.00000000e+00\n",
      "   5.00000000e+00  2.00000000e+01  3.22100000e+03  0.00000000e+00\n",
      "   3.22100000e+03  3.22100000e+03  1.01000000e+07  0.00000000e+00\n",
      "   1.01000000e+07  1.01000000e+07]]\n"
     ]
    },
    {
     "name": "stderr",
     "output_type": "stream",
     "text": [
      "C:\\Users\\Tanya Batra\\AppData\\Local\\Programs\\Python\\Python312\\Lib\\site-packages\\sklearn\\utils\\validation.py:2732: UserWarning: X has feature names, but StandardScaler was fitted without feature names\n",
      "  warnings.warn(\n"
     ]
    },
    {
     "name": "stdout",
     "output_type": "stream",
     "text": [
      "SAFE ✅ : Normal Traffic at Thu Apr 10 01:07:08 2025\n"
     ]
    },
    {
     "name": "stderr",
     "output_type": "stream",
     "text": [
      "C:\\Users\\Tanya Batra\\AppData\\Local\\Programs\\Python\\Python312\\Lib\\site-packages\\sklearn\\utils\\validation.py:2732: UserWarning: X has feature names, but StandardScaler was fitted without feature names\n",
      "  warnings.warn(\n"
     ]
    },
    {
     "name": "stdout",
     "output_type": "stream",
     "text": [
      "SAFE ✅ : Normal Traffic at Thu Apr 10 01:07:13 2025\n"
     ]
    },
    {
     "name": "stderr",
     "output_type": "stream",
     "text": [
      "C:\\Users\\Tanya Batra\\AppData\\Local\\Programs\\Python\\Python312\\Lib\\site-packages\\sklearn\\utils\\validation.py:2732: UserWarning: X has feature names, but StandardScaler was fitted without feature names\n",
      "  warnings.warn(\n"
     ]
    },
    {
     "name": "stdout",
     "output_type": "stream",
     "text": [
      "SAFE ✅ : Normal Traffic at Thu Apr 10 01:07:18 2025\n"
     ]
    },
    {
     "name": "stderr",
     "output_type": "stream",
     "text": [
      "C:\\Users\\Tanya Batra\\AppData\\Local\\Programs\\Python\\Python312\\Lib\\site-packages\\sklearn\\utils\\validation.py:2732: UserWarning: X has feature names, but StandardScaler was fitted without feature names\n",
      "  warnings.warn(\n"
     ]
    },
    {
     "name": "stdout",
     "output_type": "stream",
     "text": [
      "ALERT: 🚨 Attack detected at Thu Apr 10 01:07:23 2025 | Data: [[8.00000000e+01 1.11046600e+06 3.00000000e+00 4.00000000e+00\n",
      "  2.60000000e+01 1.16010000e+04 2.00000000e+01 0.00000000e+00\n",
      "  8.66666667e+00 1.02632029e+01 8.76000000e+03 0.00000000e+00\n",
      "  2.90025000e+03 4.12831930e+03 1.04703791e+04 6.30365990e+00\n",
      "  1.85077667e+05 4.50741065e+05 1.10514400e+06 9.60000000e+01\n",
      "  4.26800000e+03 2.13400000e+03 2.77044437e+03 4.09300000e+03\n",
      "  1.75000000e+02 1.11034300e+06 3.70114333e+05 6.36556480e+05\n",
      "  1.10514400e+06 9.58000000e+02 0.00000000e+00 0.00000000e+00\n",
      "  0.00000000e+00 0.00000000e+00 7.20000000e+01 9.20000000e+01\n",
      "  2.70156853e+00 3.60209137e+00 0.00000000e+00 8.76000000e+03\n",
      "  1.45337500e+03 3.11395261e+03 9.69670084e+06 0.00000000e+00\n",
      "  0.00000000e+00 0.00000000e+00 1.00000000e+00 0.00000000e+00\n",
      "  0.00000000e+00 0.00000000e+00 0.00000000e+00 1.00000000e+00\n",
      "  1.66100000e+03 8.66666667e+00 2.90025000e+03 7.20000000e+01\n",
      "  0.00000000e+00 0.00000000e+00 0.00000000e+00 0.00000000e+00\n",
      "  0.00000000e+00 0.00000000e+00 3.00000000e+00 2.60000000e+01\n",
      "  4.00000000e+00 1.16010000e+04 8.19200000e+03 2.29000000e+02\n",
      "  2.00000000e+00 2.00000000e+01 0.00000000e+00 0.00000000e+00\n",
      "  0.00000000e+00 0.00000000e+00 0.00000000e+00 0.00000000e+00\n",
      "  0.00000000e+00 0.00000000e+00]]\n"
     ]
    },
    {
     "name": "stderr",
     "output_type": "stream",
     "text": [
      "C:\\Users\\Tanya Batra\\AppData\\Local\\Programs\\Python\\Python312\\Lib\\site-packages\\sklearn\\utils\\validation.py:2732: UserWarning: X has feature names, but StandardScaler was fitted without feature names\n",
      "  warnings.warn(\n"
     ]
    },
    {
     "name": "stdout",
     "output_type": "stream",
     "text": [
      "SAFE ✅ : Normal Traffic at Thu Apr 10 01:07:28 2025\n"
     ]
    },
    {
     "name": "stderr",
     "output_type": "stream",
     "text": [
      "C:\\Users\\Tanya Batra\\AppData\\Local\\Programs\\Python\\Python312\\Lib\\site-packages\\sklearn\\utils\\validation.py:2732: UserWarning: X has feature names, but StandardScaler was fitted without feature names\n",
      "  warnings.warn(\n"
     ]
    },
    {
     "name": "stdout",
     "output_type": "stream",
     "text": [
      "ALERT: 🚨 Attack detected at Thu Apr 10 01:07:33 2025 | Data: [[8.00000000e+01 2.34371000e+05 3.00000000e+00 4.00000000e+00\n",
      "  2.60000000e+01 1.16070000e+04 2.00000000e+01 0.00000000e+00\n",
      "  8.66666667e+00 1.02632029e+01 1.15950000e+04 0.00000000e+00\n",
      "  2.90175000e+03 5.79550069e+03 4.96349804e+04 2.98671764e+01\n",
      "  3.90618333e+04 9.53080161e+04 2.33608000e+05 6.00000000e+00\n",
      "  7.10000000e+02 3.55000000e+02 3.88908730e+02 6.30000000e+02\n",
      "  8.00000000e+01 2.34326000e+05 7.81086667e+04 1.34666836e+05\n",
      "  2.33608000e+05 6.00000000e+00 0.00000000e+00 0.00000000e+00\n",
      "  0.00000000e+00 0.00000000e+00 7.20000000e+01 9.20000000e+01\n",
      "  1.28002185e+01 1.70669579e+01 0.00000000e+00 1.15950000e+04\n",
      "  1.45412500e+03 4.09753753e+03 1.68000000e+07 0.00000000e+00\n",
      "  0.00000000e+00 0.00000000e+00 1.00000000e+00 0.00000000e+00\n",
      "  0.00000000e+00 0.00000000e+00 0.00000000e+00 1.00000000e+00\n",
      "  1.66185714e+03 8.66666667e+00 2.90175000e+03 7.20000000e+01\n",
      "  0.00000000e+00 0.00000000e+00 0.00000000e+00 0.00000000e+00\n",
      "  0.00000000e+00 0.00000000e+00 3.00000000e+00 2.60000000e+01\n",
      "  4.00000000e+00 1.16070000e+04 8.19200000e+03 2.29000000e+02\n",
      "  2.00000000e+00 2.00000000e+01 0.00000000e+00 0.00000000e+00\n",
      "  0.00000000e+00 0.00000000e+00 0.00000000e+00 0.00000000e+00\n",
      "  0.00000000e+00 0.00000000e+00]]\n"
     ]
    },
    {
     "name": "stderr",
     "output_type": "stream",
     "text": [
      "C:\\Users\\Tanya Batra\\AppData\\Local\\Programs\\Python\\Python312\\Lib\\site-packages\\sklearn\\utils\\validation.py:2732: UserWarning: X has feature names, but StandardScaler was fitted without feature names\n",
      "  warnings.warn(\n"
     ]
    },
    {
     "name": "stdout",
     "output_type": "stream",
     "text": [
      "ALERT: 🚨 Attack detected at Thu Apr 10 01:07:38 2025 | Data: [[8.00000000e+01 1.32639000e+06 3.00000000e+00 6.00000000e+00\n",
      "  2.60000000e+01 1.16070000e+04 2.00000000e+01 0.00000000e+00\n",
      "  8.66666667e+00 1.02632029e+01 4.38000000e+03 0.00000000e+00\n",
      "  1.93450000e+03 2.17734497e+03 8.77042197e+03 6.78533463e+00\n",
      "  1.65798750e+05 4.68494778e+05 1.32526400e+06 6.00000000e+00\n",
      "  8.63000000e+02 4.31500000e+02 5.40936688e+02 8.14000000e+02\n",
      "  4.90000000e+01 1.32634400e+06 2.65268800e+05 5.92555420e+05\n",
      "  1.32526400e+06 2.10000000e+01 0.00000000e+00 0.00000000e+00\n",
      "  0.00000000e+00 0.00000000e+00 7.20000000e+01 1.32000000e+02\n",
      "  2.26177821e+00 4.52355642e+00 0.00000000e+00 4.38000000e+03\n",
      "  1.16330000e+03 1.90396265e+03 3.62507379e+06 0.00000000e+00\n",
      "  0.00000000e+00 0.00000000e+00 1.00000000e+00 0.00000000e+00\n",
      "  0.00000000e+00 0.00000000e+00 0.00000000e+00 2.00000000e+00\n",
      "  1.29255556e+03 8.66666667e+00 1.93450000e+03 7.20000000e+01\n",
      "  0.00000000e+00 0.00000000e+00 0.00000000e+00 0.00000000e+00\n",
      "  0.00000000e+00 0.00000000e+00 3.00000000e+00 2.60000000e+01\n",
      "  6.00000000e+00 1.16070000e+04 8.19200000e+03 2.29000000e+02\n",
      "  2.00000000e+00 2.00000000e+01 0.00000000e+00 0.00000000e+00\n",
      "  0.00000000e+00 0.00000000e+00 0.00000000e+00 0.00000000e+00\n",
      "  0.00000000e+00 0.00000000e+00]]\n"
     ]
    },
    {
     "name": "stderr",
     "output_type": "stream",
     "text": [
      "C:\\Users\\Tanya Batra\\AppData\\Local\\Programs\\Python\\Python312\\Lib\\site-packages\\sklearn\\utils\\validation.py:2732: UserWarning: X has feature names, but StandardScaler was fitted without feature names\n",
      "  warnings.warn(\n"
     ]
    },
    {
     "name": "stdout",
     "output_type": "stream",
     "text": [
      "ALERT: 🚨 Attack detected at Thu Apr 10 01:07:44 2025 | Data: [[ 8.00000000e+01  9.97893500e+06  5.00000000e+00  0.00000000e+00\n",
      "   3.00000000e+01  0.00000000e+00  6.00000000e+00  6.00000000e+00\n",
      "   6.00000000e+00  0.00000000e+00  0.00000000e+00  0.00000000e+00\n",
      "   0.00000000e+00  0.00000000e+00  3.00633284e+00  5.01055473e-01\n",
      "   2.49473375e+06  4.98752357e+06  9.97601900e+06  2.36000000e+02\n",
      "   9.97893500e+06  2.49473375e+06  4.98752357e+06  9.97601900e+06\n",
      "   2.36000000e+02  0.00000000e+00  0.00000000e+00  0.00000000e+00\n",
      "   0.00000000e+00  0.00000000e+00  0.00000000e+00  0.00000000e+00\n",
      "   0.00000000e+00  0.00000000e+00  1.00000000e+02  0.00000000e+00\n",
      "   5.01055473e-01  0.00000000e+00  6.00000000e+00  6.00000000e+00\n",
      "   6.00000000e+00  0.00000000e+00  0.00000000e+00  0.00000000e+00\n",
      "   0.00000000e+00  0.00000000e+00  0.00000000e+00  1.00000000e+00\n",
      "   0.00000000e+00  0.00000000e+00  0.00000000e+00  0.00000000e+00\n",
      "   7.20000000e+00  6.00000000e+00  0.00000000e+00  1.00000000e+02\n",
      "   0.00000000e+00  0.00000000e+00  0.00000000e+00  0.00000000e+00\n",
      "   0.00000000e+00  0.00000000e+00  5.00000000e+00  3.00000000e+01\n",
      "   0.00000000e+00  0.00000000e+00  2.56000000e+02 -1.00000000e+00\n",
      "   4.00000000e+00  2.00000000e+01  2.91600000e+03  0.00000000e+00\n",
      "   2.91600000e+03  2.91600000e+03  9.97601900e+06  0.00000000e+00\n",
      "   9.97601900e+06  9.97601900e+06]]\n"
     ]
    },
    {
     "name": "stderr",
     "output_type": "stream",
     "text": [
      "C:\\Users\\Tanya Batra\\AppData\\Local\\Programs\\Python\\Python312\\Lib\\site-packages\\sklearn\\utils\\validation.py:2732: UserWarning: X has feature names, but StandardScaler was fitted without feature names\n",
      "  warnings.warn(\n"
     ]
    },
    {
     "name": "stdout",
     "output_type": "stream",
     "text": [
      "ALERT: 🚨 Attack detected at Thu Apr 10 01:07:49 2025 | Data: [[8.00000000e+01 2.04513000e+05 3.00000000e+00 5.00000000e+00\n",
      "  2.60000000e+01 1.16070000e+04 2.00000000e+01 0.00000000e+00\n",
      "  8.66666667e+00 1.02632029e+01 5.84000000e+03 0.00000000e+00\n",
      "  2.32140000e+03 3.17337388e+03 5.68814696e+04 3.91173177e+01\n",
      "  2.92161429e+04 7.68296477e+04 2.03448000e+05 1.00000000e+00\n",
      "  9.18000000e+02 4.59000000e+02 6.47709812e+02 9.17000000e+02\n",
      "  1.00000000e+00 2.04460000e+05 5.11150000e+04 1.01556293e+05\n",
      "  2.03448000e+05 2.00000000e+00 0.00000000e+00 0.00000000e+00\n",
      "  0.00000000e+00 0.00000000e+00 7.20000000e+01 1.12000000e+02\n",
      "  1.46689941e+01 2.44483236e+01 0.00000000e+00 5.84000000e+03\n",
      "  1.29255556e+03 2.55415921e+03 6.52372928e+06 0.00000000e+00\n",
      "  0.00000000e+00 0.00000000e+00 1.00000000e+00 0.00000000e+00\n",
      "  0.00000000e+00 0.00000000e+00 0.00000000e+00 1.00000000e+00\n",
      "  1.45412500e+03 8.66666667e+00 2.32140000e+03 7.20000000e+01\n",
      "  0.00000000e+00 0.00000000e+00 0.00000000e+00 0.00000000e+00\n",
      "  0.00000000e+00 0.00000000e+00 3.00000000e+00 2.60000000e+01\n",
      "  5.00000000e+00 1.16070000e+04 8.19200000e+03 2.29000000e+02\n",
      "  2.00000000e+00 2.00000000e+01 0.00000000e+00 0.00000000e+00\n",
      "  0.00000000e+00 0.00000000e+00 0.00000000e+00 0.00000000e+00\n",
      "  0.00000000e+00 0.00000000e+00]]\n"
     ]
    },
    {
     "name": "stderr",
     "output_type": "stream",
     "text": [
      "C:\\Users\\Tanya Batra\\AppData\\Local\\Programs\\Python\\Python312\\Lib\\site-packages\\sklearn\\utils\\validation.py:2732: UserWarning: X has feature names, but StandardScaler was fitted without feature names\n",
      "  warnings.warn(\n"
     ]
    },
    {
     "name": "stdout",
     "output_type": "stream",
     "text": [
      "SAFE ✅ : Normal Traffic at Thu Apr 10 01:07:54 2025\n"
     ]
    },
    {
     "name": "stderr",
     "output_type": "stream",
     "text": [
      "C:\\Users\\Tanya Batra\\AppData\\Local\\Programs\\Python\\Python312\\Lib\\site-packages\\sklearn\\utils\\validation.py:2732: UserWarning: X has feature names, but StandardScaler was fitted without feature names\n",
      "  warnings.warn(\n"
     ]
    },
    {
     "name": "stdout",
     "output_type": "stream",
     "text": [
      "ALERT: 🚨 Attack detected at Thu Apr 10 01:07:59 2025 | Data: [[ 8.00000000e+01  3.90092800e+06  5.00000000e+00  0.00000000e+00\n",
      "   3.00000000e+01  0.00000000e+00  6.00000000e+00  6.00000000e+00\n",
      "   6.00000000e+00  0.00000000e+00  0.00000000e+00  0.00000000e+00\n",
      "   0.00000000e+00  0.00000000e+00  7.69047775e+00  1.28174629e+00\n",
      "   9.75232000e+05  1.94820755e+06  3.89754300e+06  4.43000000e+02\n",
      "   3.90092800e+06  9.75232000e+05  1.94820755e+06  3.89754300e+06\n",
      "   4.43000000e+02  0.00000000e+00  0.00000000e+00  0.00000000e+00\n",
      "   0.00000000e+00  0.00000000e+00  0.00000000e+00  0.00000000e+00\n",
      "   0.00000000e+00  0.00000000e+00  1.00000000e+02  0.00000000e+00\n",
      "   1.28174629e+00  0.00000000e+00  6.00000000e+00  6.00000000e+00\n",
      "   6.00000000e+00  0.00000000e+00  0.00000000e+00  0.00000000e+00\n",
      "   0.00000000e+00  0.00000000e+00  0.00000000e+00  1.00000000e+00\n",
      "   0.00000000e+00  0.00000000e+00  0.00000000e+00  0.00000000e+00\n",
      "   7.20000000e+00  6.00000000e+00  0.00000000e+00  1.00000000e+02\n",
      "   0.00000000e+00  0.00000000e+00  0.00000000e+00  0.00000000e+00\n",
      "   0.00000000e+00  0.00000000e+00  5.00000000e+00  3.00000000e+01\n",
      "   0.00000000e+00  0.00000000e+00  2.56000000e+02 -1.00000000e+00\n",
      "   4.00000000e+00  2.00000000e+01  0.00000000e+00  0.00000000e+00\n",
      "   0.00000000e+00  0.00000000e+00  0.00000000e+00  0.00000000e+00\n",
      "   0.00000000e+00  0.00000000e+00]]\n"
     ]
    },
    {
     "name": "stderr",
     "output_type": "stream",
     "text": [
      "C:\\Users\\Tanya Batra\\AppData\\Local\\Programs\\Python\\Python312\\Lib\\site-packages\\sklearn\\utils\\validation.py:2732: UserWarning: X has feature names, but StandardScaler was fitted without feature names\n",
      "  warnings.warn(\n"
     ]
    },
    {
     "name": "stdout",
     "output_type": "stream",
     "text": [
      "ALERT: 🚨 Attack detected at Thu Apr 10 01:08:04 2025 | Data: [[8.00000000e+01 5.05211000e+05 3.00000000e+00 5.00000000e+00\n",
      "  2.60000000e+01 1.16010000e+04 2.00000000e+01 0.00000000e+00\n",
      "  8.66666667e+00 1.02632029e+01 5.84000000e+03 0.00000000e+00\n",
      "  2.32020000e+03 2.43683303e+03 2.30141466e+04 1.58349680e+01\n",
      "  7.21730000e+04 1.71667691e+05 4.59640000e+05 8.10000000e+01\n",
      "  4.50670000e+04 2.25335000e+04 3.17526300e+04 4.49860000e+04\n",
      "  8.10000000e+01 5.05084000e+05 1.26271000e+05 2.23250460e+05\n",
      "  4.59640000e+05 1.90000000e+02 0.00000000e+00 0.00000000e+00\n",
      "  0.00000000e+00 0.00000000e+00 7.20000000e+01 1.12000000e+02\n",
      "  5.93811299e+00 9.89685498e+00 0.00000000e+00 5.84000000e+03\n",
      "  1.29188889e+03 2.11095076e+03 4.45611311e+06 0.00000000e+00\n",
      "  0.00000000e+00 0.00000000e+00 1.00000000e+00 0.00000000e+00\n",
      "  0.00000000e+00 0.00000000e+00 0.00000000e+00 1.00000000e+00\n",
      "  1.45337500e+03 8.66666667e+00 2.32020000e+03 7.20000000e+01\n",
      "  0.00000000e+00 0.00000000e+00 0.00000000e+00 0.00000000e+00\n",
      "  0.00000000e+00 0.00000000e+00 3.00000000e+00 2.60000000e+01\n",
      "  5.00000000e+00 1.16010000e+04 8.19200000e+03 2.29000000e+02\n",
      "  2.00000000e+00 2.00000000e+01 0.00000000e+00 0.00000000e+00\n",
      "  0.00000000e+00 0.00000000e+00 0.00000000e+00 0.00000000e+00\n",
      "  0.00000000e+00 0.00000000e+00]]\n"
     ]
    },
    {
     "name": "stderr",
     "output_type": "stream",
     "text": [
      "C:\\Users\\Tanya Batra\\AppData\\Local\\Programs\\Python\\Python312\\Lib\\site-packages\\sklearn\\utils\\validation.py:2732: UserWarning: X has feature names, but StandardScaler was fitted without feature names\n",
      "  warnings.warn(\n"
     ]
    },
    {
     "name": "stdout",
     "output_type": "stream",
     "text": [
      "ALERT: 🚨 Attack detected at Thu Apr 10 01:08:09 2025 | Data: [[8.00000000e+01 8.86035290e+07 8.00000000e+00 5.00000000e+00\n",
      "  5.60000000e+01 1.16010000e+04 2.00000000e+01 0.00000000e+00\n",
      "  7.00000000e+00 5.65685425e+00 7.30000000e+03 0.00000000e+00\n",
      "  2.32020000e+03 3.02250810e+03 1.31563608e+02 1.46721018e-01\n",
      "  7.38362742e+06 2.28000000e+07 7.94000000e+07 0.00000000e+00\n",
      "  8.86000000e+07 1.27000000e+07 2.96000000e+07 7.94000000e+07\n",
      "  0.00000000e+00 3.44360000e+04 8.60900000e+03 1.49552302e+04\n",
      "  3.09520000e+04 8.50000000e+01 0.00000000e+00 0.00000000e+00\n",
      "  0.00000000e+00 0.00000000e+00 1.72000000e+02 1.12000000e+02\n",
      "  9.02898570e-02 5.64311610e-02 0.00000000e+00 7.30000000e+03\n",
      "  8.33071429e+02 2.03325054e+03 4.13410776e+06 0.00000000e+00\n",
      "  0.00000000e+00 0.00000000e+00 0.00000000e+00 1.00000000e+00\n",
      "  0.00000000e+00 0.00000000e+00 0.00000000e+00 0.00000000e+00\n",
      "  8.97153846e+02 7.00000000e+00 2.32020000e+03 1.72000000e+02\n",
      "  0.00000000e+00 0.00000000e+00 0.00000000e+00 0.00000000e+00\n",
      "  0.00000000e+00 0.00000000e+00 8.00000000e+00 5.60000000e+01\n",
      "  5.00000000e+00 1.16010000e+04 2.56000000e+02 2.29000000e+02\n",
      "  6.00000000e+00 2.00000000e+01 3.99900000e+03 0.00000000e+00\n",
      "  3.99900000e+03 3.99900000e+03 4.43000000e+07 4.97000000e+07\n",
      "  7.94000000e+07 9.12477700e+06]]\n"
     ]
    },
    {
     "name": "stderr",
     "output_type": "stream",
     "text": [
      "C:\\Users\\Tanya Batra\\AppData\\Local\\Programs\\Python\\Python312\\Lib\\site-packages\\sklearn\\utils\\validation.py:2732: UserWarning: X has feature names, but StandardScaler was fitted without feature names\n",
      "  warnings.warn(\n"
     ]
    },
    {
     "name": "stdout",
     "output_type": "stream",
     "text": [
      "ALERT: 🚨 Attack detected at Thu Apr 10 01:08:14 2025 | Data: [[8.00000000e+01 7.14755260e+07 8.00000000e+00 4.00000000e+00\n",
      "  5.60000000e+01 1.16070000e+04 2.00000000e+01 0.00000000e+00\n",
      "  7.00000000e+00 5.65685425e+00 1.15950000e+04 0.00000000e+00\n",
      "  2.90175000e+03 5.79550069e+03 1.63174735e+02 1.67889635e-01\n",
      "  6.49777509e+06 1.93000000e+07 6.42000000e+07 3.00000000e+00\n",
      "  7.12000000e+07 1.02000000e+07 2.40000000e+07 6.42000000e+07\n",
      "  3.00000000e+00 3.16579000e+05 1.05526333e+05 1.81978202e+05\n",
      "  3.15656000e+05 5.00000000e+00 0.00000000e+00 0.00000000e+00\n",
      "  0.00000000e+00 0.00000000e+00 1.72000000e+02 9.20000000e+01\n",
      "  1.11926424e-01 5.59632120e-02 0.00000000e+00 1.15950000e+04\n",
      "  8.97615385e+02 3.21416753e+03 1.03000000e+07 0.00000000e+00\n",
      "  0.00000000e+00 0.00000000e+00 0.00000000e+00 1.00000000e+00\n",
      "  0.00000000e+00 0.00000000e+00 0.00000000e+00 0.00000000e+00\n",
      "  9.72416667e+02 7.00000000e+00 2.90175000e+03 1.72000000e+02\n",
      "  0.00000000e+00 0.00000000e+00 0.00000000e+00 0.00000000e+00\n",
      "  0.00000000e+00 0.00000000e+00 8.00000000e+00 5.60000000e+01\n",
      "  4.00000000e+00 1.16070000e+04 2.56000000e+02 2.29000000e+02\n",
      "  6.00000000e+00 2.00000000e+01 8.72000000e+02 0.00000000e+00\n",
      "  8.72000000e+02 8.72000000e+02 3.56000000e+07 4.05000000e+07\n",
      "  6.42000000e+07 6.95325400e+06]]\n"
     ]
    },
    {
     "name": "stderr",
     "output_type": "stream",
     "text": [
      "C:\\Users\\Tanya Batra\\AppData\\Local\\Programs\\Python\\Python312\\Lib\\site-packages\\sklearn\\utils\\validation.py:2732: UserWarning: X has feature names, but StandardScaler was fitted without feature names\n",
      "  warnings.warn(\n"
     ]
    },
    {
     "name": "stdout",
     "output_type": "stream",
     "text": [
      "ALERT: 🚨 Attack detected at Thu Apr 10 01:08:19 2025 | Data: [[8.00000000e+01 8.01451220e+07 8.00000000e+00 4.00000000e+00\n",
      "  5.60000000e+01 1.16010000e+04 2.00000000e+01 0.00000000e+00\n",
      "  7.00000000e+00 5.65685425e+00 8.76000000e+03 0.00000000e+00\n",
      "  2.90025000e+03 4.12831930e+03 1.45448653e+02 1.49728389e-01\n",
      "  7.28592018e+06 2.17000000e+07 7.24000000e+07 1.00000000e+00\n",
      "  7.84000000e+07 1.12000000e+07 2.71000000e+07 7.24000000e+07\n",
      "  1.00000000e+00 1.74706100e+06 5.82353667e+05 9.98341628e+05\n",
      "  1.73512200e+06 5.03000000e+02 0.00000000e+00 0.00000000e+00\n",
      "  0.00000000e+00 0.00000000e+00 1.72000000e+02 9.20000000e+01\n",
      "  9.98189260e-02 4.99094630e-02 0.00000000e+00 8.76000000e+03\n",
      "  8.97153846e+02 2.48850704e+03 6.19266731e+06 0.00000000e+00\n",
      "  0.00000000e+00 0.00000000e+00 0.00000000e+00 1.00000000e+00\n",
      "  0.00000000e+00 0.00000000e+00 0.00000000e+00 0.00000000e+00\n",
      "  9.71916667e+02 7.00000000e+00 2.90025000e+03 1.72000000e+02\n",
      "  0.00000000e+00 0.00000000e+00 0.00000000e+00 0.00000000e+00\n",
      "  0.00000000e+00 0.00000000e+00 8.00000000e+00 5.60000000e+01\n",
      "  4.00000000e+00 1.16010000e+04 2.56000000e+02 2.29000000e+02\n",
      "  6.00000000e+00 2.00000000e+01 2.02700000e+03 0.00000000e+00\n",
      "  2.02700000e+03 2.02700000e+03 3.92000000e+07 4.69000000e+07\n",
      "  7.24000000e+07 6.01986000e+06]]\n"
     ]
    },
    {
     "name": "stderr",
     "output_type": "stream",
     "text": [
      "C:\\Users\\Tanya Batra\\AppData\\Local\\Programs\\Python\\Python312\\Lib\\site-packages\\sklearn\\utils\\validation.py:2732: UserWarning: X has feature names, but StandardScaler was fitted without feature names\n",
      "  warnings.warn(\n"
     ]
    },
    {
     "name": "stdout",
     "output_type": "stream",
     "text": [
      "ALERT: 🚨 Attack detected at Thu Apr 10 01:08:24 2025 | Data: [[ 8.00000000e+01  1.00738890e+07  5.00000000e+00  0.00000000e+00\n",
      "   3.00000000e+01  0.00000000e+00  6.00000000e+00  6.00000000e+00\n",
      "   6.00000000e+00  0.00000000e+00  0.00000000e+00  0.00000000e+00\n",
      "   0.00000000e+00  0.00000000e+00  2.97799589e+00  4.96332648e-01\n",
      "   2.51847225e+06  5.03627319e+06  1.01000000e+07  1.00000000e+00\n",
      "   1.01000000e+07  2.51847225e+06  5.03627319e+06  1.01000000e+07\n",
      "   1.00000000e+00  0.00000000e+00  0.00000000e+00  0.00000000e+00\n",
      "   0.00000000e+00  0.00000000e+00  0.00000000e+00  0.00000000e+00\n",
      "   0.00000000e+00  0.00000000e+00  1.00000000e+02  0.00000000e+00\n",
      "   4.96332648e-01  0.00000000e+00  6.00000000e+00  6.00000000e+00\n",
      "   6.00000000e+00  0.00000000e+00  0.00000000e+00  0.00000000e+00\n",
      "   0.00000000e+00  0.00000000e+00  0.00000000e+00  1.00000000e+00\n",
      "   0.00000000e+00  0.00000000e+00  0.00000000e+00  0.00000000e+00\n",
      "   7.20000000e+00  6.00000000e+00  0.00000000e+00  1.00000000e+02\n",
      "   0.00000000e+00  0.00000000e+00  0.00000000e+00  0.00000000e+00\n",
      "   0.00000000e+00  0.00000000e+00  5.00000000e+00  3.00000000e+01\n",
      "   0.00000000e+00  0.00000000e+00  2.56000000e+02 -1.00000000e+00\n",
      "   4.00000000e+00  2.00000000e+01  1.00700000e+03  0.00000000e+00\n",
      "   1.00700000e+03  1.00700000e+03  1.01000000e+07  0.00000000e+00\n",
      "   1.01000000e+07  1.01000000e+07]]\n"
     ]
    },
    {
     "name": "stderr",
     "output_type": "stream",
     "text": [
      "C:\\Users\\Tanya Batra\\AppData\\Local\\Programs\\Python\\Python312\\Lib\\site-packages\\sklearn\\utils\\validation.py:2732: UserWarning: X has feature names, but StandardScaler was fitted without feature names\n",
      "  warnings.warn(\n"
     ]
    },
    {
     "name": "stdout",
     "output_type": "stream",
     "text": [
      "ALERT: 🚨 Attack detected at Thu Apr 10 01:08:29 2025 | Data: [[8.00000000e+01 8.14975950e+07 8.00000000e+00 6.00000000e+00\n",
      "  5.60000000e+01 1.16010000e+04 2.00000000e+01 0.00000000e+00\n",
      "  7.00000000e+00 5.65685425e+00 5.84000000e+03 0.00000000e+00\n",
      "  1.93350000e+03 2.18977293e+03 1.43034896e+02 1.71784210e-01\n",
      "  6.26904577e+06 2.11000000e+07 7.64000000e+07 3.00000000e+00\n",
      "  8.12000000e+07 1.16000000e+07 2.86000000e+07 7.64000000e+07\n",
      "  3.00000000e+00 2.67896000e+05 5.35792000e+04 1.10915223e+05\n",
      "  2.51633000e+05 4.70000000e+01 0.00000000e+00 0.00000000e+00\n",
      "  0.00000000e+00 0.00000000e+00 1.72000000e+02 1.32000000e+02\n",
      "  9.81624060e-02 7.36218040e-02 0.00000000e+00 5.84000000e+03\n",
      "  7.77533333e+02 1.63310269e+03 2.66702441e+06 0.00000000e+00\n",
      "  0.00000000e+00 0.00000000e+00 0.00000000e+00 1.00000000e+00\n",
      "  0.00000000e+00 0.00000000e+00 0.00000000e+00 0.00000000e+00\n",
      "  8.33071429e+02 7.00000000e+00 1.93350000e+03 1.72000000e+02\n",
      "  0.00000000e+00 0.00000000e+00 0.00000000e+00 0.00000000e+00\n",
      "  0.00000000e+00 0.00000000e+00 8.00000000e+00 5.60000000e+01\n",
      "  6.00000000e+00 1.16010000e+04 2.56000000e+02 2.29000000e+02\n",
      "  6.00000000e+00 2.00000000e+01 4.77983800e+06 0.00000000e+00\n",
      "  4.77983800e+06 4.77983800e+06 7.64000000e+07 0.00000000e+00\n",
      "  7.64000000e+07 7.64000000e+07]]\n"
     ]
    },
    {
     "name": "stderr",
     "output_type": "stream",
     "text": [
      "C:\\Users\\Tanya Batra\\AppData\\Local\\Programs\\Python\\Python312\\Lib\\site-packages\\sklearn\\utils\\validation.py:2732: UserWarning: X has feature names, but StandardScaler was fitted without feature names\n",
      "  warnings.warn(\n"
     ]
    },
    {
     "name": "stdout",
     "output_type": "stream",
     "text": [
      "ALERT: 🚨 Attack detected at Thu Apr 10 01:08:34 2025 | Data: [[8.00000000e+01 1.85920000e+04 3.00000000e+00 5.00000000e+00\n",
      "  2.60000000e+01 1.16010000e+04 2.00000000e+01 0.00000000e+00\n",
      "  8.66666667e+00 1.02632029e+01 5.84000000e+03 0.00000000e+00\n",
      "  2.32020000e+03 2.43683303e+03 6.25376506e+05 4.30292599e+02\n",
      "  2.65600000e+03 4.68401220e+03 1.27150000e+04 8.00000000e+00\n",
      "  5.04800000e+03 2.52400000e+03 2.49891536e+03 4.29100000e+03\n",
      "  7.57000000e+02 1.85840000e+04 4.64600000e+03 5.82241313e+03\n",
      "  1.27150000e+04 1.91000000e+02 0.00000000e+00 0.00000000e+00\n",
      "  0.00000000e+00 0.00000000e+00 7.20000000e+01 1.12000000e+02\n",
      "  1.61359725e+02 2.68932874e+02 0.00000000e+00 5.84000000e+03\n",
      "  1.29188889e+03 2.11095076e+03 4.45611311e+06 0.00000000e+00\n",
      "  0.00000000e+00 0.00000000e+00 1.00000000e+00 0.00000000e+00\n",
      "  0.00000000e+00 0.00000000e+00 0.00000000e+00 1.00000000e+00\n",
      "  1.45337500e+03 8.66666667e+00 2.32020000e+03 7.20000000e+01\n",
      "  0.00000000e+00 0.00000000e+00 0.00000000e+00 0.00000000e+00\n",
      "  0.00000000e+00 0.00000000e+00 3.00000000e+00 2.60000000e+01\n",
      "  5.00000000e+00 1.16010000e+04 8.19200000e+03 2.29000000e+02\n",
      "  2.00000000e+00 2.00000000e+01 0.00000000e+00 0.00000000e+00\n",
      "  0.00000000e+00 0.00000000e+00 0.00000000e+00 0.00000000e+00\n",
      "  0.00000000e+00 0.00000000e+00]]\n"
     ]
    },
    {
     "name": "stderr",
     "output_type": "stream",
     "text": [
      "C:\\Users\\Tanya Batra\\AppData\\Local\\Programs\\Python\\Python312\\Lib\\site-packages\\sklearn\\utils\\validation.py:2732: UserWarning: X has feature names, but StandardScaler was fitted without feature names\n",
      "  warnings.warn(\n"
     ]
    },
    {
     "name": "stdout",
     "output_type": "stream",
     "text": [
      "ALERT: 🚨 Attack detected at Thu Apr 10 01:08:39 2025 | Data: [[ 8.00000000e+01  1.52184100e+06  5.00000000e+00  0.00000000e+00\n",
      "   3.00000000e+01  0.00000000e+00  6.00000000e+00  6.00000000e+00\n",
      "   6.00000000e+00  0.00000000e+00  0.00000000e+00  0.00000000e+00\n",
      "   0.00000000e+00  0.00000000e+00  1.97129661e+01  3.28549435e+00\n",
      "   3.80460250e+05  7.60239171e+05  1.52081900e+06  2.73000000e+02\n",
      "   1.52184100e+06  3.80460250e+05  7.60239171e+05  1.52081900e+06\n",
      "   2.73000000e+02  0.00000000e+00  0.00000000e+00  0.00000000e+00\n",
      "   0.00000000e+00  0.00000000e+00  0.00000000e+00  0.00000000e+00\n",
      "   0.00000000e+00  0.00000000e+00  1.00000000e+02  0.00000000e+00\n",
      "   3.28549435e+00  0.00000000e+00  6.00000000e+00  6.00000000e+00\n",
      "   6.00000000e+00  0.00000000e+00  0.00000000e+00  0.00000000e+00\n",
      "   0.00000000e+00  0.00000000e+00  0.00000000e+00  1.00000000e+00\n",
      "   0.00000000e+00  0.00000000e+00  0.00000000e+00  0.00000000e+00\n",
      "   7.20000000e+00  6.00000000e+00  0.00000000e+00  1.00000000e+02\n",
      "   0.00000000e+00  0.00000000e+00  0.00000000e+00  0.00000000e+00\n",
      "   0.00000000e+00  0.00000000e+00  5.00000000e+00  3.00000000e+01\n",
      "   0.00000000e+00  0.00000000e+00  2.56000000e+02 -1.00000000e+00\n",
      "   4.00000000e+00  2.00000000e+01  0.00000000e+00  0.00000000e+00\n",
      "   0.00000000e+00  0.00000000e+00  0.00000000e+00  0.00000000e+00\n",
      "   0.00000000e+00  0.00000000e+00]]\n"
     ]
    },
    {
     "name": "stderr",
     "output_type": "stream",
     "text": [
      "C:\\Users\\Tanya Batra\\AppData\\Local\\Programs\\Python\\Python312\\Lib\\site-packages\\sklearn\\utils\\validation.py:2732: UserWarning: X has feature names, but StandardScaler was fitted without feature names\n",
      "  warnings.warn(\n"
     ]
    },
    {
     "name": "stdout",
     "output_type": "stream",
     "text": [
      "SAFE ✅ : Normal Traffic at Thu Apr 10 01:08:44 2025\n"
     ]
    },
    {
     "name": "stderr",
     "output_type": "stream",
     "text": [
      "C:\\Users\\Tanya Batra\\AppData\\Local\\Programs\\Python\\Python312\\Lib\\site-packages\\sklearn\\utils\\validation.py:2732: UserWarning: X has feature names, but StandardScaler was fitted without feature names\n",
      "  warnings.warn(\n"
     ]
    },
    {
     "name": "stdout",
     "output_type": "stream",
     "text": [
      "ALERT: 🚨 Attack detected at Thu Apr 10 01:08:49 2025 | Data: [[8.00000000e+01 1.71586000e+05 3.00000000e+00 5.00000000e+00\n",
      "  2.60000000e+01 1.16010000e+04 2.00000000e+01 0.00000000e+00\n",
      "  8.66666667e+00 1.02632029e+01 5.84000000e+03 0.00000000e+00\n",
      "  2.32020000e+03 2.43683303e+03 6.77619386e+04 4.66238504e+01\n",
      "  2.45122857e+04 5.59918870e+04 1.50323000e+05 3.70000000e+01\n",
      "  2.06130000e+04 1.03065000e+04 1.45232662e+04 2.05760000e+04\n",
      "  3.70000000e+01 1.71488000e+05 4.28720000e+04 7.22822978e+04\n",
      "  1.50323000e+05 1.60000000e+02 0.00000000e+00 0.00000000e+00\n",
      "  0.00000000e+00 0.00000000e+00 7.20000000e+01 1.12000000e+02\n",
      "  1.74839439e+01 2.91399065e+01 0.00000000e+00 5.84000000e+03\n",
      "  1.29188889e+03 2.11095076e+03 4.45611311e+06 0.00000000e+00\n",
      "  0.00000000e+00 0.00000000e+00 1.00000000e+00 0.00000000e+00\n",
      "  0.00000000e+00 0.00000000e+00 0.00000000e+00 1.00000000e+00\n",
      "  1.45337500e+03 8.66666667e+00 2.32020000e+03 7.20000000e+01\n",
      "  0.00000000e+00 0.00000000e+00 0.00000000e+00 0.00000000e+00\n",
      "  0.00000000e+00 0.00000000e+00 3.00000000e+00 2.60000000e+01\n",
      "  5.00000000e+00 1.16010000e+04 8.19200000e+03 2.29000000e+02\n",
      "  2.00000000e+00 2.00000000e+01 0.00000000e+00 0.00000000e+00\n",
      "  0.00000000e+00 0.00000000e+00 0.00000000e+00 0.00000000e+00\n",
      "  0.00000000e+00 0.00000000e+00]]\n"
     ]
    },
    {
     "name": "stderr",
     "output_type": "stream",
     "text": [
      "C:\\Users\\Tanya Batra\\AppData\\Local\\Programs\\Python\\Python312\\Lib\\site-packages\\sklearn\\utils\\validation.py:2732: UserWarning: X has feature names, but StandardScaler was fitted without feature names\n",
      "  warnings.warn(\n"
     ]
    },
    {
     "name": "stdout",
     "output_type": "stream",
     "text": [
      "ALERT: 🚨 Attack detected at Thu Apr 10 01:08:54 2025 | Data: [[ 8.00000000e+01  5.91118400e+06  5.00000000e+00  0.00000000e+00\n",
      "   3.00000000e+01  0.00000000e+00  6.00000000e+00  6.00000000e+00\n",
      "   6.00000000e+00  0.00000000e+00  0.00000000e+00  0.00000000e+00\n",
      "   0.00000000e+00  0.00000000e+00  5.07512539e+00  8.45854232e-01\n",
      "   1.47779600e+06  2.95510400e+06  5.91045200e+06  1.06000000e+02\n",
      "   5.91118400e+06  1.47779600e+06  2.95510400e+06  5.91045200e+06\n",
      "   1.06000000e+02  0.00000000e+00  0.00000000e+00  0.00000000e+00\n",
      "   0.00000000e+00  0.00000000e+00  0.00000000e+00  0.00000000e+00\n",
      "   0.00000000e+00  0.00000000e+00  1.00000000e+02  0.00000000e+00\n",
      "   8.45854232e-01  0.00000000e+00  6.00000000e+00  6.00000000e+00\n",
      "   6.00000000e+00  0.00000000e+00  0.00000000e+00  0.00000000e+00\n",
      "   0.00000000e+00  0.00000000e+00  0.00000000e+00  1.00000000e+00\n",
      "   0.00000000e+00  0.00000000e+00  0.00000000e+00  0.00000000e+00\n",
      "   7.20000000e+00  6.00000000e+00  0.00000000e+00  1.00000000e+02\n",
      "   0.00000000e+00  0.00000000e+00  0.00000000e+00  0.00000000e+00\n",
      "   0.00000000e+00  0.00000000e+00  5.00000000e+00  3.00000000e+01\n",
      "   0.00000000e+00  0.00000000e+00  2.56000000e+02 -1.00000000e+00\n",
      "   4.00000000e+00  2.00000000e+01  7.32000000e+02  0.00000000e+00\n",
      "   7.32000000e+02  7.32000000e+02  5.91045200e+06  0.00000000e+00\n",
      "   5.91045200e+06  5.91045200e+06]]\n"
     ]
    },
    {
     "name": "stderr",
     "output_type": "stream",
     "text": [
      "C:\\Users\\Tanya Batra\\AppData\\Local\\Programs\\Python\\Python312\\Lib\\site-packages\\sklearn\\utils\\validation.py:2732: UserWarning: X has feature names, but StandardScaler was fitted without feature names\n",
      "  warnings.warn(\n"
     ]
    },
    {
     "name": "stdout",
     "output_type": "stream",
     "text": [
      "ALERT: 🚨 Attack detected at Thu Apr 10 01:08:59 2025 | Data: [[8.00000000e+01 9.04210000e+04 3.00000000e+00 7.00000000e+00\n",
      "  2.60000000e+01 1.16010000e+04 2.00000000e+01 0.00000000e+00\n",
      "  8.66666667e+00 1.02632029e+01 2.92000000e+03 0.00000000e+00\n",
      "  1.65728571e+03 1.29917214e+03 1.28587386e+05 1.10593778e+02\n",
      "  1.00467778e+04 2.58594228e+04 7.83670000e+04 4.40000000e+01\n",
      "  1.15220000e+04 5.76100000e+03 7.18844754e+03 1.08440000e+04\n",
      "  6.78000000e+02 9.03560000e+04 1.50593333e+04 3.13473729e+04\n",
      "  7.83670000e+04 4.40000000e+01 0.00000000e+00 0.00000000e+00\n",
      "  0.00000000e+00 0.00000000e+00 7.20000000e+01 1.52000000e+02\n",
      "  3.31781334e+01 7.74156446e+01 0.00000000e+00 2.92000000e+03\n",
      "  1.05700000e+03 1.30629086e+03 1.70639580e+06 0.00000000e+00\n",
      "  0.00000000e+00 0.00000000e+00 1.00000000e+00 0.00000000e+00\n",
      "  0.00000000e+00 0.00000000e+00 0.00000000e+00 2.00000000e+00\n",
      "  1.16270000e+03 8.66666667e+00 1.65728571e+03 7.20000000e+01\n",
      "  0.00000000e+00 0.00000000e+00 0.00000000e+00 0.00000000e+00\n",
      "  0.00000000e+00 0.00000000e+00 3.00000000e+00 2.60000000e+01\n",
      "  7.00000000e+00 1.16010000e+04 8.19200000e+03 2.29000000e+02\n",
      "  2.00000000e+00 2.00000000e+01 0.00000000e+00 0.00000000e+00\n",
      "  0.00000000e+00 0.00000000e+00 0.00000000e+00 0.00000000e+00\n",
      "  0.00000000e+00 0.00000000e+00]]\n"
     ]
    },
    {
     "name": "stderr",
     "output_type": "stream",
     "text": [
      "C:\\Users\\Tanya Batra\\AppData\\Local\\Programs\\Python\\Python312\\Lib\\site-packages\\sklearn\\utils\\validation.py:2732: UserWarning: X has feature names, but StandardScaler was fitted without feature names\n",
      "  warnings.warn(\n"
     ]
    },
    {
     "name": "stdout",
     "output_type": "stream",
     "text": [
      "ALERT: 🚨 Attack detected at Thu Apr 10 01:09:04 2025 | Data: [[ 8.00000000e+01  8.90170000e+04  5.00000000e+00  0.00000000e+00\n",
      "   3.00000000e+01  0.00000000e+00  6.00000000e+00  6.00000000e+00\n",
      "   6.00000000e+00  0.00000000e+00  0.00000000e+00  0.00000000e+00\n",
      "   0.00000000e+00  0.00000000e+00  3.37014278e+02  5.61690464e+01\n",
      "   2.22542500e+04  4.38502844e+04  8.80260000e+04  1.00000000e+00\n",
      "   8.90170000e+04  2.22542500e+04  4.38502844e+04  8.80260000e+04\n",
      "   1.00000000e+00  0.00000000e+00  0.00000000e+00  0.00000000e+00\n",
      "   0.00000000e+00  0.00000000e+00  0.00000000e+00  0.00000000e+00\n",
      "   0.00000000e+00  0.00000000e+00  1.00000000e+02  0.00000000e+00\n",
      "   5.61690464e+01  0.00000000e+00  6.00000000e+00  6.00000000e+00\n",
      "   6.00000000e+00  0.00000000e+00  0.00000000e+00  0.00000000e+00\n",
      "   0.00000000e+00  0.00000000e+00  0.00000000e+00  1.00000000e+00\n",
      "   0.00000000e+00  0.00000000e+00  0.00000000e+00  0.00000000e+00\n",
      "   7.20000000e+00  6.00000000e+00  0.00000000e+00  1.00000000e+02\n",
      "   0.00000000e+00  0.00000000e+00  0.00000000e+00  0.00000000e+00\n",
      "   0.00000000e+00  0.00000000e+00  5.00000000e+00  3.00000000e+01\n",
      "   0.00000000e+00  0.00000000e+00  2.56000000e+02 -1.00000000e+00\n",
      "   4.00000000e+00  2.00000000e+01  0.00000000e+00  0.00000000e+00\n",
      "   0.00000000e+00  0.00000000e+00  0.00000000e+00  0.00000000e+00\n",
      "   0.00000000e+00  0.00000000e+00]]\n"
     ]
    },
    {
     "name": "stderr",
     "output_type": "stream",
     "text": [
      "C:\\Users\\Tanya Batra\\AppData\\Local\\Programs\\Python\\Python312\\Lib\\site-packages\\sklearn\\utils\\validation.py:2732: UserWarning: X has feature names, but StandardScaler was fitted without feature names\n",
      "  warnings.warn(\n"
     ]
    },
    {
     "name": "stdout",
     "output_type": "stream",
     "text": [
      "ALERT: 🚨 Attack detected at Thu Apr 10 01:09:09 2025 | Data: [[8.00000000e+01 1.22765000e+05 3.00000000e+00 6.00000000e+00\n",
      "  2.60000000e+01 1.16070000e+04 2.00000000e+01 0.00000000e+00\n",
      "  8.66666667e+00 1.02632029e+01 5.84000000e+03 0.00000000e+00\n",
      "  1.93450000e+03 2.53891928e+03 9.47582780e+04 7.33107971e+01\n",
      "  1.53456250e+04 4.30070299e+04 1.21781000e+05 3.00000000e+00\n",
      "  8.10000000e+02 4.05000000e+02 4.99217387e+02 7.58000000e+02\n",
      "  5.20000000e+01 1.22719000e+05 2.45438000e+04 5.43584960e+04\n",
      "  1.21781000e+05 3.00000000e+00 0.00000000e+00 0.00000000e+00\n",
      "  0.00000000e+00 0.00000000e+00 7.20000000e+01 1.32000000e+02\n",
      "  2.44369323e+01 4.88738647e+01 0.00000000e+00 5.84000000e+03\n",
      "  1.16330000e+03 2.13832915e+03 4.57245157e+06 0.00000000e+00\n",
      "  0.00000000e+00 0.00000000e+00 1.00000000e+00 0.00000000e+00\n",
      "  0.00000000e+00 0.00000000e+00 0.00000000e+00 2.00000000e+00\n",
      "  1.29255556e+03 8.66666667e+00 1.93450000e+03 7.20000000e+01\n",
      "  0.00000000e+00 0.00000000e+00 0.00000000e+00 0.00000000e+00\n",
      "  0.00000000e+00 0.00000000e+00 3.00000000e+00 2.60000000e+01\n",
      "  6.00000000e+00 1.16070000e+04 8.19200000e+03 2.29000000e+02\n",
      "  2.00000000e+00 2.00000000e+01 0.00000000e+00 0.00000000e+00\n",
      "  0.00000000e+00 0.00000000e+00 0.00000000e+00 0.00000000e+00\n",
      "  0.00000000e+00 0.00000000e+00]]\n"
     ]
    },
    {
     "name": "stderr",
     "output_type": "stream",
     "text": [
      "C:\\Users\\Tanya Batra\\AppData\\Local\\Programs\\Python\\Python312\\Lib\\site-packages\\sklearn\\utils\\validation.py:2732: UserWarning: X has feature names, but StandardScaler was fitted without feature names\n",
      "  warnings.warn(\n"
     ]
    },
    {
     "name": "stdout",
     "output_type": "stream",
     "text": [
      "ALERT: 🚨 Attack detected at Thu Apr 10 01:09:14 2025 | Data: [[8.00000000e+01 4.07115000e+05 3.00000000e+00 7.00000000e+00\n",
      "  2.60000000e+01 1.16010000e+04 2.00000000e+01 0.00000000e+00\n",
      "  8.66666667e+00 1.02632029e+01 4.38000000e+03 0.00000000e+00\n",
      "  1.65728571e+03 1.56196935e+03 2.85594979e+04 2.45630841e+01\n",
      "  4.52350000e+04 1.24868376e+05 3.77221000e+05 1.60000000e+01\n",
      "  2.93830000e+04 1.46915000e+04 2.06666099e+04 2.93050000e+04\n",
      "  7.80000000e+01 4.07084000e+05 6.78473333e+04 1.52014142e+05\n",
      "  3.77221000e+05 1.60000000e+01 0.00000000e+00 0.00000000e+00\n",
      "  0.00000000e+00 0.00000000e+00 7.20000000e+01 1.52000000e+02\n",
      "  7.36892524e+00 1.71941589e+01 0.00000000e+00 4.38000000e+03\n",
      "  1.05700000e+03 1.46885527e+03 2.15753580e+06 0.00000000e+00\n",
      "  0.00000000e+00 0.00000000e+00 1.00000000e+00 0.00000000e+00\n",
      "  0.00000000e+00 0.00000000e+00 0.00000000e+00 2.00000000e+00\n",
      "  1.16270000e+03 8.66666667e+00 1.65728571e+03 7.20000000e+01\n",
      "  0.00000000e+00 0.00000000e+00 0.00000000e+00 0.00000000e+00\n",
      "  0.00000000e+00 0.00000000e+00 3.00000000e+00 2.60000000e+01\n",
      "  7.00000000e+00 1.16010000e+04 8.19200000e+03 2.29000000e+02\n",
      "  2.00000000e+00 2.00000000e+01 0.00000000e+00 0.00000000e+00\n",
      "  0.00000000e+00 0.00000000e+00 0.00000000e+00 0.00000000e+00\n",
      "  0.00000000e+00 0.00000000e+00]]\n"
     ]
    },
    {
     "name": "stderr",
     "output_type": "stream",
     "text": [
      "C:\\Users\\Tanya Batra\\AppData\\Local\\Programs\\Python\\Python312\\Lib\\site-packages\\sklearn\\utils\\validation.py:2732: UserWarning: X has feature names, but StandardScaler was fitted without feature names\n",
      "  warnings.warn(\n"
     ]
    },
    {
     "name": "stdout",
     "output_type": "stream",
     "text": [
      "ALERT: 🚨 Attack detected at Thu Apr 10 01:09:19 2025 | Data: [[8.00000000e+01 6.93921000e+05 3.00000000e+00 4.00000000e+00\n",
      "  2.60000000e+01 1.16070000e+04 2.00000000e+01 0.00000000e+00\n",
      "  8.66666667e+00 1.02632029e+01 1.15950000e+04 0.00000000e+00\n",
      "  2.90175000e+03 5.79550069e+03 1.67641561e+04 1.00876036e+01\n",
      "  1.15653500e+05 2.82765524e+05 6.92846000e+05 4.00000000e+00\n",
      "  1.01600000e+03 5.08000000e+02 3.25269119e+02 7.38000000e+02\n",
      "  2.78000000e+02 6.93842000e+05 2.31280667e+05 3.99727609e+05\n",
      "  6.92846000e+05 4.00000000e+00 0.00000000e+00 0.00000000e+00\n",
      "  0.00000000e+00 0.00000000e+00 7.20000000e+01 9.20000000e+01\n",
      "  4.32325870e+00 5.76434493e+00 0.00000000e+00 1.15950000e+04\n",
      "  1.45412500e+03 4.09753753e+03 1.68000000e+07 0.00000000e+00\n",
      "  0.00000000e+00 0.00000000e+00 1.00000000e+00 0.00000000e+00\n",
      "  0.00000000e+00 0.00000000e+00 0.00000000e+00 1.00000000e+00\n",
      "  1.66185714e+03 8.66666667e+00 2.90175000e+03 7.20000000e+01\n",
      "  0.00000000e+00 0.00000000e+00 0.00000000e+00 0.00000000e+00\n",
      "  0.00000000e+00 0.00000000e+00 3.00000000e+00 2.60000000e+01\n",
      "  4.00000000e+00 1.16070000e+04 8.19200000e+03 2.29000000e+02\n",
      "  2.00000000e+00 2.00000000e+01 0.00000000e+00 0.00000000e+00\n",
      "  0.00000000e+00 0.00000000e+00 0.00000000e+00 0.00000000e+00\n",
      "  0.00000000e+00 0.00000000e+00]]\n"
     ]
    },
    {
     "name": "stderr",
     "output_type": "stream",
     "text": [
      "C:\\Users\\Tanya Batra\\AppData\\Local\\Programs\\Python\\Python312\\Lib\\site-packages\\sklearn\\utils\\validation.py:2732: UserWarning: X has feature names, but StandardScaler was fitted without feature names\n",
      "  warnings.warn(\n"
     ]
    },
    {
     "name": "stdout",
     "output_type": "stream",
     "text": [
      "ALERT: 🚨 Attack detected at Thu Apr 10 01:09:24 2025 | Data: [[ 8.00000000e+01  2.00897300e+06  6.00000000e+00  0.00000000e+00\n",
      "   3.60000000e+01  0.00000000e+00  6.00000000e+00  6.00000000e+00\n",
      "   6.00000000e+00  0.00000000e+00  0.00000000e+00  0.00000000e+00\n",
      "   0.00000000e+00  0.00000000e+00  1.79196037e+01  2.98660062e+00\n",
      "   4.01794600e+05  8.97321584e+05  2.00697200e+06  1.00000000e+00\n",
      "   2.00897300e+06  4.01794600e+05  8.97321584e+05  2.00697200e+06\n",
      "   1.00000000e+00  0.00000000e+00  0.00000000e+00  0.00000000e+00\n",
      "   0.00000000e+00  0.00000000e+00  0.00000000e+00  0.00000000e+00\n",
      "   0.00000000e+00  0.00000000e+00  1.20000000e+02  0.00000000e+00\n",
      "   2.98660062e+00  0.00000000e+00  6.00000000e+00  6.00000000e+00\n",
      "   6.00000000e+00  0.00000000e+00  0.00000000e+00  0.00000000e+00\n",
      "   0.00000000e+00  0.00000000e+00  0.00000000e+00  1.00000000e+00\n",
      "   0.00000000e+00  0.00000000e+00  0.00000000e+00  0.00000000e+00\n",
      "   7.00000000e+00  6.00000000e+00  0.00000000e+00  1.20000000e+02\n",
      "   0.00000000e+00  0.00000000e+00  0.00000000e+00  0.00000000e+00\n",
      "   0.00000000e+00  0.00000000e+00  6.00000000e+00  3.60000000e+01\n",
      "   0.00000000e+00  0.00000000e+00  2.56000000e+02 -1.00000000e+00\n",
      "   5.00000000e+00  2.00000000e+01  0.00000000e+00  0.00000000e+00\n",
      "   0.00000000e+00  0.00000000e+00  0.00000000e+00  0.00000000e+00\n",
      "   0.00000000e+00  0.00000000e+00]]\n"
     ]
    },
    {
     "name": "stderr",
     "output_type": "stream",
     "text": [
      "C:\\Users\\Tanya Batra\\AppData\\Local\\Programs\\Python\\Python312\\Lib\\site-packages\\sklearn\\utils\\validation.py:2732: UserWarning: X has feature names, but StandardScaler was fitted without feature names\n",
      "  warnings.warn(\n"
     ]
    },
    {
     "name": "stdout",
     "output_type": "stream",
     "text": [
      "ALERT: 🚨 Attack detected at Thu Apr 10 01:09:29 2025 | Data: [[8.00000000e+01 5.91678000e+05 3.00000000e+00 5.00000000e+00\n",
      "  2.60000000e+01 1.16070000e+04 2.00000000e+01 0.00000000e+00\n",
      "  8.66666667e+00 1.02632029e+01 7.30000000e+03 0.00000000e+00\n",
      "  2.32140000e+03 3.34636397e+03 1.96610318e+04 1.35208678e+01\n",
      "  8.45254286e+04 2.22370663e+05 5.88811000e+05 3.00000000e+00\n",
      "  2.56100000e+03 1.28050000e+03 1.59452579e+03 2.40800000e+03\n",
      "  1.53000000e+02 5.91645000e+05 1.47911250e+05 2.93935627e+05\n",
      "  5.88811000e+05 3.00000000e+00 0.00000000e+00 0.00000000e+00\n",
      "  0.00000000e+00 0.00000000e+00 7.20000000e+01 1.12000000e+02\n",
      "  5.07032541e+00 8.45054236e+00 0.00000000e+00 7.30000000e+03\n",
      "  1.29255556e+03 2.66226488e+03 7.08765428e+06 0.00000000e+00\n",
      "  0.00000000e+00 0.00000000e+00 1.00000000e+00 0.00000000e+00\n",
      "  0.00000000e+00 0.00000000e+00 0.00000000e+00 1.00000000e+00\n",
      "  1.45412500e+03 8.66666667e+00 2.32140000e+03 7.20000000e+01\n",
      "  0.00000000e+00 0.00000000e+00 0.00000000e+00 0.00000000e+00\n",
      "  0.00000000e+00 0.00000000e+00 3.00000000e+00 2.60000000e+01\n",
      "  5.00000000e+00 1.16070000e+04 8.19200000e+03 2.29000000e+02\n",
      "  2.00000000e+00 2.00000000e+01 0.00000000e+00 0.00000000e+00\n",
      "  0.00000000e+00 0.00000000e+00 0.00000000e+00 0.00000000e+00\n",
      "  0.00000000e+00 0.00000000e+00]]\n"
     ]
    },
    {
     "name": "stderr",
     "output_type": "stream",
     "text": [
      "C:\\Users\\Tanya Batra\\AppData\\Local\\Programs\\Python\\Python312\\Lib\\site-packages\\sklearn\\utils\\validation.py:2732: UserWarning: X has feature names, but StandardScaler was fitted without feature names\n",
      "  warnings.warn(\n"
     ]
    },
    {
     "name": "stdout",
     "output_type": "stream",
     "text": [
      "ALERT: 🚨 Attack detected at Thu Apr 10 01:09:34 2025 | Data: [[ 8.00000000e+01  5.82587600e+06  4.00000000e+00  0.00000000e+00\n",
      "   2.40000000e+01  0.00000000e+00  6.00000000e+00  6.00000000e+00\n",
      "   6.00000000e+00  0.00000000e+00  0.00000000e+00  0.00000000e+00\n",
      "   0.00000000e+00  0.00000000e+00  4.11955215e+00  6.86592025e-01\n",
      "   1.94195867e+06  3.36269903e+06  5.82486900e+06  4.00000000e+00\n",
      "   5.82587600e+06  1.94195867e+06  3.36269903e+06  5.82486900e+06\n",
      "   4.00000000e+00  0.00000000e+00  0.00000000e+00  0.00000000e+00\n",
      "   0.00000000e+00  0.00000000e+00  0.00000000e+00  0.00000000e+00\n",
      "   0.00000000e+00  0.00000000e+00  8.00000000e+01  0.00000000e+00\n",
      "   6.86592025e-01  0.00000000e+00  6.00000000e+00  6.00000000e+00\n",
      "   6.00000000e+00  0.00000000e+00  0.00000000e+00  0.00000000e+00\n",
      "   0.00000000e+00  0.00000000e+00  0.00000000e+00  1.00000000e+00\n",
      "   0.00000000e+00  0.00000000e+00  0.00000000e+00  0.00000000e+00\n",
      "   7.50000000e+00  6.00000000e+00  0.00000000e+00  8.00000000e+01\n",
      "   0.00000000e+00  0.00000000e+00  0.00000000e+00  0.00000000e+00\n",
      "   0.00000000e+00  0.00000000e+00  4.00000000e+00  2.40000000e+01\n",
      "   0.00000000e+00  0.00000000e+00  2.56000000e+02 -1.00000000e+00\n",
      "   3.00000000e+00  2.00000000e+01  1.00700000e+03  0.00000000e+00\n",
      "   1.00700000e+03  1.00700000e+03  5.82486900e+06  0.00000000e+00\n",
      "   5.82486900e+06  5.82486900e+06]]\n"
     ]
    },
    {
     "name": "stderr",
     "output_type": "stream",
     "text": [
      "C:\\Users\\Tanya Batra\\AppData\\Local\\Programs\\Python\\Python312\\Lib\\site-packages\\sklearn\\utils\\validation.py:2732: UserWarning: X has feature names, but StandardScaler was fitted without feature names\n",
      "  warnings.warn(\n"
     ]
    },
    {
     "name": "stdout",
     "output_type": "stream",
     "text": [
      "SAFE ✅ : Normal Traffic at Thu Apr 10 01:09:39 2025\n"
     ]
    },
    {
     "name": "stderr",
     "output_type": "stream",
     "text": [
      "C:\\Users\\Tanya Batra\\AppData\\Local\\Programs\\Python\\Python312\\Lib\\site-packages\\sklearn\\utils\\validation.py:2732: UserWarning: X has feature names, but StandardScaler was fitted without feature names\n",
      "  warnings.warn(\n"
     ]
    },
    {
     "name": "stdout",
     "output_type": "stream",
     "text": [
      "ALERT: 🚨 Attack detected at Thu Apr 10 01:09:44 2025 | Data: [[ 8.00000000e+01  1.44910000e+05  5.00000000e+00  0.00000000e+00\n",
      "   3.00000000e+01  0.00000000e+00  6.00000000e+00  6.00000000e+00\n",
      "   6.00000000e+00  0.00000000e+00  0.00000000e+00  0.00000000e+00\n",
      "   0.00000000e+00  0.00000000e+00  2.07025050e+02  3.45041750e+01\n",
      "   3.62275000e+04  6.84995733e+04  1.38926000e+05  2.00000000e+00\n",
      "   1.44910000e+05  3.62275000e+04  6.84995733e+04  1.38926000e+05\n",
      "   2.00000000e+00  0.00000000e+00  0.00000000e+00  0.00000000e+00\n",
      "   0.00000000e+00  0.00000000e+00  0.00000000e+00  0.00000000e+00\n",
      "   0.00000000e+00  0.00000000e+00  1.00000000e+02  0.00000000e+00\n",
      "   3.45041750e+01  0.00000000e+00  6.00000000e+00  6.00000000e+00\n",
      "   6.00000000e+00  0.00000000e+00  0.00000000e+00  0.00000000e+00\n",
      "   0.00000000e+00  0.00000000e+00  0.00000000e+00  1.00000000e+00\n",
      "   0.00000000e+00  0.00000000e+00  0.00000000e+00  0.00000000e+00\n",
      "   7.20000000e+00  6.00000000e+00  0.00000000e+00  1.00000000e+02\n",
      "   0.00000000e+00  0.00000000e+00  0.00000000e+00  0.00000000e+00\n",
      "   0.00000000e+00  0.00000000e+00  5.00000000e+00  3.00000000e+01\n",
      "   0.00000000e+00  0.00000000e+00  2.56000000e+02 -1.00000000e+00\n",
      "   4.00000000e+00  2.00000000e+01  0.00000000e+00  0.00000000e+00\n",
      "   0.00000000e+00  0.00000000e+00  0.00000000e+00  0.00000000e+00\n",
      "   0.00000000e+00  0.00000000e+00]]\n"
     ]
    },
    {
     "name": "stderr",
     "output_type": "stream",
     "text": [
      "C:\\Users\\Tanya Batra\\AppData\\Local\\Programs\\Python\\Python312\\Lib\\site-packages\\sklearn\\utils\\validation.py:2732: UserWarning: X has feature names, but StandardScaler was fitted without feature names\n",
      "  warnings.warn(\n"
     ]
    },
    {
     "name": "stdout",
     "output_type": "stream",
     "text": [
      "ALERT: 🚨 Attack detected at Thu Apr 10 01:09:49 2025 | Data: [[8.00000000e+01 8.93735870e+07 8.00000000e+00 4.00000000e+00\n",
      "  5.60000000e+01 1.16010000e+04 2.00000000e+01 0.00000000e+00\n",
      "  7.00000000e+00 5.65685425e+00 8.76000000e+03 0.00000000e+00\n",
      "  2.90025000e+03 4.12831930e+03 1.30430034e+02 1.34267857e-01\n",
      "  8.12487154e+06 2.55000000e+07 8.51000000e+07 4.00000000e+00\n",
      "  8.91000000e+07 1.27000000e+07 3.19000000e+07 8.51000000e+07\n",
      "  4.00000000e+00 2.50054000e+05 8.33513333e+04 1.24772330e+05\n",
      "  2.26820000e+05 1.85000000e+02 0.00000000e+00 0.00000000e+00\n",
      "  0.00000000e+00 0.00000000e+00 1.72000000e+02 9.20000000e+01\n",
      "  8.95119050e-02 4.47559520e-02 0.00000000e+00 8.76000000e+03\n",
      "  8.97153846e+02 2.48850704e+03 6.19266731e+06 0.00000000e+00\n",
      "  0.00000000e+00 0.00000000e+00 0.00000000e+00 1.00000000e+00\n",
      "  0.00000000e+00 0.00000000e+00 0.00000000e+00 0.00000000e+00\n",
      "  9.71916667e+02 7.00000000e+00 2.90025000e+03 1.72000000e+02\n",
      "  0.00000000e+00 0.00000000e+00 0.00000000e+00 0.00000000e+00\n",
      "  0.00000000e+00 0.00000000e+00 8.00000000e+00 5.60000000e+01\n",
      "  4.00000000e+00 1.16010000e+04 2.56000000e+02 2.29000000e+02\n",
      "  6.00000000e+00 2.00000000e+01 4.07191700e+06 0.00000000e+00\n",
      "  4.07191700e+06 4.07191700e+06 8.51000000e+07 0.00000000e+00\n",
      "  8.51000000e+07 8.51000000e+07]]\n"
     ]
    },
    {
     "name": "stderr",
     "output_type": "stream",
     "text": [
      "C:\\Users\\Tanya Batra\\AppData\\Local\\Programs\\Python\\Python312\\Lib\\site-packages\\sklearn\\utils\\validation.py:2732: UserWarning: X has feature names, but StandardScaler was fitted without feature names\n",
      "  warnings.warn(\n"
     ]
    },
    {
     "name": "stdout",
     "output_type": "stream",
     "text": [
      "SAFE ✅ : Normal Traffic at Thu Apr 10 01:09:54 2025\n"
     ]
    },
    {
     "name": "stderr",
     "output_type": "stream",
     "text": [
      "C:\\Users\\Tanya Batra\\AppData\\Local\\Programs\\Python\\Python312\\Lib\\site-packages\\sklearn\\utils\\validation.py:2732: UserWarning: X has feature names, but StandardScaler was fitted without feature names\n",
      "  warnings.warn(\n"
     ]
    },
    {
     "name": "stdout",
     "output_type": "stream",
     "text": [
      "ALERT: 🚨 Attack detected at Thu Apr 10 01:09:59 2025 | Data: [[8.00000000e+01 3.30180000e+04 3.00000000e+00 5.00000000e+00\n",
      "  2.60000000e+01 1.16010000e+04 2.00000000e+01 0.00000000e+00\n",
      "  8.66666667e+00 1.02632029e+01 7.30000000e+03 0.00000000e+00\n",
      "  2.32020000e+03 3.03275538e+03 3.52141256e+05 2.42292083e+02\n",
      "  4.71685714e+03 9.53907156e+03 2.58760000e+04 7.00000000e+01\n",
      "  2.69990000e+04 1.34995000e+04 1.77137320e+04 2.60250000e+04\n",
      "  9.74000000e+02 3.28690000e+04 8.21725000e+03 1.27247130e+04\n",
      "  2.69200000e+04 1.84000000e+02 0.00000000e+00 0.00000000e+00\n",
      "  0.00000000e+00 0.00000000e+00 7.20000000e+01 1.12000000e+02\n",
      "  9.08595312e+01 1.51432552e+02 0.00000000e+00 7.30000000e+03\n",
      "  1.29188889e+03 2.46694915e+03 6.08583811e+06 0.00000000e+00\n",
      "  0.00000000e+00 0.00000000e+00 1.00000000e+00 0.00000000e+00\n",
      "  0.00000000e+00 0.00000000e+00 0.00000000e+00 1.00000000e+00\n",
      "  1.45337500e+03 8.66666667e+00 2.32020000e+03 7.20000000e+01\n",
      "  0.00000000e+00 0.00000000e+00 0.00000000e+00 0.00000000e+00\n",
      "  0.00000000e+00 0.00000000e+00 3.00000000e+00 2.60000000e+01\n",
      "  5.00000000e+00 1.16010000e+04 8.19200000e+03 2.29000000e+02\n",
      "  2.00000000e+00 2.00000000e+01 0.00000000e+00 0.00000000e+00\n",
      "  0.00000000e+00 0.00000000e+00 0.00000000e+00 0.00000000e+00\n",
      "  0.00000000e+00 0.00000000e+00]]\n"
     ]
    },
    {
     "name": "stderr",
     "output_type": "stream",
     "text": [
      "C:\\Users\\Tanya Batra\\AppData\\Local\\Programs\\Python\\Python312\\Lib\\site-packages\\sklearn\\utils\\validation.py:2732: UserWarning: X has feature names, but StandardScaler was fitted without feature names\n",
      "  warnings.warn(\n"
     ]
    },
    {
     "name": "stdout",
     "output_type": "stream",
     "text": [
      "SAFE ✅ : Normal Traffic at Thu Apr 10 01:10:04 2025\n"
     ]
    },
    {
     "name": "stderr",
     "output_type": "stream",
     "text": [
      "C:\\Users\\Tanya Batra\\AppData\\Local\\Programs\\Python\\Python312\\Lib\\site-packages\\sklearn\\utils\\validation.py:2732: UserWarning: X has feature names, but StandardScaler was fitted without feature names\n",
      "  warnings.warn(\n"
     ]
    },
    {
     "name": "stdout",
     "output_type": "stream",
     "text": [
      "SAFE ✅ : Normal Traffic at Thu Apr 10 01:10:09 2025\n"
     ]
    },
    {
     "name": "stderr",
     "output_type": "stream",
     "text": [
      "C:\\Users\\Tanya Batra\\AppData\\Local\\Programs\\Python\\Python312\\Lib\\site-packages\\sklearn\\utils\\validation.py:2732: UserWarning: X has feature names, but StandardScaler was fitted without feature names\n",
      "  warnings.warn(\n"
     ]
    },
    {
     "name": "stdout",
     "output_type": "stream",
     "text": [
      "ALERT: 🚨 Attack detected at Thu Apr 10 01:10:14 2025 | Data: [[8.00000000e+01 4.10781000e+05 3.00000000e+00 6.00000000e+00\n",
      "  2.60000000e+01 1.16070000e+04 2.00000000e+01 0.00000000e+00\n",
      "  8.66666667e+00 1.02632029e+01 5.84000000e+03 0.00000000e+00\n",
      "  1.93450000e+03 2.53891928e+03 2.83192261e+04 2.19094846e+01\n",
      "  5.13476250e+04 1.44947462e+05 4.10074000e+05 2.00000000e+00\n",
      "  5.70000000e+02 2.85000000e+02 3.98808225e+02 5.67000000e+02\n",
      "  3.00000000e+00 4.10766000e+05 8.21532000e+04 1.83313459e+05\n",
      "  4.10074000e+05 2.00000000e+00 0.00000000e+00 0.00000000e+00\n",
      "  0.00000000e+00 0.00000000e+00 7.20000000e+01 1.32000000e+02\n",
      "  7.30316154e+00 1.46063231e+01 0.00000000e+00 5.84000000e+03\n",
      "  1.16330000e+03 2.13832915e+03 4.57245157e+06 0.00000000e+00\n",
      "  0.00000000e+00 0.00000000e+00 1.00000000e+00 0.00000000e+00\n",
      "  0.00000000e+00 0.00000000e+00 0.00000000e+00 2.00000000e+00\n",
      "  1.29255556e+03 8.66666667e+00 1.93450000e+03 7.20000000e+01\n",
      "  0.00000000e+00 0.00000000e+00 0.00000000e+00 0.00000000e+00\n",
      "  0.00000000e+00 0.00000000e+00 3.00000000e+00 2.60000000e+01\n",
      "  6.00000000e+00 1.16070000e+04 8.19200000e+03 2.29000000e+02\n",
      "  2.00000000e+00 2.00000000e+01 0.00000000e+00 0.00000000e+00\n",
      "  0.00000000e+00 0.00000000e+00 0.00000000e+00 0.00000000e+00\n",
      "  0.00000000e+00 0.00000000e+00]]\n"
     ]
    },
    {
     "name": "stderr",
     "output_type": "stream",
     "text": [
      "C:\\Users\\Tanya Batra\\AppData\\Local\\Programs\\Python\\Python312\\Lib\\site-packages\\sklearn\\utils\\validation.py:2732: UserWarning: X has feature names, but StandardScaler was fitted without feature names\n",
      "  warnings.warn(\n"
     ]
    },
    {
     "name": "stdout",
     "output_type": "stream",
     "text": [
      "ALERT: 🚨 Attack detected at Thu Apr 10 01:10:20 2025 | Data: [[8.00000000e+01 1.80575000e+05 3.00000000e+00 5.00000000e+00\n",
      "  2.60000000e+01 1.16070000e+04 2.00000000e+01 0.00000000e+00\n",
      "  8.66666667e+00 1.02632029e+01 7.21500000e+03 0.00000000e+00\n",
      "  2.32140000e+03 3.32776979e+03 6.44219853e+04 4.43029212e+01\n",
      "  2.57964286e+04 6.78936340e+04 1.79764000e+05 3.00000000e+00\n",
      "  6.02000000e+02 3.01000000e+02 4.20021428e+02 5.98000000e+02\n",
      "  4.00000000e+00 1.80560000e+05 4.51400000e+04 8.97497345e+04\n",
      "  1.79764000e+05 3.00000000e+00 0.00000000e+00 0.00000000e+00\n",
      "  0.00000000e+00 0.00000000e+00 7.20000000e+01 1.12000000e+02\n",
      "  1.66135955e+01 2.76893258e+01 0.00000000e+00 7.21500000e+03\n",
      "  1.29255556e+03 2.65058565e+03 7.02560428e+06 0.00000000e+00\n",
      "  0.00000000e+00 0.00000000e+00 1.00000000e+00 0.00000000e+00\n",
      "  0.00000000e+00 0.00000000e+00 0.00000000e+00 1.00000000e+00\n",
      "  1.45412500e+03 8.66666667e+00 2.32140000e+03 7.20000000e+01\n",
      "  0.00000000e+00 0.00000000e+00 0.00000000e+00 0.00000000e+00\n",
      "  0.00000000e+00 0.00000000e+00 3.00000000e+00 2.60000000e+01\n",
      "  5.00000000e+00 1.16070000e+04 8.19200000e+03 2.29000000e+02\n",
      "  2.00000000e+00 2.00000000e+01 0.00000000e+00 0.00000000e+00\n",
      "  0.00000000e+00 0.00000000e+00 0.00000000e+00 0.00000000e+00\n",
      "  0.00000000e+00 0.00000000e+00]]\n"
     ]
    },
    {
     "name": "stderr",
     "output_type": "stream",
     "text": [
      "C:\\Users\\Tanya Batra\\AppData\\Local\\Programs\\Python\\Python312\\Lib\\site-packages\\sklearn\\utils\\validation.py:2732: UserWarning: X has feature names, but StandardScaler was fitted without feature names\n",
      "  warnings.warn(\n"
     ]
    },
    {
     "name": "stdout",
     "output_type": "stream",
     "text": [
      "SAFE ✅ : Normal Traffic at Thu Apr 10 01:10:25 2025\n"
     ]
    },
    {
     "name": "stderr",
     "output_type": "stream",
     "text": [
      "C:\\Users\\Tanya Batra\\AppData\\Local\\Programs\\Python\\Python312\\Lib\\site-packages\\sklearn\\utils\\validation.py:2732: UserWarning: X has feature names, but StandardScaler was fitted without feature names\n",
      "  warnings.warn(\n"
     ]
    },
    {
     "name": "stdout",
     "output_type": "stream",
     "text": [
      "SAFE ✅ : Normal Traffic at Thu Apr 10 01:10:30 2025\n"
     ]
    },
    {
     "name": "stderr",
     "output_type": "stream",
     "text": [
      "C:\\Users\\Tanya Batra\\AppData\\Local\\Programs\\Python\\Python312\\Lib\\site-packages\\sklearn\\utils\\validation.py:2732: UserWarning: X has feature names, but StandardScaler was fitted without feature names\n",
      "  warnings.warn(\n"
     ]
    },
    {
     "name": "stdout",
     "output_type": "stream",
     "text": [
      "ALERT: 🚨 Attack detected at Thu Apr 10 01:10:35 2025 | Data: [[ 8.00000000e+01  1.00377230e+07  5.00000000e+00  0.00000000e+00\n",
      "   3.00000000e+01  0.00000000e+00  6.00000000e+00  6.00000000e+00\n",
      "   6.00000000e+00  0.00000000e+00  0.00000000e+00  0.00000000e+00\n",
      "   0.00000000e+00  0.00000000e+00  2.98872563e+00  4.98120938e-01\n",
      "   2.50943075e+06  5.01728887e+06  1.00000000e+07  1.58000000e+02\n",
      "   1.00000000e+07  2.50943075e+06  5.01728887e+06  1.00000000e+07\n",
      "   1.58000000e+02  0.00000000e+00  0.00000000e+00  0.00000000e+00\n",
      "   0.00000000e+00  0.00000000e+00  0.00000000e+00  0.00000000e+00\n",
      "   0.00000000e+00  0.00000000e+00  1.00000000e+02  0.00000000e+00\n",
      "   4.98120938e-01  0.00000000e+00  6.00000000e+00  6.00000000e+00\n",
      "   6.00000000e+00  0.00000000e+00  0.00000000e+00  0.00000000e+00\n",
      "   0.00000000e+00  0.00000000e+00  0.00000000e+00  1.00000000e+00\n",
      "   0.00000000e+00  0.00000000e+00  0.00000000e+00  0.00000000e+00\n",
      "   7.20000000e+00  6.00000000e+00  0.00000000e+00  1.00000000e+02\n",
      "   0.00000000e+00  0.00000000e+00  0.00000000e+00  0.00000000e+00\n",
      "   0.00000000e+00  0.00000000e+00  5.00000000e+00  3.00000000e+01\n",
      "   0.00000000e+00  0.00000000e+00  2.56000000e+02 -1.00000000e+00\n",
      "   4.00000000e+00  2.00000000e+01  2.35900000e+03  0.00000000e+00\n",
      "   2.35900000e+03  2.35900000e+03  1.00000000e+07  0.00000000e+00\n",
      "   1.00000000e+07  1.00000000e+07]]\n"
     ]
    },
    {
     "name": "stderr",
     "output_type": "stream",
     "text": [
      "C:\\Users\\Tanya Batra\\AppData\\Local\\Programs\\Python\\Python312\\Lib\\site-packages\\sklearn\\utils\\validation.py:2732: UserWarning: X has feature names, but StandardScaler was fitted without feature names\n",
      "  warnings.warn(\n"
     ]
    },
    {
     "name": "stdout",
     "output_type": "stream",
     "text": [
      "ALERT: 🚨 Attack detected at Thu Apr 10 01:10:40 2025 | Data: [[8.00000000e+01 8.99304000e+05 3.00000000e+00 6.00000000e+00\n",
      "  2.60000000e+01 1.16010000e+04 2.00000000e+01 0.00000000e+00\n",
      "  8.66666667e+00 1.02632029e+01 4.38000000e+03 0.00000000e+00\n",
      "  1.93350000e+03 1.75778995e+03 1.29288872e+04 1.00077393e+01\n",
      "  1.12413000e+05 3.06023157e+05 8.69378000e+05 1.50000000e+01\n",
      "  2.91870000e+04 1.45935000e+04 2.01023387e+04 2.88080000e+04\n",
      "  3.79000000e+02 8.99238000e+05 1.79847600e+05 3.85664548e+05\n",
      "  8.69378000e+05 1.50000000e+01 0.00000000e+00 0.00000000e+00\n",
      "  0.00000000e+00 0.00000000e+00 7.20000000e+01 1.32000000e+02\n",
      "  3.33591311e+00 6.67182621e+00 0.00000000e+00 4.38000000e+03\n",
      "  1.16270000e+03 1.64524176e+03 2.70682046e+06 0.00000000e+00\n",
      "  0.00000000e+00 0.00000000e+00 1.00000000e+00 0.00000000e+00\n",
      "  0.00000000e+00 0.00000000e+00 0.00000000e+00 2.00000000e+00\n",
      "  1.29188889e+03 8.66666667e+00 1.93350000e+03 7.20000000e+01\n",
      "  0.00000000e+00 0.00000000e+00 0.00000000e+00 0.00000000e+00\n",
      "  0.00000000e+00 0.00000000e+00 3.00000000e+00 2.60000000e+01\n",
      "  6.00000000e+00 1.16010000e+04 8.19200000e+03 2.29000000e+02\n",
      "  2.00000000e+00 2.00000000e+01 0.00000000e+00 0.00000000e+00\n",
      "  0.00000000e+00 0.00000000e+00 0.00000000e+00 0.00000000e+00\n",
      "  0.00000000e+00 0.00000000e+00]]\n"
     ]
    },
    {
     "name": "stderr",
     "output_type": "stream",
     "text": [
      "C:\\Users\\Tanya Batra\\AppData\\Local\\Programs\\Python\\Python312\\Lib\\site-packages\\sklearn\\utils\\validation.py:2732: UserWarning: X has feature names, but StandardScaler was fitted without feature names\n",
      "  warnings.warn(\n"
     ]
    },
    {
     "name": "stdout",
     "output_type": "stream",
     "text": [
      "ALERT: 🚨 Attack detected at Thu Apr 10 01:10:45 2025 | Data: [[8.00000000e+01 5.93440000e+04 3.00000000e+00 5.00000000e+00\n",
      "  2.60000000e+01 1.16010000e+04 2.00000000e+01 0.00000000e+00\n",
      "  8.66666667e+00 1.02632029e+01 7.30000000e+03 0.00000000e+00\n",
      "  2.32020000e+03 3.02250810e+03 1.95925452e+05 1.34807226e+02\n",
      "  8.47771429e+03 1.41233173e+04 3.17410000e+04 1.70000000e+01\n",
      "  3.24490000e+04 1.62245000e+04 2.21543626e+04 3.18900000e+04\n",
      "  5.59000000e+02 5.91950000e+04 1.47987500e+04 1.69357655e+04\n",
      "  3.23170000e+04 1.90000000e+02 0.00000000e+00 0.00000000e+00\n",
      "  0.00000000e+00 0.00000000e+00 7.20000000e+01 1.12000000e+02\n",
      "  5.05527096e+01 8.42545160e+01 0.00000000e+00 7.30000000e+03\n",
      "  1.29188889e+03 2.46065299e+03 6.05481311e+06 0.00000000e+00\n",
      "  0.00000000e+00 0.00000000e+00 1.00000000e+00 0.00000000e+00\n",
      "  0.00000000e+00 0.00000000e+00 0.00000000e+00 1.00000000e+00\n",
      "  1.45337500e+03 8.66666667e+00 2.32020000e+03 7.20000000e+01\n",
      "  0.00000000e+00 0.00000000e+00 0.00000000e+00 0.00000000e+00\n",
      "  0.00000000e+00 0.00000000e+00 3.00000000e+00 2.60000000e+01\n",
      "  5.00000000e+00 1.16010000e+04 8.19200000e+03 2.29000000e+02\n",
      "  2.00000000e+00 2.00000000e+01 0.00000000e+00 0.00000000e+00\n",
      "  0.00000000e+00 0.00000000e+00 0.00000000e+00 0.00000000e+00\n",
      "  0.00000000e+00 0.00000000e+00]]\n"
     ]
    },
    {
     "name": "stderr",
     "output_type": "stream",
     "text": [
      "C:\\Users\\Tanya Batra\\AppData\\Local\\Programs\\Python\\Python312\\Lib\\site-packages\\sklearn\\utils\\validation.py:2732: UserWarning: X has feature names, but StandardScaler was fitted without feature names\n",
      "  warnings.warn(\n"
     ]
    },
    {
     "name": "stdout",
     "output_type": "stream",
     "text": [
      "SAFE ✅ : Normal Traffic at Thu Apr 10 01:10:50 2025\n"
     ]
    },
    {
     "name": "stderr",
     "output_type": "stream",
     "text": [
      "C:\\Users\\Tanya Batra\\AppData\\Local\\Programs\\Python\\Python312\\Lib\\site-packages\\sklearn\\utils\\validation.py:2732: UserWarning: X has feature names, but StandardScaler was fitted without feature names\n",
      "  warnings.warn(\n"
     ]
    },
    {
     "name": "stdout",
     "output_type": "stream",
     "text": [
      "SAFE ✅ : Normal Traffic at Thu Apr 10 01:10:55 2025\n"
     ]
    },
    {
     "name": "stderr",
     "output_type": "stream",
     "text": [
      "C:\\Users\\Tanya Batra\\AppData\\Local\\Programs\\Python\\Python312\\Lib\\site-packages\\sklearn\\utils\\validation.py:2732: UserWarning: X has feature names, but StandardScaler was fitted without feature names\n",
      "  warnings.warn(\n"
     ]
    },
    {
     "name": "stdout",
     "output_type": "stream",
     "text": [
      "SAFE ✅ : Normal Traffic at Thu Apr 10 01:11:00 2025\n"
     ]
    },
    {
     "name": "stderr",
     "output_type": "stream",
     "text": [
      "C:\\Users\\Tanya Batra\\AppData\\Local\\Programs\\Python\\Python312\\Lib\\site-packages\\sklearn\\utils\\validation.py:2732: UserWarning: X has feature names, but StandardScaler was fitted without feature names\n",
      "  warnings.warn(\n"
     ]
    },
    {
     "name": "stdout",
     "output_type": "stream",
     "text": [
      "SAFE ✅ : Normal Traffic at Thu Apr 10 01:11:05 2025\n"
     ]
    },
    {
     "name": "stderr",
     "output_type": "stream",
     "text": [
      "C:\\Users\\Tanya Batra\\AppData\\Local\\Programs\\Python\\Python312\\Lib\\site-packages\\sklearn\\utils\\validation.py:2732: UserWarning: X has feature names, but StandardScaler was fitted without feature names\n",
      "  warnings.warn(\n"
     ]
    },
    {
     "name": "stdout",
     "output_type": "stream",
     "text": [
      "SAFE ✅ : Normal Traffic at Thu Apr 10 01:11:10 2025\n"
     ]
    },
    {
     "name": "stderr",
     "output_type": "stream",
     "text": [
      "C:\\Users\\Tanya Batra\\AppData\\Local\\Programs\\Python\\Python312\\Lib\\site-packages\\sklearn\\utils\\validation.py:2732: UserWarning: X has feature names, but StandardScaler was fitted without feature names\n",
      "  warnings.warn(\n"
     ]
    },
    {
     "name": "stdout",
     "output_type": "stream",
     "text": [
      "SAFE ✅ : Normal Traffic at Thu Apr 10 01:11:15 2025\n"
     ]
    },
    {
     "name": "stderr",
     "output_type": "stream",
     "text": [
      "C:\\Users\\Tanya Batra\\AppData\\Local\\Programs\\Python\\Python312\\Lib\\site-packages\\sklearn\\utils\\validation.py:2732: UserWarning: X has feature names, but StandardScaler was fitted without feature names\n",
      "  warnings.warn(\n"
     ]
    },
    {
     "name": "stdout",
     "output_type": "stream",
     "text": [
      "SAFE ✅ : Normal Traffic at Thu Apr 10 01:11:20 2025\n"
     ]
    },
    {
     "name": "stderr",
     "output_type": "stream",
     "text": [
      "C:\\Users\\Tanya Batra\\AppData\\Local\\Programs\\Python\\Python312\\Lib\\site-packages\\sklearn\\utils\\validation.py:2732: UserWarning: X has feature names, but StandardScaler was fitted without feature names\n",
      "  warnings.warn(\n"
     ]
    },
    {
     "name": "stdout",
     "output_type": "stream",
     "text": [
      "SAFE ✅ : Normal Traffic at Thu Apr 10 01:11:25 2025\n"
     ]
    },
    {
     "name": "stderr",
     "output_type": "stream",
     "text": [
      "C:\\Users\\Tanya Batra\\AppData\\Local\\Programs\\Python\\Python312\\Lib\\site-packages\\sklearn\\utils\\validation.py:2732: UserWarning: X has feature names, but StandardScaler was fitted without feature names\n",
      "  warnings.warn(\n"
     ]
    },
    {
     "name": "stdout",
     "output_type": "stream",
     "text": [
      "SAFE ✅ : Normal Traffic at Thu Apr 10 01:11:30 2025\n"
     ]
    },
    {
     "name": "stderr",
     "output_type": "stream",
     "text": [
      "C:\\Users\\Tanya Batra\\AppData\\Local\\Programs\\Python\\Python312\\Lib\\site-packages\\sklearn\\utils\\validation.py:2732: UserWarning: X has feature names, but StandardScaler was fitted without feature names\n",
      "  warnings.warn(\n"
     ]
    },
    {
     "name": "stdout",
     "output_type": "stream",
     "text": [
      "ALERT: 🚨 Attack detected at Thu Apr 10 01:11:35 2025 | Data: [[8.00000000e+01 5.48649000e+05 3.00000000e+00 5.00000000e+00\n",
      "  2.60000000e+01 1.16070000e+04 2.00000000e+01 0.00000000e+00\n",
      "  8.66666667e+00 1.02632029e+01 1.01350000e+04 0.00000000e+00\n",
      "  2.32140000e+03 4.41320199e+03 2.12029914e+04 1.45812714e+01\n",
      "  7.83784286e+04 2.05942967e+05 5.45411000e+05 4.80000000e+01\n",
      "  2.22400000e+03 1.11200000e+03 1.10025815e+03 1.89000000e+03\n",
      "  3.34000000e+02 5.48601000e+05 1.37150250e+05 2.72175198e+05\n",
      "  5.45411000e+05 1.95000000e+02 0.00000000e+00 0.00000000e+00\n",
      "  0.00000000e+00 0.00000000e+00 7.20000000e+01 1.12000000e+02\n",
      "  5.46797679e+00 9.11329466e+00 0.00000000e+00 1.01350000e+04\n",
      "  1.29255556e+03 3.35063491e+03 1.12000000e+07 0.00000000e+00\n",
      "  0.00000000e+00 0.00000000e+00 1.00000000e+00 0.00000000e+00\n",
      "  0.00000000e+00 0.00000000e+00 0.00000000e+00 1.00000000e+00\n",
      "  1.45412500e+03 8.66666667e+00 2.32140000e+03 7.20000000e+01\n",
      "  0.00000000e+00 0.00000000e+00 0.00000000e+00 0.00000000e+00\n",
      "  0.00000000e+00 0.00000000e+00 3.00000000e+00 2.60000000e+01\n",
      "  5.00000000e+00 1.16070000e+04 8.19200000e+03 2.29000000e+02\n",
      "  2.00000000e+00 2.00000000e+01 0.00000000e+00 0.00000000e+00\n",
      "  0.00000000e+00 0.00000000e+00 0.00000000e+00 0.00000000e+00\n",
      "  0.00000000e+00 0.00000000e+00]]\n"
     ]
    },
    {
     "name": "stderr",
     "output_type": "stream",
     "text": [
      "C:\\Users\\Tanya Batra\\AppData\\Local\\Programs\\Python\\Python312\\Lib\\site-packages\\sklearn\\utils\\validation.py:2732: UserWarning: X has feature names, but StandardScaler was fitted without feature names\n",
      "  warnings.warn(\n"
     ]
    },
    {
     "name": "stdout",
     "output_type": "stream",
     "text": [
      "SAFE ✅ : Normal Traffic at Thu Apr 10 01:11:40 2025\n"
     ]
    },
    {
     "name": "stderr",
     "output_type": "stream",
     "text": [
      "C:\\Users\\Tanya Batra\\AppData\\Local\\Programs\\Python\\Python312\\Lib\\site-packages\\sklearn\\utils\\validation.py:2732: UserWarning: X has feature names, but StandardScaler was fitted without feature names\n",
      "  warnings.warn(\n"
     ]
    },
    {
     "name": "stdout",
     "output_type": "stream",
     "text": [
      "ALERT: 🚨 Attack detected at Thu Apr 10 01:11:45 2025 | Data: [[ 8.00000000e+01  8.38878000e+06  4.00000000e+00  0.00000000e+00\n",
      "   2.40000000e+01  0.00000000e+00  6.00000000e+00  6.00000000e+00\n",
      "   6.00000000e+00  0.00000000e+00  0.00000000e+00  0.00000000e+00\n",
      "   0.00000000e+00  0.00000000e+00  2.86096429e+00  4.76827381e-01\n",
      "   2.79626000e+06  4.83964226e+06  8.38459700e+06  4.00000000e+00\n",
      "   8.38878000e+06  2.79626000e+06  4.83964226e+06  8.38459700e+06\n",
      "   4.00000000e+00  0.00000000e+00  0.00000000e+00  0.00000000e+00\n",
      "   0.00000000e+00  0.00000000e+00  0.00000000e+00  0.00000000e+00\n",
      "   0.00000000e+00  0.00000000e+00  8.00000000e+01  0.00000000e+00\n",
      "   4.76827381e-01  0.00000000e+00  6.00000000e+00  6.00000000e+00\n",
      "   6.00000000e+00  0.00000000e+00  0.00000000e+00  0.00000000e+00\n",
      "   0.00000000e+00  0.00000000e+00  0.00000000e+00  1.00000000e+00\n",
      "   0.00000000e+00  0.00000000e+00  0.00000000e+00  0.00000000e+00\n",
      "   7.50000000e+00  6.00000000e+00  0.00000000e+00  8.00000000e+01\n",
      "   0.00000000e+00  0.00000000e+00  0.00000000e+00  0.00000000e+00\n",
      "   0.00000000e+00  0.00000000e+00  4.00000000e+00  2.40000000e+01\n",
      "   0.00000000e+00  0.00000000e+00  2.56000000e+02 -1.00000000e+00\n",
      "   3.00000000e+00  2.00000000e+01  4.18300000e+03  0.00000000e+00\n",
      "   4.18300000e+03  4.18300000e+03  8.38459700e+06  0.00000000e+00\n",
      "   8.38459700e+06  8.38459700e+06]]\n"
     ]
    },
    {
     "name": "stderr",
     "output_type": "stream",
     "text": [
      "C:\\Users\\Tanya Batra\\AppData\\Local\\Programs\\Python\\Python312\\Lib\\site-packages\\sklearn\\utils\\validation.py:2732: UserWarning: X has feature names, but StandardScaler was fitted without feature names\n",
      "  warnings.warn(\n"
     ]
    },
    {
     "name": "stdout",
     "output_type": "stream",
     "text": [
      "ALERT: 🚨 Attack detected at Thu Apr 10 01:11:50 2025 | Data: [[8.00000000e+01 3.67263000e+05 3.00000000e+00 6.00000000e+00\n",
      "  2.60000000e+01 1.16010000e+04 2.00000000e+01 0.00000000e+00\n",
      "  8.66666667e+00 1.02632029e+01 4.38000000e+03 0.00000000e+00\n",
      "  1.93350000e+03 1.75778995e+03 3.16585118e+04 2.45055995e+01\n",
      "  4.59078750e+04 1.25971959e+05 3.57618000e+05 4.90000000e+01\n",
      "  9.02000000e+03 4.51000000e+03 3.57088924e+03 7.03500000e+03\n",
      "  1.98500000e+03 3.67161000e+05 7.34322000e+04 1.58914184e+05\n",
      "  3.57618000e+05 4.90000000e+01 0.00000000e+00 0.00000000e+00\n",
      "  0.00000000e+00 0.00000000e+00 7.20000000e+01 1.32000000e+02\n",
      "  8.16853318e+00 1.63370664e+01 0.00000000e+00 4.38000000e+03\n",
      "  1.16270000e+03 1.64524176e+03 2.70682046e+06 0.00000000e+00\n",
      "  0.00000000e+00 0.00000000e+00 1.00000000e+00 0.00000000e+00\n",
      "  0.00000000e+00 0.00000000e+00 0.00000000e+00 2.00000000e+00\n",
      "  1.29188889e+03 8.66666667e+00 1.93350000e+03 7.20000000e+01\n",
      "  0.00000000e+00 0.00000000e+00 0.00000000e+00 0.00000000e+00\n",
      "  0.00000000e+00 0.00000000e+00 3.00000000e+00 2.60000000e+01\n",
      "  6.00000000e+00 1.16010000e+04 8.19200000e+03 2.29000000e+02\n",
      "  2.00000000e+00 2.00000000e+01 0.00000000e+00 0.00000000e+00\n",
      "  0.00000000e+00 0.00000000e+00 0.00000000e+00 0.00000000e+00\n",
      "  0.00000000e+00 0.00000000e+00]]\n"
     ]
    },
    {
     "name": "stderr",
     "output_type": "stream",
     "text": [
      "C:\\Users\\Tanya Batra\\AppData\\Local\\Programs\\Python\\Python312\\Lib\\site-packages\\sklearn\\utils\\validation.py:2732: UserWarning: X has feature names, but StandardScaler was fitted without feature names\n",
      "  warnings.warn(\n"
     ]
    },
    {
     "name": "stdout",
     "output_type": "stream",
     "text": [
      "ALERT: 🚨 Attack detected at Thu Apr 10 01:11:55 2025 | Data: [[ 8.00000000e+01  1.05656000e+06  5.00000000e+00  0.00000000e+00\n",
      "   3.00000000e+01  0.00000000e+00  6.00000000e+00  6.00000000e+00\n",
      "   6.00000000e+00  0.00000000e+00  0.00000000e+00  0.00000000e+00\n",
      "   0.00000000e+00  0.00000000e+00  2.83940335e+01  4.73233891e+00\n",
      "   2.64140000e+05  5.27281464e+05  1.05506200e+06  2.09000000e+02\n",
      "   1.05656000e+06  2.64140000e+05  5.27281464e+05  1.05506200e+06\n",
      "   2.09000000e+02  0.00000000e+00  0.00000000e+00  0.00000000e+00\n",
      "   0.00000000e+00  0.00000000e+00  0.00000000e+00  0.00000000e+00\n",
      "   0.00000000e+00  0.00000000e+00  1.00000000e+02  0.00000000e+00\n",
      "   4.73233891e+00  0.00000000e+00  6.00000000e+00  6.00000000e+00\n",
      "   6.00000000e+00  0.00000000e+00  0.00000000e+00  0.00000000e+00\n",
      "   0.00000000e+00  0.00000000e+00  0.00000000e+00  1.00000000e+00\n",
      "   0.00000000e+00  0.00000000e+00  0.00000000e+00  0.00000000e+00\n",
      "   7.20000000e+00  6.00000000e+00  0.00000000e+00  1.00000000e+02\n",
      "   0.00000000e+00  0.00000000e+00  0.00000000e+00  0.00000000e+00\n",
      "   0.00000000e+00  0.00000000e+00  5.00000000e+00  3.00000000e+01\n",
      "   0.00000000e+00  0.00000000e+00  2.56000000e+02 -1.00000000e+00\n",
      "   4.00000000e+00  2.00000000e+01  0.00000000e+00  0.00000000e+00\n",
      "   0.00000000e+00  0.00000000e+00  0.00000000e+00  0.00000000e+00\n",
      "   0.00000000e+00  0.00000000e+00]]\n"
     ]
    },
    {
     "name": "stderr",
     "output_type": "stream",
     "text": [
      "C:\\Users\\Tanya Batra\\AppData\\Local\\Programs\\Python\\Python312\\Lib\\site-packages\\sklearn\\utils\\validation.py:2732: UserWarning: X has feature names, but StandardScaler was fitted without feature names\n",
      "  warnings.warn(\n"
     ]
    },
    {
     "name": "stdout",
     "output_type": "stream",
     "text": [
      "ALERT: 🚨 Attack detected at Thu Apr 10 01:12:00 2025 | Data: [[8.00000000e+01 4.20910000e+04 3.00000000e+00 5.00000000e+00\n",
      "  2.60000000e+01 1.16010000e+04 2.00000000e+01 0.00000000e+00\n",
      "  8.66666667e+00 1.02632029e+01 4.38000000e+03 0.00000000e+00\n",
      "  2.32020000e+03 2.20734121e+03 2.76234824e+05 1.90064384e+02\n",
      "  6.01300000e+03 1.38213485e+04 3.71680000e+04 1.60000000e+01\n",
      "  4.49700000e+03 2.24850000e+03 2.78529361e+03 4.21800000e+03\n",
      "  2.79000000e+02 4.20750000e+04 1.05187500e+04 1.78829319e+04\n",
      "  3.71680000e+04 1.93000000e+02 0.00000000e+00 0.00000000e+00\n",
      "  0.00000000e+00 0.00000000e+00 7.20000000e+01 1.12000000e+02\n",
      "  7.12741441e+01 1.18790240e+02 0.00000000e+00 4.38000000e+03\n",
      "  1.29188889e+03 1.98071025e+03 3.92321311e+06 0.00000000e+00\n",
      "  0.00000000e+00 0.00000000e+00 1.00000000e+00 0.00000000e+00\n",
      "  0.00000000e+00 0.00000000e+00 0.00000000e+00 1.00000000e+00\n",
      "  1.45337500e+03 8.66666667e+00 2.32020000e+03 7.20000000e+01\n",
      "  0.00000000e+00 0.00000000e+00 0.00000000e+00 0.00000000e+00\n",
      "  0.00000000e+00 0.00000000e+00 3.00000000e+00 2.60000000e+01\n",
      "  5.00000000e+00 1.16010000e+04 8.19200000e+03 2.29000000e+02\n",
      "  2.00000000e+00 2.00000000e+01 0.00000000e+00 0.00000000e+00\n",
      "  0.00000000e+00 0.00000000e+00 0.00000000e+00 0.00000000e+00\n",
      "  0.00000000e+00 0.00000000e+00]]\n"
     ]
    },
    {
     "name": "stderr",
     "output_type": "stream",
     "text": [
      "C:\\Users\\Tanya Batra\\AppData\\Local\\Programs\\Python\\Python312\\Lib\\site-packages\\sklearn\\utils\\validation.py:2732: UserWarning: X has feature names, but StandardScaler was fitted without feature names\n",
      "  warnings.warn(\n"
     ]
    },
    {
     "name": "stdout",
     "output_type": "stream",
     "text": [
      "ALERT: 🚨 Attack detected at Thu Apr 10 01:12:05 2025 | Data: [[ 8.00000000e+01  1.33100700e+06  5.00000000e+00  0.00000000e+00\n",
      "   3.00000000e+01  0.00000000e+00  6.00000000e+00  6.00000000e+00\n",
      "   6.00000000e+00  0.00000000e+00  0.00000000e+00  0.00000000e+00\n",
      "   0.00000000e+00  0.00000000e+00  2.25393255e+01  3.75655425e+00\n",
      "   3.32751750e+05  6.63729179e+05  1.32834500e+06  1.00000000e+00\n",
      "   1.33100700e+06  3.32751750e+05  6.63729179e+05  1.32834500e+06\n",
      "   1.00000000e+00  0.00000000e+00  0.00000000e+00  0.00000000e+00\n",
      "   0.00000000e+00  0.00000000e+00  0.00000000e+00  0.00000000e+00\n",
      "   0.00000000e+00  0.00000000e+00  1.00000000e+02  0.00000000e+00\n",
      "   3.75655425e+00  0.00000000e+00  6.00000000e+00  6.00000000e+00\n",
      "   6.00000000e+00  0.00000000e+00  0.00000000e+00  0.00000000e+00\n",
      "   0.00000000e+00  0.00000000e+00  0.00000000e+00  1.00000000e+00\n",
      "   0.00000000e+00  0.00000000e+00  0.00000000e+00  0.00000000e+00\n",
      "   7.20000000e+00  6.00000000e+00  0.00000000e+00  1.00000000e+02\n",
      "   0.00000000e+00  0.00000000e+00  0.00000000e+00  0.00000000e+00\n",
      "   0.00000000e+00  0.00000000e+00  5.00000000e+00  3.00000000e+01\n",
      "   0.00000000e+00  0.00000000e+00  2.56000000e+02 -1.00000000e+00\n",
      "   4.00000000e+00  2.00000000e+01  0.00000000e+00  0.00000000e+00\n",
      "   0.00000000e+00  0.00000000e+00  0.00000000e+00  0.00000000e+00\n",
      "   0.00000000e+00  0.00000000e+00]]\n"
     ]
    },
    {
     "name": "stderr",
     "output_type": "stream",
     "text": [
      "C:\\Users\\Tanya Batra\\AppData\\Local\\Programs\\Python\\Python312\\Lib\\site-packages\\sklearn\\utils\\validation.py:2732: UserWarning: X has feature names, but StandardScaler was fitted without feature names\n",
      "  warnings.warn(\n"
     ]
    },
    {
     "name": "stdout",
     "output_type": "stream",
     "text": [
      "SAFE ✅ : Normal Traffic at Thu Apr 10 01:12:10 2025\n"
     ]
    },
    {
     "name": "stderr",
     "output_type": "stream",
     "text": [
      "C:\\Users\\Tanya Batra\\AppData\\Local\\Programs\\Python\\Python312\\Lib\\site-packages\\sklearn\\utils\\validation.py:2732: UserWarning: X has feature names, but StandardScaler was fitted without feature names\n",
      "  warnings.warn(\n"
     ]
    },
    {
     "name": "stdout",
     "output_type": "stream",
     "text": [
      "SAFE ✅ : Normal Traffic at Thu Apr 10 01:12:15 2025\n"
     ]
    },
    {
     "ename": "KeyboardInterrupt",
     "evalue": "",
     "output_type": "error",
     "traceback": [
      "\u001b[1;31m---------------------------------------------------------------------------\u001b[0m",
      "\u001b[1;31mKeyboardInterrupt\u001b[0m                         Traceback (most recent call last)",
      "Cell \u001b[1;32mIn[4], line 24\u001b[0m\n\u001b[0;32m     21\u001b[0m \u001b[38;5;28;01melse\u001b[39;00m:\n\u001b[0;32m     22\u001b[0m      \u001b[38;5;28mprint\u001b[39m(\u001b[38;5;124mf\u001b[39m\u001b[38;5;124m\"\u001b[39m\u001b[38;5;124mSAFE ✅ : Normal Traffic at \u001b[39m\u001b[38;5;132;01m{\u001b[39;00mtime\u001b[38;5;241m.\u001b[39mctime()\u001b[38;5;132;01m}\u001b[39;00m\u001b[38;5;124m\"\u001b[39m)\n\u001b[1;32m---> 24\u001b[0m \u001b[43mtime\u001b[49m\u001b[38;5;241;43m.\u001b[39;49m\u001b[43msleep\u001b[49m\u001b[43m(\u001b[49m\u001b[38;5;241;43m5\u001b[39;49m\u001b[43m)\u001b[49m \n",
      "\u001b[1;31mKeyboardInterrupt\u001b[0m: "
     ]
    }
   ],
   "source": [
    "\"\"\"Real Time Simulation\"\"\"\n",
    "import time\n",
    "import os\n",
    "\n",
    "print(\"Real-Time Intrusion Detection System Activated... ⚡\")\n",
    "\n",
    "\n",
    "#We assume that we are reading data every few seconds\n",
    "while True:\n",
    "\n",
    "    new_data = X.sample(1) #random row\n",
    "\n",
    "    new_scaled = scaler.transform(new_data)\n",
    "    pred = xgb.predict(new_scaled)\n",
    "\n",
    "    if pred[0] == 1:\n",
    "         print(f\"ALERT: 🚨 Attack detected at {time.ctime()} | Data: {new_data.values}\")\n",
    "         with open(\"alerts_log.txt\", \"a\") as f:\n",
    "            f.write(f\"ATTACK at {time.ctime()} | {new_data.values}\\n\")\n",
    "\n",
    "    else:\n",
    "         print(f\"SAFE ✅ : Normal Traffic at {time.ctime()}\")\n",
    "\n",
    "    time.sleep(5) \n",
    "        "
   ]
  },
  {
   "cell_type": "code",
   "execution_count": 95,
   "id": "9646003c-830d-421b-bb39-0761cae68b88",
   "metadata": {},
   "outputs": [
    {
     "name": "stdout",
     "output_type": "stream",
     "text": [
      "Original Features: 78\n",
      "PCA Reduced Features: 21\n"
     ]
    },
    {
     "data": {
      "image/png": "[encoded data removed]",
      "text/plain": [
       "<Figure size 800x500 with 1 Axes>"
      ]
     },
     "metadata": {},
     "output_type": "display_data"
    }
   ],
   "source": [
    "from sklearn.decomposition import PCA\n",
    "from sklearn.model_selection import train_test_split\n",
    "from xgboost import XGBClassifier\n",
    "from sklearn.metrics import accuracy_score, confusion_matrix, classification_report\n",
    "import matplotlib.pyplot as plt\n",
    "\n",
    "pca = PCA(n_components = 0.95) #variance = 95%\n",
    "\n",
    "\n",
    "X_pca = pca.fit_transform(X_scaled)\n",
    "\n",
    "X_pca_df = pd.DataFrame(X_pca)\n",
    "\n",
    "X_pca_df.to_csv('X_pca.csv', index=False)\n",
    "\n",
    "print(f'Original Features: {X_scaled.shape[1]}')\n",
    "print(f'PCA Reduced Features: {X_pca.shape[1]}')\n",
    "\n",
    "joblib.dump(pca, 'pca.pkl')\n",
    "\n",
    "plt.figure(figsize=(8,5))\n",
    "plt.plot(range(1, len(pca.explained_variance_ratio_)+1), \n",
    "         pca.explained_variance_ratio_.cumsum(), marker='o')\n",
    "plt.xlabel('Number of Components')\n",
    "plt.ylabel('Cumulative Explained Variance')\n",
    "plt.grid()\n",
    "plt.show()"
   ]
  },
  {
   "cell_type": "code",
   "execution_count": 23,
   "id": "b63e68c9-086c-4864-a292-8ccd5b293cf0",
   "metadata": {},
   "outputs": [
    {
     "name": "stdout",
     "output_type": "stream",
     "text": [
      "0.9998006335422989\n",
      "[[19414     5]\n",
      " [    4 25720]]\n",
      "              precision    recall  f1-score   support\n",
      "\n",
      "           0       1.00      1.00      1.00     19419\n",
      "           1       1.00      1.00      1.00     25724\n",
      "\n",
      "    accuracy                           1.00     45143\n",
      "   macro avg       1.00      1.00      1.00     45143\n",
      "weighted avg       1.00      1.00      1.00     45143\n",
      "\n"
     ]
    }
   ],
   "source": [
    "# Train-Test Split\n",
    "X_train, X_test, y_train, y_test = train_test_split(X_pca, y, test_size=0.2, random_state=42)\n",
    "\n",
    "# Train Model\n",
    "xgb_pca = XGBClassifier()\n",
    "xgb_pca.fit(X_train, y_train)\n",
    "\n",
    "# Predict\n",
    "y_pred = xgb_pca.predict(X_test)\n",
    "\n",
    "# Evaluate\n",
    "print(accuracy_score(y_test, y_pred))\n",
    "print(confusion_matrix(y_test, y_pred))\n",
    "print(classification_report(y_test, y_pred))"
   ]
  },
  {
   "cell_type": "code",
   "execution_count": 13,
   "id": "5371fd52-29bf-41fc-ada8-0dbbfff1ed19",
   "metadata": {},
   "outputs": [
    {
     "name": "stdout",
     "output_type": "stream",
     "text": [
      "Collecting lightgbmNote: you may need to restart the kernel to use updated packages.\n",
      "\n",
      "  Downloading lightgbm-4.6.0-py3-none-win_amd64.whl.metadata (17 kB)\n",
      "Requirement already satisfied: numpy>=1.17.0 in c:\\users\\tanya batra\\appdata\\local\\programs\\python\\python312\\lib\\site-packages (from lightgbm) (1.26.2)\n",
      "Requirement already satisfied: scipy in c:\\users\\tanya batra\\appdata\\local\\programs\\python\\python312\\lib\\site-packages (from lightgbm) (1.15.2)\n",
      "Downloading lightgbm-4.6.0-py3-none-win_amd64.whl (1.5 MB)\n",
      "   ---------------------------------------- 0.0/1.5 MB ? eta -:--:--\n",
      "   ---------------------------------------- 0.0/1.5 MB ? eta -:--:--\n",
      "   --------------------- ------------------ 0.8/1.5 MB 4.2 MB/s eta 0:00:01\n",
      "   ------------------------------------ --- 1.3/1.5 MB 4.5 MB/s eta 0:00:01\n",
      "   ---------------------------------------- 1.5/1.5 MB 2.9 MB/s eta 0:00:00\n",
      "Installing collected packages: lightgbm\n",
      "Successfully installed lightgbm-4.6.0\n"
     ]
    }
   ],
   "source": [
    "%pip install lightgbm"
   ]
  },
  {
   "cell_type": "code",
   "execution_count": 23,
   "id": "62073a86-fee8-431d-bc4d-f9ac29be2291",
   "metadata": {},
   "outputs": [
    {
     "name": "stdout",
     "output_type": "stream",
     "text": [
      "[LightGBM] [Info] Number of positive: 102301, number of negative: 78267\n",
      "[LightGBM] [Info] Auto-choosing col-wise multi-threading, the overhead of testing was 0.071037 seconds.\n",
      "You can set `force_col_wise=true` to remove the overhead.\n",
      "[LightGBM] [Info] Total Bins 5355\n",
      "[LightGBM] [Info] Number of data points in the train set: 180568, number of used features: 21\n",
      "[LightGBM] [Info] [binary:BoostFromScore]: pavg=0.566551 -> initscore=0.267793\n",
      "[LightGBM] [Info] Start training from score 0.267793\n"
     ]
    },
    {
     "name": "stderr",
     "output_type": "stream",
     "text": [
      "C:\\Users\\Tanya Batra\\AppData\\Local\\Programs\\Python\\Python312\\Lib\\site-packages\\sklearn\\utils\\validation.py:2739: UserWarning: X does not have valid feature names, but LGBMClassifier was fitted with feature names\n",
      "  warnings.warn(\n"
     ]
    },
    {
     "name": "stdout",
     "output_type": "stream",
     "text": [
      "0.9997784817136655\n",
      "[[19414     5]\n",
      " [    5 25719]]\n",
      "              precision    recall  f1-score   support\n",
      "\n",
      "           0       1.00      1.00      1.00     19419\n",
      "           1       1.00      1.00      1.00     25724\n",
      "\n",
      "    accuracy                           1.00     45143\n",
      "   macro avg       1.00      1.00      1.00     45143\n",
      "weighted avg       1.00      1.00      1.00     45143\n",
      "\n"
     ]
    }
   ],
   "source": [
    "import lightgbm as lgb\n",
    "from sklearn.metrics import accuracy_score, classification_report, confusion_matrix\n",
    "\n",
    "lgb = lgb.LGBMClassifier()\n",
    "\n",
    "lgb.fit(X_train, y_train)\n",
    "\n",
    "#lgb.predict(X_test)\n",
    "\n",
    "y_pred_lgb = lgb.predict(X_test)\n",
    "\n",
    "print(accuracy_score(y_test, y_pred_lgb))\n",
    "\n",
    "# Metrics\n",
    "print(confusion_matrix(y_test, y_pred_lgb))\n",
    "print(classification_report(y_test, y_pred_lgb))\n"
   ]
  },
  {
   "cell_type": "code",
   "execution_count": null,
   "id": "90f90551-92f3-4500-8c13-9d1bb877b517",
   "metadata": {},
   "outputs": [],
   "source": [
    "%pip install catboost"
   ]
  },
  {
   "cell_type": "code",
   "execution_count": 25,
   "id": "1fca3154-186a-4092-a640-f4326148132f",
   "metadata": {},
   "outputs": [
    {
     "ename": "ModuleNotFoundError",
     "evalue": "No module named 'catboost'",
     "output_type": "error",
     "traceback": [
      "\u001b[1;31m---------------------------------------------------------------------------\u001b[0m",
      "\u001b[1;31mModuleNotFoundError\u001b[0m                       Traceback (most recent call last)",
      "Cell \u001b[1;32mIn[25], line 1\u001b[0m\n\u001b[1;32m----> 1\u001b[0m \u001b[38;5;28;01mfrom\u001b[39;00m \u001b[38;5;21;01mcatboost\u001b[39;00m \u001b[38;5;28;01mimport\u001b[39;00m CatBoostClassifier\n\u001b[0;32m      2\u001b[0m \u001b[38;5;28;01mfrom\u001b[39;00m \u001b[38;5;21;01msklearn\u001b[39;00m\u001b[38;5;21;01m.\u001b[39;00m\u001b[38;5;21;01mmetrics\u001b[39;00m \u001b[38;5;28;01mimport\u001b[39;00m accuracy_score, confusion_matrix, classification_report\n",
      "\u001b[1;31mModuleNotFoundError\u001b[0m: No module named 'catboost'"
     ]
    }
   ],
   "source": [
    "from catboost import CatBoostClassifier\n",
    "from sklearn.metrics import accuracy_score, confusion_matrix, classification_report\n",
    "\n",
    "cat = CatBoostClassifier(verbose=100, random_state=42)\n",
    "\n",
    "cat.fit(X_train_pca, y_train)\n",
    "\n",
    "y_pred_cat = cat.predict(X_test_pca)\n",
    "\n",
    "# Metrics\n",
    "print(accuracy_score(y_test, y_pred_cat))\n",
    "print(confusion_matrix(y_test, y_pred_cat))\n",
    "print(classification_report(y_test, y_pred_cat))"
   ]
  },
  {
   "cell_type": "code",
   "execution_count": 17,
   "id": "00c94431-703d-44b7-8a7d-91a6732cb817",
   "metadata": {},
   "outputs": [],
   "source": [
    "import joblib\n",
    "\n",
    "model = joblib.load('models/cat_model.pkl')  # or 'cat_model.pkl'\n",
    "\n",
    "\n"
   ]
  },
  {
   "cell_type": "code",
   "execution_count": 66,
   "id": "1d9a6cbf-9331-4af0-b68f-07daf3418ace",
   "metadata": {},
   "outputs": [
    {
     "data": {
      "text/plain": [
       "'def real_time_predict(data):\\n    prediction = model.predict(data)\\n\\n    for i, pred in enumerate(prediction):\\n        if pred == 1:\\n            print(f\"Row {i+1} → 🚨 ALERT: Attack Detected!\")\\n        else:\\n            print(f\"Row {i+1} → ✅ Safe Traffic.\")\\n\\n    return prediction'"
      ]
     },
     "execution_count": 66,
     "metadata": {},
     "output_type": "execute_result"
    }
   ],
   "source": [
    "\"\"\"def real_time_predict(data):\n",
    "    prediction = model.predict(data)\n",
    "\n",
    "    for i, pred in enumerate(prediction):\n",
    "        if pred == 1:\n",
    "            print(f\"Row {i+1} → 🚨 ALERT: Attack Detected!\")\n",
    "        else:\n",
    "            print(f\"Row {i+1} → ✅ Safe Traffic.\")\n",
    "\n",
    "    return prediction\"\"\"\n",
    "\n"
   ]
  },
  {
   "cell_type": "code",
   "execution_count": 67,
   "id": "21431148-caab-4042-9071-703081fbdb6b",
   "metadata": {},
   "outputs": [
    {
     "data": {
      "text/plain": [
       "\"import pandas as pd\\n\\ndf = pd.read_csv('X_pca.csv')  \\n\\n# Pick 5 random rows to simulate real-time traffic\\nreal_time_samples = df.sample(5)\\n\\nprint(real_time_samples)\""
      ]
     },
     "execution_count": 67,
     "metadata": {},
     "output_type": "execute_result"
    }
   ],
   "source": [
    "\"\"\"import pandas as pd\n",
    "\n",
    "df = pd.read_csv('X_pca.csv')  \n",
    "\n",
    "# Pick 5 random rows to simulate real-time traffic\n",
    "real_time_samples = df.sample(5)\n",
    "\n",
    "print(real_time_samples)\"\"\"\n",
    "\n"
   ]
  },
  {
   "cell_type": "code",
   "execution_count": 68,
   "id": "ce533730-94f7-4d74-a20b-e145a0c026e1",
   "metadata": {},
   "outputs": [],
   "source": [
    "#real_time_predict(real_time_samples)"
   ]
  },
  {
   "cell_type": "code",
   "execution_count": 131,
   "id": "d37ce6b2-108d-4aac-8f0c-b33fa0abb66e",
   "metadata": {},
   "outputs": [],
   "source": [
    "#FINAL CODE FOR REAL TIME TRAFFIC ANALYSIS\n",
    "\n",
    "#Real-Time Ideal Logic:\n",
    "#→ Raw input → Preprocessing → PCA → Predict → Alert → Auto-Log\n",
    "\n",
    "import pandas as pd\n",
    "import pickle\n",
    "import time\n",
    "import os\n",
    "# Load Models\n",
    "scaler = joblib.load('models/scaler.pkl')\n",
    "pca = joblib.load(open('models/pca.pkl', 'rb'))\n",
    "model = joblib.load(open('models/cat_model.pkl', 'rb'))\n",
    "\n",
    "\n",
    "def real_time_predict(raw_data):\n",
    "    # Ensure correct features\n",
    "    if raw_data.shape[1] > scaler.n_features_in_:\n",
    "        raw_data = raw_data.iloc[:, :scaler.n_features_in_]\n",
    "\n",
    "    # Preprocess\n",
    "    processed = scaler.transform(raw_data.values)\n",
    "\n",
    "    # PCA Transform\n",
    "    pca_data = pca.transform(processed)\n",
    "\n",
    "    # Predict\n",
    "    prediction = model.predict(pca_data)\n",
    "\n",
    "    for i, pred in enumerate(prediction):\n",
    "        if pred == 1:\n",
    "            print(f\"Row {i+1} → 🚨 ALERT: Attack Detected!\")\n",
    "            with open(\"alerts_log.txt\", \"a\") as f:\n",
    "                f.write(f\"ATTACK at {time.ctime()} \\n\\n\")\n",
    "        else:\n",
    "            print(f\"Row {i+1} → ✅ Safe Traffic.\")\n",
    "\n",
    "    time.sleep(5)\n",
    "\n",
    "    raw_data['Prediction'] = prediction\n",
    "    raw_data.to_csv('realtime_logs.csv', mode='a', index=False)\n",
    "    \n",
    "     \n",
    "    return prediction\n",
    "    \n",
    "\n"
   ]
  },
  {
   "cell_type": "code",
   "execution_count": 129,
   "id": "f8b73475-d580-4693-9596-0b72edb4c655",
   "metadata": {},
   "outputs": [],
   "source": [
    "df = pd.read_csv('clean_cicids.csv')  # RAW UNTOUCHED DATA\n",
    "sample = df.sample(25)\n",
    "#print(sample)\n",
    "\n"
   ]
  },
  {
   "cell_type": "code",
   "execution_count": 130,
   "id": "c7bb45dd-bfb8-4f16-b05d-d64459d05584",
   "metadata": {},
   "outputs": [
    {
     "name": "stdout",
     "output_type": "stream",
     "text": [
      "Row 1 → ✅ Safe Traffic.\n",
      "Row 2 → ✅ Safe Traffic.\n",
      "Row 3 → 🚨 ALERT: Attack Detected!\n",
      "Row 4 → ✅ Safe Traffic.\n",
      "Row 5 → 🚨 ALERT: Attack Detected!\n",
      "Row 6 → 🚨 ALERT: Attack Detected!\n",
      "Row 7 → ✅ Safe Traffic.\n",
      "Row 8 → 🚨 ALERT: Attack Detected!\n",
      "Row 9 → 🚨 ALERT: Attack Detected!\n",
      "Row 10 → 🚨 ALERT: Attack Detected!\n",
      "Row 11 → 🚨 ALERT: Attack Detected!\n",
      "Row 12 → 🚨 ALERT: Attack Detected!\n",
      "Row 13 → 🚨 ALERT: Attack Detected!\n",
      "Row 14 → 🚨 ALERT: Attack Detected!\n",
      "Row 15 → ✅ Safe Traffic.\n",
      "Row 16 → ✅ Safe Traffic.\n",
      "Row 17 → 🚨 ALERT: Attack Detected!\n",
      "Row 18 → 🚨 ALERT: Attack Detected!\n",
      "Row 19 → 🚨 ALERT: Attack Detected!\n",
      "Row 20 → 🚨 ALERT: Attack Detected!\n",
      "Row 21 → ✅ Safe Traffic.\n",
      "Row 22 → 🚨 ALERT: Attack Detected!\n",
      "Row 23 → ✅ Safe Traffic.\n",
      "Row 24 → 🚨 ALERT: Attack Detected!\n",
      "Row 25 → ✅ Safe Traffic.\n"
     ]
    },
    {
     "data": {
      "text/plain": [
       "array([0, 0, 1, 0, 1, 1, 0, 1, 1, 1, 1, 1, 1, 1, 0, 0, 1, 1, 1, 1, 0, 1,\n",
       "       0, 1, 0], dtype=int64)"
      ]
     },
     "execution_count": 130,
     "metadata": {},
     "output_type": "execute_result"
    }
   ],
   "source": [
    "real_time_predict(sample)"
   ]
  },
  {
   "cell_type": "code",
   "execution_count": null,
   "id": "e2cf1db5-aa49-462e-9b98-f17ebce5d21e",
   "metadata": {},
   "outputs": [],
   "source": []
  }
 ],
 "metadata": {
  "kernelspec": {
   "display_name": "Python 3 (ipykernel)",
   "language": "python",
   "name": "python3"
  },
  "language_info": {
   "codemirror_mode": {
    "name": "ipython",
    "version": 3
   },
   "file_extension": ".py",
   "mimetype": "text/x-python",
   "name": "python",
   "nbconvert_exporter": "python",
   "pygments_lexer": "ipython3",
   "version": "3.12.0"
  }
 },
 "nbformat": 4,
 "nbformat_minor": 5
}
